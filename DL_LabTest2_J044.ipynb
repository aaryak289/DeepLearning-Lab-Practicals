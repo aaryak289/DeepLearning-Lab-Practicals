{
  "nbformat": 4,
  "nbformat_minor": 0,
  "metadata": {
    "colab": {
      "name": "DL_LabTest2_J044.ipynb",
      "provenance": [],
      "collapsed_sections": [],
      "include_colab_link": true
    },
    "kernelspec": {
      "name": "python3",
      "display_name": "Python 3"
    },
    "accelerator": "GPU"
  },
  "cells": [
    {
      "cell_type": "markdown",
      "metadata": {
        "id": "view-in-github",
        "colab_type": "text"
      },
      "source": [
        "<a href=\"https://colab.research.google.com/github/aaryak289/DeepLearning-Lab-Practicals/blob/master/DL_LabTest2_J044.ipynb\" target=\"_parent\"><img src=\"https://colab.research.google.com/assets/colab-badge.svg\" alt=\"Open In Colab\"/></a>"
      ]
    },
    {
      "cell_type": "code",
      "metadata": {
        "id": "p-bzygDJrkDu",
        "colab_type": "code",
        "colab": {}
      },
      "source": [
        "import numpy as np\n",
        "import pandas as pd\n",
        "import cv2\n",
        "import PIL.Image\n",
        "import os"
      ],
      "execution_count": 0,
      "outputs": []
    },
    {
      "cell_type": "markdown",
      "metadata": {
        "id": "aF3SeqY5-zU-",
        "colab_type": "text"
      },
      "source": [
        "# **Loading the data images**"
      ]
    },
    {
      "cell_type": "code",
      "metadata": {
        "id": "u3OWTguxrnOG",
        "colab_type": "code",
        "outputId": "cba92638-defd-49af-861c-c570e24d2496",
        "colab": {
          "base_uri": "https://localhost:8080/",
          "height": 1000
        }
      },
      "source": [
        "!unzip \"/content/gdrive/My Drive/Unmerced.zip\""
      ],
      "execution_count": 0,
      "outputs": [
        {
          "output_type": "stream",
          "text": [
            "Archive:  /content/gdrive/My Drive/Unmerced.zip\n",
            "   creating: Unmerced/\n",
            "   creating: Unmerced/agricultural/\n",
            "  inflating: Unmerced/agricultural/agricultural00.tif  \n",
            "  inflating: Unmerced/agricultural/agricultural01.tif  \n",
            "  inflating: Unmerced/agricultural/agricultural02.tif  \n",
            "  inflating: Unmerced/agricultural/agricultural03.tif  \n",
            "  inflating: Unmerced/agricultural/agricultural04.tif  \n",
            "  inflating: Unmerced/agricultural/agricultural05.tif  \n",
            "  inflating: Unmerced/agricultural/agricultural06.tif  \n",
            "  inflating: Unmerced/agricultural/agricultural07.tif  \n",
            "  inflating: Unmerced/agricultural/agricultural08.tif  \n",
            "  inflating: Unmerced/agricultural/agricultural09.tif  \n",
            "  inflating: Unmerced/agricultural/agricultural10.tif  \n",
            "  inflating: Unmerced/agricultural/agricultural11.tif  \n",
            "  inflating: Unmerced/agricultural/agricultural12.tif  \n",
            "  inflating: Unmerced/agricultural/agricultural13.tif  \n",
            "  inflating: Unmerced/agricultural/agricultural14.tif  \n",
            "  inflating: Unmerced/agricultural/agricultural15.tif  \n",
            "  inflating: Unmerced/agricultural/agricultural16.tif  \n",
            "  inflating: Unmerced/agricultural/agricultural17.tif  \n",
            "  inflating: Unmerced/agricultural/agricultural18.tif  \n",
            "  inflating: Unmerced/agricultural/agricultural19.tif  \n",
            "  inflating: Unmerced/agricultural/agricultural20.tif  \n",
            "  inflating: Unmerced/agricultural/agricultural21.tif  \n",
            "  inflating: Unmerced/agricultural/agricultural22.tif  \n",
            "  inflating: Unmerced/agricultural/agricultural23.tif  \n",
            "  inflating: Unmerced/agricultural/agricultural24.tif  \n",
            "  inflating: Unmerced/agricultural/agricultural25.tif  \n",
            "  inflating: Unmerced/agricultural/agricultural26.tif  \n",
            "  inflating: Unmerced/agricultural/agricultural27.tif  \n",
            "  inflating: Unmerced/agricultural/agricultural28.tif  \n",
            "  inflating: Unmerced/agricultural/agricultural29.tif  \n",
            "  inflating: Unmerced/agricultural/agricultural30.tif  \n",
            "  inflating: Unmerced/agricultural/agricultural31.tif  \n",
            "  inflating: Unmerced/agricultural/agricultural32.tif  \n",
            "  inflating: Unmerced/agricultural/agricultural33.tif  \n",
            "  inflating: Unmerced/agricultural/agricultural34.tif  \n",
            "  inflating: Unmerced/agricultural/agricultural35.tif  \n",
            "  inflating: Unmerced/agricultural/agricultural36.tif  \n",
            "  inflating: Unmerced/agricultural/agricultural37.tif  \n",
            "  inflating: Unmerced/agricultural/agricultural38.tif  \n",
            "  inflating: Unmerced/agricultural/agricultural39.tif  \n",
            "  inflating: Unmerced/agricultural/agricultural40.tif  \n",
            "  inflating: Unmerced/agricultural/agricultural41.tif  \n",
            "  inflating: Unmerced/agricultural/agricultural42.tif  \n",
            "  inflating: Unmerced/agricultural/agricultural43.tif  \n",
            "  inflating: Unmerced/agricultural/agricultural44.tif  \n",
            "  inflating: Unmerced/agricultural/agricultural45.tif  \n",
            "  inflating: Unmerced/agricultural/agricultural46.tif  \n",
            "  inflating: Unmerced/agricultural/agricultural47.tif  \n",
            "  inflating: Unmerced/agricultural/agricultural48.tif  \n",
            "  inflating: Unmerced/agricultural/agricultural49.tif  \n",
            "  inflating: Unmerced/agricultural/agricultural50.tif  \n",
            "  inflating: Unmerced/agricultural/agricultural51.tif  \n",
            "  inflating: Unmerced/agricultural/agricultural52.tif  \n",
            "  inflating: Unmerced/agricultural/agricultural53.tif  \n",
            "  inflating: Unmerced/agricultural/agricultural54.tif  \n",
            "  inflating: Unmerced/agricultural/agricultural55.tif  \n",
            "  inflating: Unmerced/agricultural/agricultural56.tif  \n",
            "  inflating: Unmerced/agricultural/agricultural57.tif  \n",
            "  inflating: Unmerced/agricultural/agricultural58.tif  \n",
            "  inflating: Unmerced/agricultural/agricultural59.tif  \n",
            "  inflating: Unmerced/agricultural/agricultural60.tif  \n",
            "  inflating: Unmerced/agricultural/agricultural61.tif  \n",
            "  inflating: Unmerced/agricultural/agricultural62.tif  \n",
            "  inflating: Unmerced/agricultural/agricultural63.tif  \n",
            "  inflating: Unmerced/agricultural/agricultural64.tif  \n",
            "  inflating: Unmerced/agricultural/agricultural65.tif  \n",
            "  inflating: Unmerced/agricultural/agricultural66.tif  \n",
            "  inflating: Unmerced/agricultural/agricultural67.tif  \n",
            "  inflating: Unmerced/agricultural/agricultural68.tif  \n",
            "  inflating: Unmerced/agricultural/agricultural69.tif  \n",
            "  inflating: Unmerced/agricultural/agricultural70.tif  \n",
            "  inflating: Unmerced/agricultural/agricultural71.tif  \n",
            "  inflating: Unmerced/agricultural/agricultural72.tif  \n",
            "  inflating: Unmerced/agricultural/agricultural73.tif  \n",
            "  inflating: Unmerced/agricultural/agricultural74.tif  \n",
            "  inflating: Unmerced/agricultural/agricultural75.tif  \n",
            "  inflating: Unmerced/agricultural/agricultural76.tif  \n",
            "  inflating: Unmerced/agricultural/agricultural77.tif  \n",
            "  inflating: Unmerced/agricultural/agricultural78.tif  \n",
            "  inflating: Unmerced/agricultural/agricultural79.tif  \n",
            "  inflating: Unmerced/agricultural/agricultural80.tif  \n",
            "  inflating: Unmerced/agricultural/agricultural81.tif  \n",
            "  inflating: Unmerced/agricultural/agricultural82.tif  \n",
            "  inflating: Unmerced/agricultural/agricultural83.tif  \n",
            "  inflating: Unmerced/agricultural/agricultural84.tif  \n",
            "  inflating: Unmerced/agricultural/agricultural85.tif  \n",
            "  inflating: Unmerced/agricultural/agricultural86.tif  \n",
            "  inflating: Unmerced/agricultural/agricultural87.tif  \n",
            "  inflating: Unmerced/agricultural/agricultural88.tif  \n",
            "  inflating: Unmerced/agricultural/agricultural89.tif  \n",
            "  inflating: Unmerced/agricultural/agricultural90.tif  \n",
            "  inflating: Unmerced/agricultural/agricultural91.tif  \n",
            "  inflating: Unmerced/agricultural/agricultural92.tif  \n",
            "  inflating: Unmerced/agricultural/agricultural93.tif  \n",
            "  inflating: Unmerced/agricultural/agricultural94.tif  \n",
            "  inflating: Unmerced/agricultural/agricultural95.tif  \n",
            "  inflating: Unmerced/agricultural/agricultural96.tif  \n",
            "  inflating: Unmerced/agricultural/agricultural97.tif  \n",
            "  inflating: Unmerced/agricultural/agricultural98.tif  \n",
            "  inflating: Unmerced/agricultural/agricultural99.tif  \n",
            "   creating: Unmerced/airplane/\n",
            "  inflating: Unmerced/airplane/airplane00.tif  \n",
            "  inflating: Unmerced/airplane/airplane01.tif  \n",
            "  inflating: Unmerced/airplane/airplane02.tif  \n",
            "  inflating: Unmerced/airplane/airplane03.tif  \n",
            "  inflating: Unmerced/airplane/airplane04.tif  \n",
            "  inflating: Unmerced/airplane/airplane05.tif  \n",
            "  inflating: Unmerced/airplane/airplane06.tif  \n",
            "  inflating: Unmerced/airplane/airplane07.tif  \n",
            "  inflating: Unmerced/airplane/airplane08.tif  \n",
            "  inflating: Unmerced/airplane/airplane09.tif  \n",
            "  inflating: Unmerced/airplane/airplane10.tif  \n",
            "  inflating: Unmerced/airplane/airplane11.tif  \n",
            "  inflating: Unmerced/airplane/airplane12.tif  \n",
            "  inflating: Unmerced/airplane/airplane13.tif  \n",
            "  inflating: Unmerced/airplane/airplane14.tif  \n",
            "  inflating: Unmerced/airplane/airplane15.tif  \n",
            "  inflating: Unmerced/airplane/airplane16.tif  \n",
            "  inflating: Unmerced/airplane/airplane17.tif  \n",
            "  inflating: Unmerced/airplane/airplane18.tif  \n",
            "  inflating: Unmerced/airplane/airplane19.tif  \n",
            "  inflating: Unmerced/airplane/airplane20.tif  \n",
            "  inflating: Unmerced/airplane/airplane21.tif  \n",
            "  inflating: Unmerced/airplane/airplane22.tif  \n",
            "  inflating: Unmerced/airplane/airplane23.tif  \n",
            "  inflating: Unmerced/airplane/airplane24.tif  \n",
            "  inflating: Unmerced/airplane/airplane25.tif  \n",
            "  inflating: Unmerced/airplane/airplane26.tif  \n",
            "  inflating: Unmerced/airplane/airplane27.tif  \n",
            "  inflating: Unmerced/airplane/airplane28.tif  \n",
            "  inflating: Unmerced/airplane/airplane29.tif  \n",
            "  inflating: Unmerced/airplane/airplane30.tif  \n",
            "  inflating: Unmerced/airplane/airplane31.tif  \n",
            "  inflating: Unmerced/airplane/airplane32.tif  \n",
            "  inflating: Unmerced/airplane/airplane33.tif  \n",
            "  inflating: Unmerced/airplane/airplane34.tif  \n",
            "  inflating: Unmerced/airplane/airplane35.tif  \n",
            "  inflating: Unmerced/airplane/airplane36.tif  \n",
            "  inflating: Unmerced/airplane/airplane37.tif  \n",
            "  inflating: Unmerced/airplane/airplane38.tif  \n",
            "  inflating: Unmerced/airplane/airplane39.tif  \n",
            "  inflating: Unmerced/airplane/airplane40.tif  \n",
            "  inflating: Unmerced/airplane/airplane41.tif  \n",
            "  inflating: Unmerced/airplane/airplane42.tif  \n",
            "  inflating: Unmerced/airplane/airplane43.tif  \n",
            "  inflating: Unmerced/airplane/airplane44.tif  \n",
            "  inflating: Unmerced/airplane/airplane45.tif  \n",
            "  inflating: Unmerced/airplane/airplane46.tif  \n",
            "  inflating: Unmerced/airplane/airplane47.tif  \n",
            "  inflating: Unmerced/airplane/airplane48.tif  \n",
            "  inflating: Unmerced/airplane/airplane49.tif  \n",
            "  inflating: Unmerced/airplane/airplane50.tif  \n",
            "  inflating: Unmerced/airplane/airplane51.tif  \n",
            "  inflating: Unmerced/airplane/airplane52.tif  \n",
            "  inflating: Unmerced/airplane/airplane53.tif  \n",
            "  inflating: Unmerced/airplane/airplane54.tif  \n",
            "  inflating: Unmerced/airplane/airplane55.tif  \n",
            "  inflating: Unmerced/airplane/airplane56.tif  \n",
            "  inflating: Unmerced/airplane/airplane57.tif  \n",
            "  inflating: Unmerced/airplane/airplane58.tif  \n",
            "  inflating: Unmerced/airplane/airplane59.tif  \n",
            "  inflating: Unmerced/airplane/airplane60.tif  \n",
            "  inflating: Unmerced/airplane/airplane61.tif  \n",
            "  inflating: Unmerced/airplane/airplane62.tif  \n",
            "  inflating: Unmerced/airplane/airplane63.tif  \n",
            "  inflating: Unmerced/airplane/airplane64.tif  \n",
            "  inflating: Unmerced/airplane/airplane65.tif  \n",
            "  inflating: Unmerced/airplane/airplane66.tif  \n",
            "  inflating: Unmerced/airplane/airplane67.tif  \n",
            "  inflating: Unmerced/airplane/airplane68.tif  \n",
            "  inflating: Unmerced/airplane/airplane69.tif  \n",
            "  inflating: Unmerced/airplane/airplane70.tif  \n",
            "  inflating: Unmerced/airplane/airplane71.tif  \n",
            "  inflating: Unmerced/airplane/airplane72.tif  \n",
            "  inflating: Unmerced/airplane/airplane73.tif  \n",
            "  inflating: Unmerced/airplane/airplane74.tif  \n",
            "  inflating: Unmerced/airplane/airplane75.tif  \n",
            "  inflating: Unmerced/airplane/airplane76.tif  \n",
            "  inflating: Unmerced/airplane/airplane77.tif  \n",
            "  inflating: Unmerced/airplane/airplane78.tif  \n",
            "  inflating: Unmerced/airplane/airplane79.tif  \n",
            "  inflating: Unmerced/airplane/airplane80.tif  \n",
            "  inflating: Unmerced/airplane/airplane81.tif  \n",
            "  inflating: Unmerced/airplane/airplane82.tif  \n",
            "  inflating: Unmerced/airplane/airplane83.tif  \n",
            "  inflating: Unmerced/airplane/airplane84.tif  \n",
            "  inflating: Unmerced/airplane/airplane85.tif  \n",
            "  inflating: Unmerced/airplane/airplane86.tif  \n",
            "  inflating: Unmerced/airplane/airplane87.tif  \n",
            "  inflating: Unmerced/airplane/airplane88.tif  \n",
            "  inflating: Unmerced/airplane/airplane89.tif  \n",
            "  inflating: Unmerced/airplane/airplane90.tif  \n",
            "  inflating: Unmerced/airplane/airplane91.tif  \n",
            "  inflating: Unmerced/airplane/airplane92.tif  \n",
            "  inflating: Unmerced/airplane/airplane93.tif  \n",
            "  inflating: Unmerced/airplane/airplane94.tif  \n",
            "  inflating: Unmerced/airplane/airplane95.tif  \n",
            "  inflating: Unmerced/airplane/airplane96.tif  \n",
            "  inflating: Unmerced/airplane/airplane97.tif  \n",
            "  inflating: Unmerced/airplane/airplane98.tif  \n",
            "  inflating: Unmerced/airplane/airplane99.tif  \n",
            "   creating: Unmerced/baseballdiamond/\n",
            "  inflating: Unmerced/baseballdiamond/baseballdiamond00.tif  \n",
            "  inflating: Unmerced/baseballdiamond/baseballdiamond01.tif  \n",
            "  inflating: Unmerced/baseballdiamond/baseballdiamond02.tif  \n",
            "  inflating: Unmerced/baseballdiamond/baseballdiamond03.tif  \n",
            "  inflating: Unmerced/baseballdiamond/baseballdiamond04.tif  \n",
            "  inflating: Unmerced/baseballdiamond/baseballdiamond05.tif  \n",
            "  inflating: Unmerced/baseballdiamond/baseballdiamond06.tif  \n",
            "  inflating: Unmerced/baseballdiamond/baseballdiamond07.tif  \n",
            "  inflating: Unmerced/baseballdiamond/baseballdiamond08.tif  \n",
            "  inflating: Unmerced/baseballdiamond/baseballdiamond09.tif  \n",
            "  inflating: Unmerced/baseballdiamond/baseballdiamond10.tif  \n",
            "  inflating: Unmerced/baseballdiamond/baseballdiamond11.tif  \n",
            "  inflating: Unmerced/baseballdiamond/baseballdiamond12.tif  \n",
            "  inflating: Unmerced/baseballdiamond/baseballdiamond13.tif  \n",
            "  inflating: Unmerced/baseballdiamond/baseballdiamond14.tif  \n",
            "  inflating: Unmerced/baseballdiamond/baseballdiamond15.tif  \n",
            "  inflating: Unmerced/baseballdiamond/baseballdiamond16.tif  \n",
            "  inflating: Unmerced/baseballdiamond/baseballdiamond17.tif  \n",
            "  inflating: Unmerced/baseballdiamond/baseballdiamond18.tif  \n",
            "  inflating: Unmerced/baseballdiamond/baseballdiamond19.tif  \n",
            "  inflating: Unmerced/baseballdiamond/baseballdiamond20.tif  \n",
            "  inflating: Unmerced/baseballdiamond/baseballdiamond21.tif  \n",
            "  inflating: Unmerced/baseballdiamond/baseballdiamond22.tif  \n",
            "  inflating: Unmerced/baseballdiamond/baseballdiamond23.tif  \n",
            "  inflating: Unmerced/baseballdiamond/baseballdiamond24.tif  \n",
            "  inflating: Unmerced/baseballdiamond/baseballdiamond25.tif  \n",
            "  inflating: Unmerced/baseballdiamond/baseballdiamond26.tif  \n",
            "  inflating: Unmerced/baseballdiamond/baseballdiamond27.tif  \n",
            "  inflating: Unmerced/baseballdiamond/baseballdiamond28.tif  \n",
            "  inflating: Unmerced/baseballdiamond/baseballdiamond29.tif  \n",
            "  inflating: Unmerced/baseballdiamond/baseballdiamond30.tif  \n",
            "  inflating: Unmerced/baseballdiamond/baseballdiamond31.tif  \n",
            "  inflating: Unmerced/baseballdiamond/baseballdiamond32.tif  \n",
            "  inflating: Unmerced/baseballdiamond/baseballdiamond33.tif  \n",
            "  inflating: Unmerced/baseballdiamond/baseballdiamond34.tif  \n",
            "  inflating: Unmerced/baseballdiamond/baseballdiamond35.tif  \n",
            "  inflating: Unmerced/baseballdiamond/baseballdiamond36.tif  \n",
            "  inflating: Unmerced/baseballdiamond/baseballdiamond37.tif  \n",
            "  inflating: Unmerced/baseballdiamond/baseballdiamond38.tif  \n",
            "  inflating: Unmerced/baseballdiamond/baseballdiamond39.tif  \n",
            "  inflating: Unmerced/baseballdiamond/baseballdiamond40.tif  \n",
            "  inflating: Unmerced/baseballdiamond/baseballdiamond41.tif  \n",
            "  inflating: Unmerced/baseballdiamond/baseballdiamond42.tif  \n",
            "  inflating: Unmerced/baseballdiamond/baseballdiamond43.tif  \n",
            "  inflating: Unmerced/baseballdiamond/baseballdiamond44.tif  \n",
            "  inflating: Unmerced/baseballdiamond/baseballdiamond45.tif  \n",
            "  inflating: Unmerced/baseballdiamond/baseballdiamond46.tif  \n",
            "  inflating: Unmerced/baseballdiamond/baseballdiamond47.tif  \n",
            "  inflating: Unmerced/baseballdiamond/baseballdiamond48.tif  \n",
            "  inflating: Unmerced/baseballdiamond/baseballdiamond49.tif  \n",
            "  inflating: Unmerced/baseballdiamond/baseballdiamond50.tif  \n",
            "  inflating: Unmerced/baseballdiamond/baseballdiamond51.tif  \n",
            "  inflating: Unmerced/baseballdiamond/baseballdiamond52.tif  \n",
            "  inflating: Unmerced/baseballdiamond/baseballdiamond53.tif  \n",
            "  inflating: Unmerced/baseballdiamond/baseballdiamond54.tif  \n",
            "  inflating: Unmerced/baseballdiamond/baseballdiamond55.tif  \n",
            "  inflating: Unmerced/baseballdiamond/baseballdiamond56.tif  \n",
            "  inflating: Unmerced/baseballdiamond/baseballdiamond57.tif  \n",
            "  inflating: Unmerced/baseballdiamond/baseballdiamond58.tif  \n",
            "  inflating: Unmerced/baseballdiamond/baseballdiamond59.tif  \n",
            "  inflating: Unmerced/baseballdiamond/baseballdiamond60.tif  \n",
            "  inflating: Unmerced/baseballdiamond/baseballdiamond61.tif  \n",
            "  inflating: Unmerced/baseballdiamond/baseballdiamond62.tif  \n",
            "  inflating: Unmerced/baseballdiamond/baseballdiamond63.tif  \n",
            "  inflating: Unmerced/baseballdiamond/baseballdiamond64.tif  \n",
            "  inflating: Unmerced/baseballdiamond/baseballdiamond65.tif  \n",
            "  inflating: Unmerced/baseballdiamond/baseballdiamond66.tif  \n",
            "  inflating: Unmerced/baseballdiamond/baseballdiamond67.tif  \n",
            "  inflating: Unmerced/baseballdiamond/baseballdiamond68.tif  \n",
            "  inflating: Unmerced/baseballdiamond/baseballdiamond69.tif  \n",
            "  inflating: Unmerced/baseballdiamond/baseballdiamond70.tif  \n",
            "  inflating: Unmerced/baseballdiamond/baseballdiamond71.tif  \n",
            "  inflating: Unmerced/baseballdiamond/baseballdiamond72.tif  \n",
            "  inflating: Unmerced/baseballdiamond/baseballdiamond73.tif  \n",
            "  inflating: Unmerced/baseballdiamond/baseballdiamond74.tif  \n",
            "  inflating: Unmerced/baseballdiamond/baseballdiamond75.tif  \n",
            "  inflating: Unmerced/baseballdiamond/baseballdiamond76.tif  \n",
            "  inflating: Unmerced/baseballdiamond/baseballdiamond77.tif  \n",
            "  inflating: Unmerced/baseballdiamond/baseballdiamond78.tif  \n",
            "  inflating: Unmerced/baseballdiamond/baseballdiamond79.tif  \n",
            "  inflating: Unmerced/baseballdiamond/baseballdiamond80.tif  \n",
            "  inflating: Unmerced/baseballdiamond/baseballdiamond81.tif  \n",
            "  inflating: Unmerced/baseballdiamond/baseballdiamond82.tif  \n",
            "  inflating: Unmerced/baseballdiamond/baseballdiamond83.tif  \n",
            "  inflating: Unmerced/baseballdiamond/baseballdiamond84.tif  \n",
            "  inflating: Unmerced/baseballdiamond/baseballdiamond85.tif  \n",
            "  inflating: Unmerced/baseballdiamond/baseballdiamond86.tif  \n",
            "  inflating: Unmerced/baseballdiamond/baseballdiamond87.tif  \n",
            "  inflating: Unmerced/baseballdiamond/baseballdiamond88.tif  \n",
            "  inflating: Unmerced/baseballdiamond/baseballdiamond89.tif  \n",
            "  inflating: Unmerced/baseballdiamond/baseballdiamond90.tif  \n",
            "  inflating: Unmerced/baseballdiamond/baseballdiamond91.tif  \n",
            "  inflating: Unmerced/baseballdiamond/baseballdiamond92.tif  \n",
            "  inflating: Unmerced/baseballdiamond/baseballdiamond93.tif  \n",
            "  inflating: Unmerced/baseballdiamond/baseballdiamond94.tif  \n",
            "  inflating: Unmerced/baseballdiamond/baseballdiamond95.tif  \n",
            "  inflating: Unmerced/baseballdiamond/baseballdiamond96.tif  \n",
            "  inflating: Unmerced/baseballdiamond/baseballdiamond97.tif  \n",
            "  inflating: Unmerced/baseballdiamond/baseballdiamond98.tif  \n",
            "  inflating: Unmerced/baseballdiamond/baseballdiamond99.tif  \n",
            "   creating: Unmerced/beach/\n",
            "  inflating: Unmerced/beach/beach00.tif  \n",
            "  inflating: Unmerced/beach/beach01.tif  \n",
            "  inflating: Unmerced/beach/beach02.tif  \n",
            "  inflating: Unmerced/beach/beach03.tif  \n",
            "  inflating: Unmerced/beach/beach04.tif  \n",
            "  inflating: Unmerced/beach/beach05.tif  \n",
            "  inflating: Unmerced/beach/beach06.tif  \n",
            "  inflating: Unmerced/beach/beach07.tif  \n",
            "  inflating: Unmerced/beach/beach08.tif  \n",
            "  inflating: Unmerced/beach/beach09.tif  \n",
            "  inflating: Unmerced/beach/beach10.tif  \n",
            "  inflating: Unmerced/beach/beach11.tif  \n",
            "  inflating: Unmerced/beach/beach12.tif  \n",
            "  inflating: Unmerced/beach/beach13.tif  \n",
            "  inflating: Unmerced/beach/beach14.tif  \n",
            "  inflating: Unmerced/beach/beach15.tif  \n",
            "  inflating: Unmerced/beach/beach16.tif  \n",
            "  inflating: Unmerced/beach/beach17.tif  \n",
            "  inflating: Unmerced/beach/beach18.tif  \n",
            "  inflating: Unmerced/beach/beach19.tif  \n",
            "  inflating: Unmerced/beach/beach20.tif  \n",
            "  inflating: Unmerced/beach/beach21.tif  \n",
            "  inflating: Unmerced/beach/beach22.tif  \n",
            "  inflating: Unmerced/beach/beach23.tif  \n",
            "  inflating: Unmerced/beach/beach24.tif  \n",
            "  inflating: Unmerced/beach/beach25.tif  \n",
            "  inflating: Unmerced/beach/beach26.tif  \n",
            "  inflating: Unmerced/beach/beach27.tif  \n",
            "  inflating: Unmerced/beach/beach28.tif  \n",
            "  inflating: Unmerced/beach/beach29.tif  \n",
            "  inflating: Unmerced/beach/beach30.tif  \n",
            "  inflating: Unmerced/beach/beach31.tif  \n",
            "  inflating: Unmerced/beach/beach32.tif  \n",
            "  inflating: Unmerced/beach/beach33.tif  \n",
            "  inflating: Unmerced/beach/beach34.tif  \n",
            "  inflating: Unmerced/beach/beach35.tif  \n",
            "  inflating: Unmerced/beach/beach36.tif  \n",
            "  inflating: Unmerced/beach/beach37.tif  \n",
            "  inflating: Unmerced/beach/beach38.tif  \n",
            "  inflating: Unmerced/beach/beach39.tif  \n",
            "  inflating: Unmerced/beach/beach40.tif  \n",
            "  inflating: Unmerced/beach/beach41.tif  \n",
            "  inflating: Unmerced/beach/beach42.tif  \n",
            "  inflating: Unmerced/beach/beach43.tif  \n",
            "  inflating: Unmerced/beach/beach44.tif  \n",
            "  inflating: Unmerced/beach/beach45.tif  \n",
            "  inflating: Unmerced/beach/beach46.tif  \n",
            "  inflating: Unmerced/beach/beach47.tif  \n",
            "  inflating: Unmerced/beach/beach48.tif  \n",
            "  inflating: Unmerced/beach/beach49.tif  \n",
            "  inflating: Unmerced/beach/beach50.tif  \n",
            "  inflating: Unmerced/beach/beach51.tif  \n",
            "  inflating: Unmerced/beach/beach52.tif  \n",
            "  inflating: Unmerced/beach/beach53.tif  \n",
            "  inflating: Unmerced/beach/beach54.tif  \n",
            "  inflating: Unmerced/beach/beach55.tif  \n",
            "  inflating: Unmerced/beach/beach56.tif  \n",
            "  inflating: Unmerced/beach/beach57.tif  \n",
            "  inflating: Unmerced/beach/beach58.tif  \n",
            "  inflating: Unmerced/beach/beach59.tif  \n",
            "  inflating: Unmerced/beach/beach60.tif  \n",
            "  inflating: Unmerced/beach/beach61.tif  \n",
            "  inflating: Unmerced/beach/beach62.tif  \n",
            "  inflating: Unmerced/beach/beach63.tif  \n",
            "  inflating: Unmerced/beach/beach64.tif  \n",
            "  inflating: Unmerced/beach/beach65.tif  \n",
            "  inflating: Unmerced/beach/beach66.tif  \n",
            "  inflating: Unmerced/beach/beach67.tif  \n",
            "  inflating: Unmerced/beach/beach68.tif  \n",
            "  inflating: Unmerced/beach/beach69.tif  \n",
            "  inflating: Unmerced/beach/beach70.tif  \n",
            "  inflating: Unmerced/beach/beach71.tif  \n",
            "  inflating: Unmerced/beach/beach72.tif  \n",
            "  inflating: Unmerced/beach/beach73.tif  \n",
            "  inflating: Unmerced/beach/beach74.tif  \n",
            "  inflating: Unmerced/beach/beach75.tif  \n",
            "  inflating: Unmerced/beach/beach76.tif  \n",
            "  inflating: Unmerced/beach/beach77.tif  \n",
            "  inflating: Unmerced/beach/beach78.tif  \n",
            "  inflating: Unmerced/beach/beach79.tif  \n",
            "  inflating: Unmerced/beach/beach80.tif  \n",
            "  inflating: Unmerced/beach/beach81.tif  \n",
            "  inflating: Unmerced/beach/beach82.tif  \n",
            "  inflating: Unmerced/beach/beach83.tif  \n",
            "  inflating: Unmerced/beach/beach84.tif  \n",
            "  inflating: Unmerced/beach/beach85.tif  \n",
            "  inflating: Unmerced/beach/beach86.tif  \n",
            "  inflating: Unmerced/beach/beach87.tif  \n",
            "  inflating: Unmerced/beach/beach88.tif  \n",
            "  inflating: Unmerced/beach/beach89.tif  \n",
            "  inflating: Unmerced/beach/beach90.tif  \n",
            "  inflating: Unmerced/beach/beach91.tif  \n",
            "  inflating: Unmerced/beach/beach92.tif  \n",
            "  inflating: Unmerced/beach/beach93.tif  \n",
            "  inflating: Unmerced/beach/beach94.tif  \n",
            "  inflating: Unmerced/beach/beach95.tif  \n",
            "  inflating: Unmerced/beach/beach96.tif  \n",
            "  inflating: Unmerced/beach/beach97.tif  \n",
            "  inflating: Unmerced/beach/beach98.tif  \n",
            "  inflating: Unmerced/beach/beach99.tif  \n",
            "   creating: Unmerced/buildings/\n",
            "  inflating: Unmerced/buildings/buildings00.tif  \n",
            "  inflating: Unmerced/buildings/buildings01.tif  \n",
            "  inflating: Unmerced/buildings/buildings02.tif  \n",
            "  inflating: Unmerced/buildings/buildings03.tif  \n",
            "  inflating: Unmerced/buildings/buildings04.tif  \n",
            "  inflating: Unmerced/buildings/buildings05.tif  \n",
            "  inflating: Unmerced/buildings/buildings06.tif  \n",
            "  inflating: Unmerced/buildings/buildings07.tif  \n",
            "  inflating: Unmerced/buildings/buildings08.tif  \n",
            "  inflating: Unmerced/buildings/buildings09.tif  \n",
            "  inflating: Unmerced/buildings/buildings10.tif  \n",
            "  inflating: Unmerced/buildings/buildings11.tif  \n",
            "  inflating: Unmerced/buildings/buildings12.tif  \n",
            "  inflating: Unmerced/buildings/buildings13.tif  \n",
            "  inflating: Unmerced/buildings/buildings14.tif  \n",
            "  inflating: Unmerced/buildings/buildings15.tif  \n",
            "  inflating: Unmerced/buildings/buildings16.tif  \n",
            "  inflating: Unmerced/buildings/buildings17.tif  \n",
            "  inflating: Unmerced/buildings/buildings18.tif  \n",
            "  inflating: Unmerced/buildings/buildings19.tif  \n",
            "  inflating: Unmerced/buildings/buildings20.tif  \n",
            "  inflating: Unmerced/buildings/buildings21.tif  \n",
            "  inflating: Unmerced/buildings/buildings22.tif  \n",
            "  inflating: Unmerced/buildings/buildings23.tif  \n",
            "  inflating: Unmerced/buildings/buildings24.tif  \n",
            "  inflating: Unmerced/buildings/buildings25.tif  \n",
            "  inflating: Unmerced/buildings/buildings26.tif  \n",
            "  inflating: Unmerced/buildings/buildings27.tif  \n",
            "  inflating: Unmerced/buildings/buildings28.tif  \n",
            "  inflating: Unmerced/buildings/buildings29.tif  \n",
            "  inflating: Unmerced/buildings/buildings30.tif  \n",
            "  inflating: Unmerced/buildings/buildings31.tif  \n",
            "  inflating: Unmerced/buildings/buildings32.tif  \n",
            "  inflating: Unmerced/buildings/buildings33.tif  \n",
            "  inflating: Unmerced/buildings/buildings34.tif  \n",
            "  inflating: Unmerced/buildings/buildings35.tif  \n",
            "  inflating: Unmerced/buildings/buildings36.tif  \n",
            "  inflating: Unmerced/buildings/buildings37.tif  \n",
            "  inflating: Unmerced/buildings/buildings38.tif  \n",
            "  inflating: Unmerced/buildings/buildings39.tif  \n",
            "  inflating: Unmerced/buildings/buildings40.tif  \n",
            "  inflating: Unmerced/buildings/buildings41.tif  \n",
            "  inflating: Unmerced/buildings/buildings42.tif  \n",
            "  inflating: Unmerced/buildings/buildings43.tif  \n",
            "  inflating: Unmerced/buildings/buildings44.tif  \n",
            "  inflating: Unmerced/buildings/buildings45.tif  \n",
            "  inflating: Unmerced/buildings/buildings46.tif  \n",
            "  inflating: Unmerced/buildings/buildings47.tif  \n",
            "  inflating: Unmerced/buildings/buildings48.tif  \n",
            "  inflating: Unmerced/buildings/buildings49.tif  \n",
            "  inflating: Unmerced/buildings/buildings50.tif  \n",
            "  inflating: Unmerced/buildings/buildings51.tif  \n",
            "  inflating: Unmerced/buildings/buildings52.tif  \n",
            "  inflating: Unmerced/buildings/buildings53.tif  \n",
            "  inflating: Unmerced/buildings/buildings54.tif  \n",
            "  inflating: Unmerced/buildings/buildings55.tif  \n",
            "  inflating: Unmerced/buildings/buildings56.tif  \n",
            "  inflating: Unmerced/buildings/buildings57.tif  \n",
            "  inflating: Unmerced/buildings/buildings58.tif  \n",
            "  inflating: Unmerced/buildings/buildings59.tif  \n",
            "  inflating: Unmerced/buildings/buildings60.tif  \n",
            "  inflating: Unmerced/buildings/buildings61.tif  \n",
            "  inflating: Unmerced/buildings/buildings62.tif  \n",
            "  inflating: Unmerced/buildings/buildings63.tif  \n",
            "  inflating: Unmerced/buildings/buildings64.tif  \n",
            "  inflating: Unmerced/buildings/buildings65.tif  \n",
            "  inflating: Unmerced/buildings/buildings66.tif  \n",
            "  inflating: Unmerced/buildings/buildings67.tif  \n",
            "  inflating: Unmerced/buildings/buildings68.tif  \n",
            "  inflating: Unmerced/buildings/buildings69.tif  \n",
            "  inflating: Unmerced/buildings/buildings70.tif  \n",
            "  inflating: Unmerced/buildings/buildings71.tif  \n",
            "  inflating: Unmerced/buildings/buildings72.tif  \n",
            "  inflating: Unmerced/buildings/buildings73.tif  \n",
            "  inflating: Unmerced/buildings/buildings74.tif  \n",
            "  inflating: Unmerced/buildings/buildings75.tif  \n",
            "  inflating: Unmerced/buildings/buildings76.tif  \n",
            "  inflating: Unmerced/buildings/buildings77.tif  \n",
            "  inflating: Unmerced/buildings/buildings78.tif  \n",
            "  inflating: Unmerced/buildings/buildings79.tif  \n",
            "  inflating: Unmerced/buildings/buildings80.tif  \n",
            "  inflating: Unmerced/buildings/buildings81.tif  \n",
            "  inflating: Unmerced/buildings/buildings82.tif  \n",
            "  inflating: Unmerced/buildings/buildings83.tif  \n",
            "  inflating: Unmerced/buildings/buildings84.tif  \n",
            "  inflating: Unmerced/buildings/buildings85.tif  \n",
            "  inflating: Unmerced/buildings/buildings86.tif  \n",
            "  inflating: Unmerced/buildings/buildings87.tif  \n",
            "  inflating: Unmerced/buildings/buildings88.tif  \n",
            "  inflating: Unmerced/buildings/buildings89.tif  \n",
            "  inflating: Unmerced/buildings/buildings90.tif  \n",
            "  inflating: Unmerced/buildings/buildings91.tif  \n",
            "  inflating: Unmerced/buildings/buildings92.tif  \n",
            "  inflating: Unmerced/buildings/buildings93.tif  \n",
            "  inflating: Unmerced/buildings/buildings94.tif  \n",
            "  inflating: Unmerced/buildings/buildings95.tif  \n",
            "  inflating: Unmerced/buildings/buildings96.tif  \n",
            "  inflating: Unmerced/buildings/buildings97.tif  \n",
            "  inflating: Unmerced/buildings/buildings98.tif  \n",
            "  inflating: Unmerced/buildings/buildings99.tif  \n",
            "   creating: Unmerced/chaparral/\n",
            "  inflating: Unmerced/chaparral/chaparral00.tif  \n",
            "  inflating: Unmerced/chaparral/chaparral01.tif  \n",
            "  inflating: Unmerced/chaparral/chaparral02.tif  \n",
            "  inflating: Unmerced/chaparral/chaparral03.tif  \n",
            "  inflating: Unmerced/chaparral/chaparral04.tif  \n",
            "  inflating: Unmerced/chaparral/chaparral05.tif  \n",
            "  inflating: Unmerced/chaparral/chaparral06.tif  \n",
            "  inflating: Unmerced/chaparral/chaparral07.tif  \n",
            "  inflating: Unmerced/chaparral/chaparral08.tif  \n",
            "  inflating: Unmerced/chaparral/chaparral09.tif  \n",
            "  inflating: Unmerced/chaparral/chaparral10.tif  \n",
            "  inflating: Unmerced/chaparral/chaparral11.tif  \n",
            "  inflating: Unmerced/chaparral/chaparral12.tif  \n",
            "  inflating: Unmerced/chaparral/chaparral13.tif  \n",
            "  inflating: Unmerced/chaparral/chaparral14.tif  \n",
            "  inflating: Unmerced/chaparral/chaparral15.tif  \n",
            "  inflating: Unmerced/chaparral/chaparral16.tif  \n",
            "  inflating: Unmerced/chaparral/chaparral17.tif  \n",
            "  inflating: Unmerced/chaparral/chaparral18.tif  \n",
            "  inflating: Unmerced/chaparral/chaparral19.tif  \n",
            "  inflating: Unmerced/chaparral/chaparral20.tif  \n",
            "  inflating: Unmerced/chaparral/chaparral21.tif  \n",
            "  inflating: Unmerced/chaparral/chaparral22.tif  \n",
            "  inflating: Unmerced/chaparral/chaparral23.tif  \n",
            "  inflating: Unmerced/chaparral/chaparral24.tif  \n",
            "  inflating: Unmerced/chaparral/chaparral25.tif  \n",
            "  inflating: Unmerced/chaparral/chaparral26.tif  \n",
            "  inflating: Unmerced/chaparral/chaparral27.tif  \n",
            "  inflating: Unmerced/chaparral/chaparral28.tif  \n",
            "  inflating: Unmerced/chaparral/chaparral29.tif  \n",
            "  inflating: Unmerced/chaparral/chaparral30.tif  \n",
            "  inflating: Unmerced/chaparral/chaparral31.tif  \n",
            "  inflating: Unmerced/chaparral/chaparral32.tif  \n",
            "  inflating: Unmerced/chaparral/chaparral33.tif  \n",
            "  inflating: Unmerced/chaparral/chaparral34.tif  \n",
            "  inflating: Unmerced/chaparral/chaparral35.tif  \n",
            "  inflating: Unmerced/chaparral/chaparral36.tif  \n",
            "  inflating: Unmerced/chaparral/chaparral37.tif  \n",
            "  inflating: Unmerced/chaparral/chaparral38.tif  \n",
            "  inflating: Unmerced/chaparral/chaparral39.tif  \n",
            "  inflating: Unmerced/chaparral/chaparral40.tif  \n",
            "  inflating: Unmerced/chaparral/chaparral41.tif  \n",
            "  inflating: Unmerced/chaparral/chaparral42.tif  \n",
            "  inflating: Unmerced/chaparral/chaparral43.tif  \n",
            "  inflating: Unmerced/chaparral/chaparral44.tif  \n",
            "  inflating: Unmerced/chaparral/chaparral45.tif  \n",
            "  inflating: Unmerced/chaparral/chaparral46.tif  \n",
            "  inflating: Unmerced/chaparral/chaparral47.tif  \n",
            "  inflating: Unmerced/chaparral/chaparral48.tif  \n",
            "  inflating: Unmerced/chaparral/chaparral49.tif  \n",
            "  inflating: Unmerced/chaparral/chaparral50.tif  \n",
            "  inflating: Unmerced/chaparral/chaparral51.tif  \n",
            "  inflating: Unmerced/chaparral/chaparral52.tif  \n",
            "  inflating: Unmerced/chaparral/chaparral53.tif  \n",
            "  inflating: Unmerced/chaparral/chaparral54.tif  \n",
            "  inflating: Unmerced/chaparral/chaparral55.tif  \n",
            "  inflating: Unmerced/chaparral/chaparral56.tif  \n",
            "  inflating: Unmerced/chaparral/chaparral57.tif  \n",
            "  inflating: Unmerced/chaparral/chaparral58.tif  \n",
            "  inflating: Unmerced/chaparral/chaparral59.tif  \n",
            "  inflating: Unmerced/chaparral/chaparral60.tif  \n",
            "  inflating: Unmerced/chaparral/chaparral61.tif  \n",
            "  inflating: Unmerced/chaparral/chaparral62.tif  \n",
            "  inflating: Unmerced/chaparral/chaparral63.tif  \n",
            "  inflating: Unmerced/chaparral/chaparral64.tif  \n",
            "  inflating: Unmerced/chaparral/chaparral65.tif  \n",
            "  inflating: Unmerced/chaparral/chaparral66.tif  \n",
            "  inflating: Unmerced/chaparral/chaparral67.tif  \n",
            "  inflating: Unmerced/chaparral/chaparral68.tif  \n",
            "  inflating: Unmerced/chaparral/chaparral69.tif  \n",
            "  inflating: Unmerced/chaparral/chaparral70.tif  \n",
            "  inflating: Unmerced/chaparral/chaparral71.tif  \n",
            "  inflating: Unmerced/chaparral/chaparral72.tif  \n",
            "  inflating: Unmerced/chaparral/chaparral73.tif  \n",
            "  inflating: Unmerced/chaparral/chaparral74.tif  \n",
            "  inflating: Unmerced/chaparral/chaparral75.tif  \n",
            "  inflating: Unmerced/chaparral/chaparral76.tif  \n",
            "  inflating: Unmerced/chaparral/chaparral77.tif  \n",
            "  inflating: Unmerced/chaparral/chaparral78.tif  \n",
            "  inflating: Unmerced/chaparral/chaparral79.tif  \n",
            "  inflating: Unmerced/chaparral/chaparral80.tif  \n",
            "  inflating: Unmerced/chaparral/chaparral81.tif  \n",
            "  inflating: Unmerced/chaparral/chaparral82.tif  \n",
            "  inflating: Unmerced/chaparral/chaparral83.tif  \n",
            "  inflating: Unmerced/chaparral/chaparral84.tif  \n",
            "  inflating: Unmerced/chaparral/chaparral85.tif  \n",
            "  inflating: Unmerced/chaparral/chaparral86.tif  \n",
            "  inflating: Unmerced/chaparral/chaparral87.tif  \n",
            "  inflating: Unmerced/chaparral/chaparral88.tif  \n",
            "  inflating: Unmerced/chaparral/chaparral89.tif  \n",
            "  inflating: Unmerced/chaparral/chaparral90.tif  \n",
            "  inflating: Unmerced/chaparral/chaparral91.tif  \n",
            "  inflating: Unmerced/chaparral/chaparral92.tif  \n",
            "  inflating: Unmerced/chaparral/chaparral93.tif  \n",
            "  inflating: Unmerced/chaparral/chaparral94.tif  \n",
            "  inflating: Unmerced/chaparral/chaparral95.tif  \n",
            "  inflating: Unmerced/chaparral/chaparral96.tif  \n",
            "  inflating: Unmerced/chaparral/chaparral97.tif  \n",
            "  inflating: Unmerced/chaparral/chaparral98.tif  \n",
            "  inflating: Unmerced/chaparral/chaparral99.tif  \n",
            "   creating: Unmerced/denseresidential/\n",
            "  inflating: Unmerced/denseresidential/denseresidential00.tif  \n",
            "  inflating: Unmerced/denseresidential/denseresidential01.tif  \n",
            "  inflating: Unmerced/denseresidential/denseresidential02.tif  \n",
            "  inflating: Unmerced/denseresidential/denseresidential03.tif  \n",
            "  inflating: Unmerced/denseresidential/denseresidential04.tif  \n",
            "  inflating: Unmerced/denseresidential/denseresidential05.tif  \n",
            "  inflating: Unmerced/denseresidential/denseresidential06.tif  \n",
            "  inflating: Unmerced/denseresidential/denseresidential07.tif  \n",
            "  inflating: Unmerced/denseresidential/denseresidential08.tif  \n",
            "  inflating: Unmerced/denseresidential/denseresidential09.tif  \n",
            "  inflating: Unmerced/denseresidential/denseresidential10.tif  \n",
            "  inflating: Unmerced/denseresidential/denseresidential11.tif  \n",
            "  inflating: Unmerced/denseresidential/denseresidential12.tif  \n",
            "  inflating: Unmerced/denseresidential/denseresidential13.tif  \n",
            "  inflating: Unmerced/denseresidential/denseresidential14.tif  \n",
            "  inflating: Unmerced/denseresidential/denseresidential15.tif  \n",
            "  inflating: Unmerced/denseresidential/denseresidential16.tif  \n",
            "  inflating: Unmerced/denseresidential/denseresidential17.tif  \n",
            "  inflating: Unmerced/denseresidential/denseresidential18.tif  \n",
            "  inflating: Unmerced/denseresidential/denseresidential19.tif  \n",
            "  inflating: Unmerced/denseresidential/denseresidential20.tif  \n",
            "  inflating: Unmerced/denseresidential/denseresidential21.tif  \n",
            "  inflating: Unmerced/denseresidential/denseresidential22.tif  \n",
            "  inflating: Unmerced/denseresidential/denseresidential23.tif  \n",
            "  inflating: Unmerced/denseresidential/denseresidential24.tif  \n",
            "  inflating: Unmerced/denseresidential/denseresidential25.tif  \n",
            "  inflating: Unmerced/denseresidential/denseresidential26.tif  \n",
            "  inflating: Unmerced/denseresidential/denseresidential27.tif  \n",
            "  inflating: Unmerced/denseresidential/denseresidential28.tif  \n",
            "  inflating: Unmerced/denseresidential/denseresidential29.tif  \n",
            "  inflating: Unmerced/denseresidential/denseresidential30.tif  \n",
            "  inflating: Unmerced/denseresidential/denseresidential31.tif  \n",
            "  inflating: Unmerced/denseresidential/denseresidential32.tif  \n",
            "  inflating: Unmerced/denseresidential/denseresidential33.tif  \n",
            "  inflating: Unmerced/denseresidential/denseresidential34.tif  \n",
            "  inflating: Unmerced/denseresidential/denseresidential35.tif  \n",
            "  inflating: Unmerced/denseresidential/denseresidential36.tif  \n",
            "  inflating: Unmerced/denseresidential/denseresidential37.tif  \n",
            "  inflating: Unmerced/denseresidential/denseresidential38.tif  \n",
            "  inflating: Unmerced/denseresidential/denseresidential39.tif  \n",
            "  inflating: Unmerced/denseresidential/denseresidential40.tif  \n",
            "  inflating: Unmerced/denseresidential/denseresidential41.tif  \n",
            "  inflating: Unmerced/denseresidential/denseresidential42.tif  \n",
            "  inflating: Unmerced/denseresidential/denseresidential43.tif  \n",
            "  inflating: Unmerced/denseresidential/denseresidential44.tif  \n",
            "  inflating: Unmerced/denseresidential/denseresidential45.tif  \n",
            "  inflating: Unmerced/denseresidential/denseresidential46.tif  \n",
            "  inflating: Unmerced/denseresidential/denseresidential47.tif  \n",
            "  inflating: Unmerced/denseresidential/denseresidential48.tif  \n",
            "  inflating: Unmerced/denseresidential/denseresidential49.tif  \n",
            "  inflating: Unmerced/denseresidential/denseresidential50.tif  \n",
            "  inflating: Unmerced/denseresidential/denseresidential51.tif  \n",
            "  inflating: Unmerced/denseresidential/denseresidential52.tif  \n",
            "  inflating: Unmerced/denseresidential/denseresidential53.tif  \n",
            "  inflating: Unmerced/denseresidential/denseresidential54.tif  \n",
            "  inflating: Unmerced/denseresidential/denseresidential55.tif  \n",
            "  inflating: Unmerced/denseresidential/denseresidential56.tif  \n",
            "  inflating: Unmerced/denseresidential/denseresidential57.tif  \n",
            "  inflating: Unmerced/denseresidential/denseresidential58.tif  \n",
            "  inflating: Unmerced/denseresidential/denseresidential59.tif  \n",
            "  inflating: Unmerced/denseresidential/denseresidential60.tif  \n",
            "  inflating: Unmerced/denseresidential/denseresidential61.tif  \n",
            "  inflating: Unmerced/denseresidential/denseresidential62.tif  \n",
            "  inflating: Unmerced/denseresidential/denseresidential63.tif  \n",
            "  inflating: Unmerced/denseresidential/denseresidential64.tif  \n",
            "  inflating: Unmerced/denseresidential/denseresidential65.tif  \n",
            "  inflating: Unmerced/denseresidential/denseresidential66.tif  \n",
            "  inflating: Unmerced/denseresidential/denseresidential67.tif  \n",
            "  inflating: Unmerced/denseresidential/denseresidential68.tif  \n",
            "  inflating: Unmerced/denseresidential/denseresidential69.tif  \n",
            "  inflating: Unmerced/denseresidential/denseresidential70.tif  \n",
            "  inflating: Unmerced/denseresidential/denseresidential71.tif  \n",
            "  inflating: Unmerced/denseresidential/denseresidential72.tif  \n",
            "  inflating: Unmerced/denseresidential/denseresidential73.tif  \n",
            "  inflating: Unmerced/denseresidential/denseresidential74.tif  \n",
            "  inflating: Unmerced/denseresidential/denseresidential75.tif  \n",
            "  inflating: Unmerced/denseresidential/denseresidential76.tif  \n",
            "  inflating: Unmerced/denseresidential/denseresidential77.tif  \n",
            "  inflating: Unmerced/denseresidential/denseresidential78.tif  \n",
            "  inflating: Unmerced/denseresidential/denseresidential79.tif  \n",
            "  inflating: Unmerced/denseresidential/denseresidential80.tif  \n",
            "  inflating: Unmerced/denseresidential/denseresidential81.tif  \n",
            "  inflating: Unmerced/denseresidential/denseresidential82.tif  \n",
            "  inflating: Unmerced/denseresidential/denseresidential83.tif  \n",
            "  inflating: Unmerced/denseresidential/denseresidential84.tif  \n",
            "  inflating: Unmerced/denseresidential/denseresidential85.tif  \n",
            "  inflating: Unmerced/denseresidential/denseresidential86.tif  \n",
            "  inflating: Unmerced/denseresidential/denseresidential87.tif  \n",
            "  inflating: Unmerced/denseresidential/denseresidential88.tif  \n",
            "  inflating: Unmerced/denseresidential/denseresidential89.tif  \n",
            "  inflating: Unmerced/denseresidential/denseresidential90.tif  \n",
            "  inflating: Unmerced/denseresidential/denseresidential91.tif  \n",
            "  inflating: Unmerced/denseresidential/denseresidential92.tif  \n",
            "  inflating: Unmerced/denseresidential/denseresidential93.tif  \n",
            "  inflating: Unmerced/denseresidential/denseresidential94.tif  \n",
            "  inflating: Unmerced/denseresidential/denseresidential95.tif  \n",
            "  inflating: Unmerced/denseresidential/denseresidential96.tif  \n",
            "  inflating: Unmerced/denseresidential/denseresidential97.tif  \n",
            "  inflating: Unmerced/denseresidential/denseresidential98.tif  \n",
            "  inflating: Unmerced/denseresidential/denseresidential99.tif  \n",
            "   creating: Unmerced/forest/\n",
            "  inflating: Unmerced/forest/forest00.tif  \n",
            "  inflating: Unmerced/forest/forest01.tif  \n",
            "  inflating: Unmerced/forest/forest02.tif  \n",
            "  inflating: Unmerced/forest/forest03.tif  \n",
            "  inflating: Unmerced/forest/forest04.tif  \n",
            "  inflating: Unmerced/forest/forest05.tif  \n",
            "  inflating: Unmerced/forest/forest06.tif  \n",
            "  inflating: Unmerced/forest/forest07.tif  \n",
            "  inflating: Unmerced/forest/forest08.tif  \n",
            "  inflating: Unmerced/forest/forest09.tif  \n",
            "  inflating: Unmerced/forest/forest10.tif  \n",
            "  inflating: Unmerced/forest/forest11.tif  \n",
            "  inflating: Unmerced/forest/forest12.tif  \n",
            "  inflating: Unmerced/forest/forest13.tif  \n",
            "  inflating: Unmerced/forest/forest14.tif  \n",
            "  inflating: Unmerced/forest/forest15.tif  \n",
            "  inflating: Unmerced/forest/forest16.tif  \n",
            "  inflating: Unmerced/forest/forest17.tif  \n",
            "  inflating: Unmerced/forest/forest18.tif  \n",
            "  inflating: Unmerced/forest/forest19.tif  \n",
            "  inflating: Unmerced/forest/forest20.tif  \n",
            "  inflating: Unmerced/forest/forest21.tif  \n",
            "  inflating: Unmerced/forest/forest22.tif  \n",
            "  inflating: Unmerced/forest/forest23.tif  \n",
            "  inflating: Unmerced/forest/forest24.tif  \n",
            "  inflating: Unmerced/forest/forest25.tif  \n",
            "  inflating: Unmerced/forest/forest26.tif  \n",
            "  inflating: Unmerced/forest/forest27.tif  \n",
            "  inflating: Unmerced/forest/forest28.tif  \n",
            "  inflating: Unmerced/forest/forest29.tif  \n",
            "  inflating: Unmerced/forest/forest30.tif  \n",
            "  inflating: Unmerced/forest/forest31.tif  \n",
            "  inflating: Unmerced/forest/forest32.tif  \n",
            "  inflating: Unmerced/forest/forest33.tif  \n",
            "  inflating: Unmerced/forest/forest34.tif  \n",
            "  inflating: Unmerced/forest/forest35.tif  \n",
            "  inflating: Unmerced/forest/forest36.tif  \n",
            "  inflating: Unmerced/forest/forest37.tif  \n",
            "  inflating: Unmerced/forest/forest38.tif  \n",
            "  inflating: Unmerced/forest/forest39.tif  \n",
            "  inflating: Unmerced/forest/forest40.tif  \n",
            "  inflating: Unmerced/forest/forest41.tif  \n",
            "  inflating: Unmerced/forest/forest42.tif  \n",
            "  inflating: Unmerced/forest/forest43.tif  \n",
            "  inflating: Unmerced/forest/forest44.tif  \n",
            "  inflating: Unmerced/forest/forest45.tif  \n",
            "  inflating: Unmerced/forest/forest46.tif  \n",
            "  inflating: Unmerced/forest/forest47.tif  \n",
            "  inflating: Unmerced/forest/forest48.tif  \n",
            "  inflating: Unmerced/forest/forest49.tif  \n",
            "  inflating: Unmerced/forest/forest50.tif  \n",
            "  inflating: Unmerced/forest/forest51.tif  \n",
            "  inflating: Unmerced/forest/forest52.tif  \n",
            "  inflating: Unmerced/forest/forest53.tif  \n",
            "  inflating: Unmerced/forest/forest54.tif  \n",
            "  inflating: Unmerced/forest/forest55.tif  \n",
            "  inflating: Unmerced/forest/forest56.tif  \n",
            "  inflating: Unmerced/forest/forest57.tif  \n",
            "  inflating: Unmerced/forest/forest58.tif  \n",
            "  inflating: Unmerced/forest/forest59.tif  \n",
            "  inflating: Unmerced/forest/forest60.tif  \n",
            "  inflating: Unmerced/forest/forest61.tif  \n",
            "  inflating: Unmerced/forest/forest62.tif  \n",
            "  inflating: Unmerced/forest/forest63.tif  \n",
            "  inflating: Unmerced/forest/forest64.tif  \n",
            "  inflating: Unmerced/forest/forest65.tif  \n",
            "  inflating: Unmerced/forest/forest66.tif  \n",
            "  inflating: Unmerced/forest/forest67.tif  \n",
            "  inflating: Unmerced/forest/forest68.tif  \n",
            "  inflating: Unmerced/forest/forest69.tif  \n",
            "  inflating: Unmerced/forest/forest70.tif  \n",
            "  inflating: Unmerced/forest/forest71.tif  \n",
            "  inflating: Unmerced/forest/forest72.tif  \n",
            "  inflating: Unmerced/forest/forest73.tif  \n",
            "  inflating: Unmerced/forest/forest74.tif  \n",
            "  inflating: Unmerced/forest/forest75.tif  \n",
            "  inflating: Unmerced/forest/forest76.tif  \n",
            "  inflating: Unmerced/forest/forest77.tif  \n",
            "  inflating: Unmerced/forest/forest78.tif  \n",
            "  inflating: Unmerced/forest/forest79.tif  \n",
            "  inflating: Unmerced/forest/forest80.tif  \n",
            "  inflating: Unmerced/forest/forest81.tif  \n",
            "  inflating: Unmerced/forest/forest82.tif  \n",
            "  inflating: Unmerced/forest/forest83.tif  \n",
            "  inflating: Unmerced/forest/forest84.tif  \n",
            "  inflating: Unmerced/forest/forest85.tif  \n",
            "  inflating: Unmerced/forest/forest86.tif  \n",
            "  inflating: Unmerced/forest/forest87.tif  \n",
            "  inflating: Unmerced/forest/forest88.tif  \n",
            "  inflating: Unmerced/forest/forest89.tif  \n",
            "  inflating: Unmerced/forest/forest90.tif  \n",
            "  inflating: Unmerced/forest/forest91.tif  \n",
            "  inflating: Unmerced/forest/forest92.tif  \n",
            "  inflating: Unmerced/forest/forest93.tif  \n",
            "  inflating: Unmerced/forest/forest94.tif  \n",
            "  inflating: Unmerced/forest/forest95.tif  \n",
            "  inflating: Unmerced/forest/forest96.tif  \n",
            "  inflating: Unmerced/forest/forest97.tif  \n",
            "  inflating: Unmerced/forest/forest98.tif  \n",
            "  inflating: Unmerced/forest/forest99.tif  \n",
            "   creating: Unmerced/freeway/\n",
            "  inflating: Unmerced/freeway/freeway00.tif  \n",
            "  inflating: Unmerced/freeway/freeway01.tif  \n",
            "  inflating: Unmerced/freeway/freeway02.tif  \n",
            "  inflating: Unmerced/freeway/freeway03.tif  \n",
            "  inflating: Unmerced/freeway/freeway04.tif  \n",
            "  inflating: Unmerced/freeway/freeway05.tif  \n",
            "  inflating: Unmerced/freeway/freeway06.tif  \n",
            "  inflating: Unmerced/freeway/freeway07.tif  \n",
            "  inflating: Unmerced/freeway/freeway08.tif  \n",
            "  inflating: Unmerced/freeway/freeway09.tif  \n",
            "  inflating: Unmerced/freeway/freeway10.tif  \n",
            "  inflating: Unmerced/freeway/freeway11.tif  \n",
            "  inflating: Unmerced/freeway/freeway12.tif  \n",
            "  inflating: Unmerced/freeway/freeway13.tif  \n",
            "  inflating: Unmerced/freeway/freeway14.tif  \n",
            "  inflating: Unmerced/freeway/freeway15.tif  \n",
            "  inflating: Unmerced/freeway/freeway16.tif  \n",
            "  inflating: Unmerced/freeway/freeway17.tif  \n",
            "  inflating: Unmerced/freeway/freeway18.tif  \n",
            "  inflating: Unmerced/freeway/freeway19.tif  \n",
            "  inflating: Unmerced/freeway/freeway20.tif  \n",
            "  inflating: Unmerced/freeway/freeway21.tif  \n",
            "  inflating: Unmerced/freeway/freeway22.tif  \n",
            "  inflating: Unmerced/freeway/freeway23.tif  \n",
            "  inflating: Unmerced/freeway/freeway24.tif  \n",
            "  inflating: Unmerced/freeway/freeway25.tif  \n",
            "  inflating: Unmerced/freeway/freeway26.tif  \n",
            "  inflating: Unmerced/freeway/freeway27.tif  \n",
            "  inflating: Unmerced/freeway/freeway28.tif  \n",
            "  inflating: Unmerced/freeway/freeway29.tif  \n",
            "  inflating: Unmerced/freeway/freeway30.tif  \n",
            "  inflating: Unmerced/freeway/freeway31.tif  \n",
            "  inflating: Unmerced/freeway/freeway32.tif  \n",
            "  inflating: Unmerced/freeway/freeway33.tif  \n",
            "  inflating: Unmerced/freeway/freeway34.tif  \n",
            "  inflating: Unmerced/freeway/freeway35.tif  \n",
            "  inflating: Unmerced/freeway/freeway36.tif  \n",
            "  inflating: Unmerced/freeway/freeway37.tif  \n",
            "  inflating: Unmerced/freeway/freeway38.tif  \n",
            "  inflating: Unmerced/freeway/freeway39.tif  \n",
            "  inflating: Unmerced/freeway/freeway40.tif  \n",
            "  inflating: Unmerced/freeway/freeway41.tif  \n",
            "  inflating: Unmerced/freeway/freeway42.tif  \n",
            "  inflating: Unmerced/freeway/freeway43.tif  \n",
            "  inflating: Unmerced/freeway/freeway44.tif  \n",
            "  inflating: Unmerced/freeway/freeway45.tif  \n",
            "  inflating: Unmerced/freeway/freeway46.tif  \n",
            "  inflating: Unmerced/freeway/freeway47.tif  \n",
            "  inflating: Unmerced/freeway/freeway48.tif  \n",
            "  inflating: Unmerced/freeway/freeway49.tif  \n",
            "  inflating: Unmerced/freeway/freeway50.tif  \n",
            "  inflating: Unmerced/freeway/freeway51.tif  \n",
            "  inflating: Unmerced/freeway/freeway52.tif  \n",
            "  inflating: Unmerced/freeway/freeway53.tif  \n",
            "  inflating: Unmerced/freeway/freeway54.tif  \n",
            "  inflating: Unmerced/freeway/freeway55.tif  \n",
            "  inflating: Unmerced/freeway/freeway56.tif  \n",
            "  inflating: Unmerced/freeway/freeway57.tif  \n",
            "  inflating: Unmerced/freeway/freeway58.tif  \n",
            "  inflating: Unmerced/freeway/freeway59.tif  \n",
            "  inflating: Unmerced/freeway/freeway60.tif  \n",
            "  inflating: Unmerced/freeway/freeway61.tif  \n",
            "  inflating: Unmerced/freeway/freeway62.tif  \n",
            "  inflating: Unmerced/freeway/freeway63.tif  \n",
            "  inflating: Unmerced/freeway/freeway64.tif  \n",
            "  inflating: Unmerced/freeway/freeway65.tif  \n",
            "  inflating: Unmerced/freeway/freeway66.tif  \n",
            "  inflating: Unmerced/freeway/freeway67.tif  \n",
            "  inflating: Unmerced/freeway/freeway68.tif  \n",
            "  inflating: Unmerced/freeway/freeway69.tif  \n",
            "  inflating: Unmerced/freeway/freeway70.tif  \n",
            "  inflating: Unmerced/freeway/freeway71.tif  \n",
            "  inflating: Unmerced/freeway/freeway72.tif  \n",
            "  inflating: Unmerced/freeway/freeway73.tif  \n",
            "  inflating: Unmerced/freeway/freeway74.tif  \n",
            "  inflating: Unmerced/freeway/freeway75.tif  \n",
            "  inflating: Unmerced/freeway/freeway76.tif  \n",
            "  inflating: Unmerced/freeway/freeway77.tif  \n",
            "  inflating: Unmerced/freeway/freeway78.tif  \n",
            "  inflating: Unmerced/freeway/freeway79.tif  \n",
            "  inflating: Unmerced/freeway/freeway80.tif  \n",
            "  inflating: Unmerced/freeway/freeway81.tif  \n",
            "  inflating: Unmerced/freeway/freeway82.tif  \n",
            "  inflating: Unmerced/freeway/freeway83.tif  \n",
            "  inflating: Unmerced/freeway/freeway84.tif  \n",
            "  inflating: Unmerced/freeway/freeway85.tif  \n",
            "  inflating: Unmerced/freeway/freeway86.tif  \n",
            "  inflating: Unmerced/freeway/freeway87.tif  \n",
            "  inflating: Unmerced/freeway/freeway88.tif  \n",
            "  inflating: Unmerced/freeway/freeway89.tif  \n",
            "  inflating: Unmerced/freeway/freeway90.tif  \n",
            "  inflating: Unmerced/freeway/freeway91.tif  \n",
            "  inflating: Unmerced/freeway/freeway92.tif  \n",
            "  inflating: Unmerced/freeway/freeway93.tif  \n",
            "  inflating: Unmerced/freeway/freeway94.tif  \n",
            "  inflating: Unmerced/freeway/freeway95.tif  \n",
            "  inflating: Unmerced/freeway/freeway96.tif  \n",
            "  inflating: Unmerced/freeway/freeway97.tif  \n",
            "  inflating: Unmerced/freeway/freeway98.tif  \n",
            "  inflating: Unmerced/freeway/freeway99.tif  \n",
            "   creating: Unmerced/golfcourse/\n",
            "  inflating: Unmerced/golfcourse/golfcourse00.tif  \n",
            "  inflating: Unmerced/golfcourse/golfcourse01.tif  \n",
            "  inflating: Unmerced/golfcourse/golfcourse02.tif  \n",
            "  inflating: Unmerced/golfcourse/golfcourse03.tif  \n",
            "  inflating: Unmerced/golfcourse/golfcourse04.tif  \n",
            "  inflating: Unmerced/golfcourse/golfcourse05.tif  \n",
            "  inflating: Unmerced/golfcourse/golfcourse06.tif  \n",
            "  inflating: Unmerced/golfcourse/golfcourse07.tif  \n",
            "  inflating: Unmerced/golfcourse/golfcourse08.tif  \n",
            "  inflating: Unmerced/golfcourse/golfcourse09.tif  \n",
            "  inflating: Unmerced/golfcourse/golfcourse10.tif  \n",
            "  inflating: Unmerced/golfcourse/golfcourse11.tif  \n",
            "  inflating: Unmerced/golfcourse/golfcourse12.tif  \n",
            "  inflating: Unmerced/golfcourse/golfcourse13.tif  \n",
            "  inflating: Unmerced/golfcourse/golfcourse14.tif  \n",
            "  inflating: Unmerced/golfcourse/golfcourse15.tif  \n",
            "  inflating: Unmerced/golfcourse/golfcourse16.tif  \n",
            "  inflating: Unmerced/golfcourse/golfcourse17.tif  \n",
            "  inflating: Unmerced/golfcourse/golfcourse18.tif  \n",
            "  inflating: Unmerced/golfcourse/golfcourse19.tif  \n",
            "  inflating: Unmerced/golfcourse/golfcourse20.tif  \n",
            "  inflating: Unmerced/golfcourse/golfcourse21.tif  \n",
            "  inflating: Unmerced/golfcourse/golfcourse22.tif  \n",
            "  inflating: Unmerced/golfcourse/golfcourse23.tif  \n",
            "  inflating: Unmerced/golfcourse/golfcourse24.tif  \n",
            "  inflating: Unmerced/golfcourse/golfcourse25.tif  \n",
            "  inflating: Unmerced/golfcourse/golfcourse26.tif  \n",
            "  inflating: Unmerced/golfcourse/golfcourse27.tif  \n",
            "  inflating: Unmerced/golfcourse/golfcourse28.tif  \n",
            "  inflating: Unmerced/golfcourse/golfcourse29.tif  \n",
            "  inflating: Unmerced/golfcourse/golfcourse30.tif  \n",
            "  inflating: Unmerced/golfcourse/golfcourse31.tif  \n",
            "  inflating: Unmerced/golfcourse/golfcourse32.tif  \n",
            "  inflating: Unmerced/golfcourse/golfcourse33.tif  \n",
            "  inflating: Unmerced/golfcourse/golfcourse34.tif  \n",
            "  inflating: Unmerced/golfcourse/golfcourse35.tif  \n",
            "  inflating: Unmerced/golfcourse/golfcourse36.tif  \n",
            "  inflating: Unmerced/golfcourse/golfcourse37.tif  \n",
            "  inflating: Unmerced/golfcourse/golfcourse38.tif  \n",
            "  inflating: Unmerced/golfcourse/golfcourse39.tif  \n",
            "  inflating: Unmerced/golfcourse/golfcourse40.tif  \n",
            "  inflating: Unmerced/golfcourse/golfcourse41.tif  \n",
            "  inflating: Unmerced/golfcourse/golfcourse42.tif  \n",
            "  inflating: Unmerced/golfcourse/golfcourse43.tif  \n",
            "  inflating: Unmerced/golfcourse/golfcourse44.tif  \n",
            "  inflating: Unmerced/golfcourse/golfcourse45.tif  \n",
            "  inflating: Unmerced/golfcourse/golfcourse46.tif  \n",
            "  inflating: Unmerced/golfcourse/golfcourse47.tif  \n",
            "  inflating: Unmerced/golfcourse/golfcourse48.tif  \n",
            "  inflating: Unmerced/golfcourse/golfcourse49.tif  \n",
            "  inflating: Unmerced/golfcourse/golfcourse50.tif  \n",
            "  inflating: Unmerced/golfcourse/golfcourse51.tif  \n",
            "  inflating: Unmerced/golfcourse/golfcourse52.tif  \n",
            "  inflating: Unmerced/golfcourse/golfcourse53.tif  \n",
            "  inflating: Unmerced/golfcourse/golfcourse54.tif  \n",
            "  inflating: Unmerced/golfcourse/golfcourse55.tif  \n",
            "  inflating: Unmerced/golfcourse/golfcourse56.tif  \n",
            "  inflating: Unmerced/golfcourse/golfcourse57.tif  \n",
            "  inflating: Unmerced/golfcourse/golfcourse58.tif  \n",
            "  inflating: Unmerced/golfcourse/golfcourse59.tif  \n",
            "  inflating: Unmerced/golfcourse/golfcourse60.tif  \n",
            "  inflating: Unmerced/golfcourse/golfcourse61.tif  \n",
            "  inflating: Unmerced/golfcourse/golfcourse62.tif  \n",
            "  inflating: Unmerced/golfcourse/golfcourse63.tif  \n",
            "  inflating: Unmerced/golfcourse/golfcourse64.tif  \n",
            "  inflating: Unmerced/golfcourse/golfcourse65.tif  \n",
            "  inflating: Unmerced/golfcourse/golfcourse66.tif  \n",
            "  inflating: Unmerced/golfcourse/golfcourse67.tif  \n",
            "  inflating: Unmerced/golfcourse/golfcourse68.tif  \n",
            "  inflating: Unmerced/golfcourse/golfcourse69.tif  \n",
            "  inflating: Unmerced/golfcourse/golfcourse70.tif  \n",
            "  inflating: Unmerced/golfcourse/golfcourse71.tif  \n",
            "  inflating: Unmerced/golfcourse/golfcourse72.tif  \n",
            "  inflating: Unmerced/golfcourse/golfcourse73.tif  \n",
            "  inflating: Unmerced/golfcourse/golfcourse74.tif  \n",
            "  inflating: Unmerced/golfcourse/golfcourse75.tif  \n",
            "  inflating: Unmerced/golfcourse/golfcourse76.tif  \n",
            "  inflating: Unmerced/golfcourse/golfcourse77.tif  \n",
            "  inflating: Unmerced/golfcourse/golfcourse78.tif  \n",
            "  inflating: Unmerced/golfcourse/golfcourse79.tif  \n",
            "  inflating: Unmerced/golfcourse/golfcourse80.tif  \n",
            "  inflating: Unmerced/golfcourse/golfcourse81.tif  \n",
            "  inflating: Unmerced/golfcourse/golfcourse82.tif  \n",
            "  inflating: Unmerced/golfcourse/golfcourse83.tif  \n",
            "  inflating: Unmerced/golfcourse/golfcourse84.tif  \n",
            "  inflating: Unmerced/golfcourse/golfcourse85.tif  \n",
            "  inflating: Unmerced/golfcourse/golfcourse86.tif  \n",
            "  inflating: Unmerced/golfcourse/golfcourse87.tif  \n",
            "  inflating: Unmerced/golfcourse/golfcourse88.tif  \n",
            "  inflating: Unmerced/golfcourse/golfcourse89.tif  \n",
            "  inflating: Unmerced/golfcourse/golfcourse90.tif  \n",
            "  inflating: Unmerced/golfcourse/golfcourse91.tif  \n",
            "  inflating: Unmerced/golfcourse/golfcourse92.tif  \n",
            "  inflating: Unmerced/golfcourse/golfcourse93.tif  \n",
            "  inflating: Unmerced/golfcourse/golfcourse94.tif  \n",
            "  inflating: Unmerced/golfcourse/golfcourse95.tif  \n",
            "  inflating: Unmerced/golfcourse/golfcourse96.tif  \n",
            "  inflating: Unmerced/golfcourse/golfcourse97.tif  \n",
            "  inflating: Unmerced/golfcourse/golfcourse98.tif  \n",
            "  inflating: Unmerced/golfcourse/golfcourse99.tif  \n",
            "   creating: Unmerced/harbor/\n",
            "  inflating: Unmerced/harbor/harbor00.tif  \n",
            "  inflating: Unmerced/harbor/harbor01.tif  \n",
            "  inflating: Unmerced/harbor/harbor02.tif  \n",
            "  inflating: Unmerced/harbor/harbor03.tif  \n",
            "  inflating: Unmerced/harbor/harbor04.tif  \n",
            "  inflating: Unmerced/harbor/harbor05.tif  \n",
            "  inflating: Unmerced/harbor/harbor06.tif  \n",
            "  inflating: Unmerced/harbor/harbor07.tif  \n",
            "  inflating: Unmerced/harbor/harbor08.tif  \n",
            "  inflating: Unmerced/harbor/harbor09.tif  \n",
            "  inflating: Unmerced/harbor/harbor10.tif  \n",
            "  inflating: Unmerced/harbor/harbor11.tif  \n",
            "  inflating: Unmerced/harbor/harbor12.tif  \n",
            "  inflating: Unmerced/harbor/harbor13.tif  \n",
            "  inflating: Unmerced/harbor/harbor14.tif  \n",
            "  inflating: Unmerced/harbor/harbor15.tif  \n",
            "  inflating: Unmerced/harbor/harbor16.tif  \n",
            "  inflating: Unmerced/harbor/harbor17.tif  \n",
            "  inflating: Unmerced/harbor/harbor18.tif  \n",
            "  inflating: Unmerced/harbor/harbor19.tif  \n",
            "  inflating: Unmerced/harbor/harbor20.tif  \n",
            "  inflating: Unmerced/harbor/harbor21.tif  \n",
            "  inflating: Unmerced/harbor/harbor22.tif  \n",
            "  inflating: Unmerced/harbor/harbor23.tif  \n",
            "  inflating: Unmerced/harbor/harbor24.tif  \n",
            "  inflating: Unmerced/harbor/harbor25.tif  \n",
            "  inflating: Unmerced/harbor/harbor26.tif  \n",
            "  inflating: Unmerced/harbor/harbor27.tif  \n",
            "  inflating: Unmerced/harbor/harbor28.tif  \n",
            "  inflating: Unmerced/harbor/harbor29.tif  \n",
            "  inflating: Unmerced/harbor/harbor30.tif  \n",
            "  inflating: Unmerced/harbor/harbor31.tif  \n",
            "  inflating: Unmerced/harbor/harbor32.tif  \n",
            "  inflating: Unmerced/harbor/harbor33.tif  \n",
            "  inflating: Unmerced/harbor/harbor34.tif  \n",
            "  inflating: Unmerced/harbor/harbor35.tif  \n",
            "  inflating: Unmerced/harbor/harbor36.tif  \n",
            "  inflating: Unmerced/harbor/harbor37.tif  \n",
            "  inflating: Unmerced/harbor/harbor38.tif  \n",
            "  inflating: Unmerced/harbor/harbor39.tif  \n",
            "  inflating: Unmerced/harbor/harbor40.tif  \n",
            "  inflating: Unmerced/harbor/harbor41.tif  \n",
            "  inflating: Unmerced/harbor/harbor42.tif  \n",
            "  inflating: Unmerced/harbor/harbor43.tif  \n",
            "  inflating: Unmerced/harbor/harbor44.tif  \n",
            "  inflating: Unmerced/harbor/harbor45.tif  \n",
            "  inflating: Unmerced/harbor/harbor46.tif  \n",
            "  inflating: Unmerced/harbor/harbor47.tif  \n",
            "  inflating: Unmerced/harbor/harbor48.tif  \n",
            "  inflating: Unmerced/harbor/harbor49.tif  \n",
            "  inflating: Unmerced/harbor/harbor50.tif  \n",
            "  inflating: Unmerced/harbor/harbor51.tif  \n",
            "  inflating: Unmerced/harbor/harbor52.tif  \n",
            "  inflating: Unmerced/harbor/harbor53.tif  \n",
            "  inflating: Unmerced/harbor/harbor54.tif  \n",
            "  inflating: Unmerced/harbor/harbor55.tif  \n",
            "  inflating: Unmerced/harbor/harbor56.tif  \n",
            "  inflating: Unmerced/harbor/harbor57.tif  \n",
            "  inflating: Unmerced/harbor/harbor58.tif  \n",
            "  inflating: Unmerced/harbor/harbor59.tif  \n",
            "  inflating: Unmerced/harbor/harbor60.tif  \n",
            "  inflating: Unmerced/harbor/harbor61.tif  \n",
            "  inflating: Unmerced/harbor/harbor62.tif  \n",
            "  inflating: Unmerced/harbor/harbor63.tif  \n",
            "  inflating: Unmerced/harbor/harbor64.tif  \n",
            "  inflating: Unmerced/harbor/harbor65.tif  \n",
            "  inflating: Unmerced/harbor/harbor66.tif  \n",
            "  inflating: Unmerced/harbor/harbor67.tif  \n",
            "  inflating: Unmerced/harbor/harbor68.tif  \n",
            "  inflating: Unmerced/harbor/harbor69.tif  \n",
            "  inflating: Unmerced/harbor/harbor70.tif  \n",
            "  inflating: Unmerced/harbor/harbor71.tif  \n",
            "  inflating: Unmerced/harbor/harbor72.tif  \n",
            "  inflating: Unmerced/harbor/harbor73.tif  \n",
            "  inflating: Unmerced/harbor/harbor74.tif  \n",
            "  inflating: Unmerced/harbor/harbor75.tif  \n",
            "  inflating: Unmerced/harbor/harbor76.tif  \n",
            "  inflating: Unmerced/harbor/harbor77.tif  \n",
            "  inflating: Unmerced/harbor/harbor78.tif  \n",
            "  inflating: Unmerced/harbor/harbor79.tif  \n",
            "  inflating: Unmerced/harbor/harbor80.tif  \n",
            "  inflating: Unmerced/harbor/harbor81.tif  \n",
            "  inflating: Unmerced/harbor/harbor82.tif  \n",
            "  inflating: Unmerced/harbor/harbor83.tif  \n",
            "  inflating: Unmerced/harbor/harbor84.tif  \n",
            "  inflating: Unmerced/harbor/harbor85.tif  \n",
            "  inflating: Unmerced/harbor/harbor86.tif  \n",
            "  inflating: Unmerced/harbor/harbor87.tif  \n",
            "  inflating: Unmerced/harbor/harbor88.tif  \n",
            "  inflating: Unmerced/harbor/harbor89.tif  \n",
            "  inflating: Unmerced/harbor/harbor90.tif  \n",
            "  inflating: Unmerced/harbor/harbor91.tif  \n",
            "  inflating: Unmerced/harbor/harbor92.tif  \n",
            "  inflating: Unmerced/harbor/harbor93.tif  \n",
            "  inflating: Unmerced/harbor/harbor94.tif  \n",
            "  inflating: Unmerced/harbor/harbor95.tif  \n",
            "  inflating: Unmerced/harbor/harbor96.tif  \n",
            "  inflating: Unmerced/harbor/harbor97.tif  \n",
            "  inflating: Unmerced/harbor/harbor98.tif  \n",
            "  inflating: Unmerced/harbor/harbor99.tif  \n",
            "   creating: Unmerced/intersection/\n",
            "  inflating: Unmerced/intersection/intersection00.tif  \n",
            "  inflating: Unmerced/intersection/intersection01.tif  \n",
            "  inflating: Unmerced/intersection/intersection02.tif  \n",
            "  inflating: Unmerced/intersection/intersection03.tif  \n",
            "  inflating: Unmerced/intersection/intersection04.tif  \n",
            "  inflating: Unmerced/intersection/intersection05.tif  \n",
            "  inflating: Unmerced/intersection/intersection06.tif  \n",
            "  inflating: Unmerced/intersection/intersection07.tif  \n",
            "  inflating: Unmerced/intersection/intersection08.tif  \n",
            "  inflating: Unmerced/intersection/intersection09.tif  \n",
            "  inflating: Unmerced/intersection/intersection10.tif  \n",
            "  inflating: Unmerced/intersection/intersection11.tif  \n",
            "  inflating: Unmerced/intersection/intersection12.tif  \n",
            "  inflating: Unmerced/intersection/intersection13.tif  \n",
            "  inflating: Unmerced/intersection/intersection14.tif  \n",
            "  inflating: Unmerced/intersection/intersection15.tif  \n",
            "  inflating: Unmerced/intersection/intersection16.tif  \n",
            "  inflating: Unmerced/intersection/intersection17.tif  \n",
            "  inflating: Unmerced/intersection/intersection18.tif  \n",
            "  inflating: Unmerced/intersection/intersection19.tif  \n",
            "  inflating: Unmerced/intersection/intersection20.tif  \n",
            "  inflating: Unmerced/intersection/intersection21.tif  \n",
            "  inflating: Unmerced/intersection/intersection22.tif  \n",
            "  inflating: Unmerced/intersection/intersection23.tif  \n",
            "  inflating: Unmerced/intersection/intersection24.tif  \n",
            "  inflating: Unmerced/intersection/intersection25.tif  \n",
            "  inflating: Unmerced/intersection/intersection26.tif  \n",
            "  inflating: Unmerced/intersection/intersection27.tif  \n",
            "  inflating: Unmerced/intersection/intersection28.tif  \n",
            "  inflating: Unmerced/intersection/intersection29.tif  \n",
            "  inflating: Unmerced/intersection/intersection30.tif  \n",
            "  inflating: Unmerced/intersection/intersection31.tif  \n",
            "  inflating: Unmerced/intersection/intersection32.tif  \n",
            "  inflating: Unmerced/intersection/intersection33.tif  \n",
            "  inflating: Unmerced/intersection/intersection34.tif  \n",
            "  inflating: Unmerced/intersection/intersection35.tif  \n",
            "  inflating: Unmerced/intersection/intersection36.tif  \n",
            "  inflating: Unmerced/intersection/intersection37.tif  \n",
            "  inflating: Unmerced/intersection/intersection38.tif  \n",
            "  inflating: Unmerced/intersection/intersection39.tif  \n",
            "  inflating: Unmerced/intersection/intersection40.tif  \n",
            "  inflating: Unmerced/intersection/intersection41.tif  \n",
            "  inflating: Unmerced/intersection/intersection42.tif  \n",
            "  inflating: Unmerced/intersection/intersection43.tif  \n",
            "  inflating: Unmerced/intersection/intersection44.tif  \n",
            "  inflating: Unmerced/intersection/intersection45.tif  \n",
            "  inflating: Unmerced/intersection/intersection46.tif  \n",
            "  inflating: Unmerced/intersection/intersection47.tif  \n",
            "  inflating: Unmerced/intersection/intersection48.tif  \n",
            "  inflating: Unmerced/intersection/intersection49.tif  \n",
            "  inflating: Unmerced/intersection/intersection50.tif  \n",
            "  inflating: Unmerced/intersection/intersection51.tif  \n",
            "  inflating: Unmerced/intersection/intersection52.tif  \n",
            "  inflating: Unmerced/intersection/intersection53.tif  \n",
            "  inflating: Unmerced/intersection/intersection54.tif  \n",
            "  inflating: Unmerced/intersection/intersection55.tif  \n",
            "  inflating: Unmerced/intersection/intersection56.tif  \n",
            "  inflating: Unmerced/intersection/intersection57.tif  \n",
            "  inflating: Unmerced/intersection/intersection58.tif  \n",
            "  inflating: Unmerced/intersection/intersection59.tif  \n",
            "  inflating: Unmerced/intersection/intersection60.tif  \n",
            "  inflating: Unmerced/intersection/intersection61.tif  \n",
            "  inflating: Unmerced/intersection/intersection62.tif  \n",
            "  inflating: Unmerced/intersection/intersection63.tif  \n",
            "  inflating: Unmerced/intersection/intersection64.tif  \n",
            "  inflating: Unmerced/intersection/intersection65.tif  \n",
            "  inflating: Unmerced/intersection/intersection66.tif  \n",
            "  inflating: Unmerced/intersection/intersection67.tif  \n",
            "  inflating: Unmerced/intersection/intersection68.tif  \n",
            "  inflating: Unmerced/intersection/intersection69.tif  \n",
            "  inflating: Unmerced/intersection/intersection70.tif  \n",
            "  inflating: Unmerced/intersection/intersection71.tif  \n",
            "  inflating: Unmerced/intersection/intersection72.tif  \n",
            "  inflating: Unmerced/intersection/intersection73.tif  \n",
            "  inflating: Unmerced/intersection/intersection74.tif  \n",
            "  inflating: Unmerced/intersection/intersection75.tif  \n",
            "  inflating: Unmerced/intersection/intersection76.tif  \n",
            "  inflating: Unmerced/intersection/intersection77.tif  \n",
            "  inflating: Unmerced/intersection/intersection78.tif  \n",
            "  inflating: Unmerced/intersection/intersection79.tif  \n",
            "  inflating: Unmerced/intersection/intersection80.tif  \n",
            "  inflating: Unmerced/intersection/intersection81.tif  \n",
            "  inflating: Unmerced/intersection/intersection82.tif  \n",
            "  inflating: Unmerced/intersection/intersection83.tif  \n",
            "  inflating: Unmerced/intersection/intersection84.tif  \n",
            "  inflating: Unmerced/intersection/intersection85.tif  \n",
            "  inflating: Unmerced/intersection/intersection86.tif  \n",
            "  inflating: Unmerced/intersection/intersection87.tif  \n",
            "  inflating: Unmerced/intersection/intersection88.tif  \n",
            "  inflating: Unmerced/intersection/intersection89.tif  \n",
            "  inflating: Unmerced/intersection/intersection90.tif  \n",
            "  inflating: Unmerced/intersection/intersection91.tif  \n",
            "  inflating: Unmerced/intersection/intersection92.tif  \n",
            "  inflating: Unmerced/intersection/intersection93.tif  \n",
            "  inflating: Unmerced/intersection/intersection94.tif  \n",
            "  inflating: Unmerced/intersection/intersection95.tif  \n",
            "  inflating: Unmerced/intersection/intersection96.tif  \n",
            "  inflating: Unmerced/intersection/intersection97.tif  \n",
            "  inflating: Unmerced/intersection/intersection98.tif  \n",
            "  inflating: Unmerced/intersection/intersection99.tif  \n",
            "   creating: Unmerced/mediumresidential/\n",
            "  inflating: Unmerced/mediumresidential/mediumresidential00.tif  \n",
            "  inflating: Unmerced/mediumresidential/mediumresidential01.tif  \n",
            "  inflating: Unmerced/mediumresidential/mediumresidential02.tif  \n",
            "  inflating: Unmerced/mediumresidential/mediumresidential03.tif  \n",
            "  inflating: Unmerced/mediumresidential/mediumresidential04.tif  \n",
            "  inflating: Unmerced/mediumresidential/mediumresidential05.tif  \n",
            "  inflating: Unmerced/mediumresidential/mediumresidential06.tif  \n",
            "  inflating: Unmerced/mediumresidential/mediumresidential07.tif  \n",
            "  inflating: Unmerced/mediumresidential/mediumresidential08.tif  \n",
            "  inflating: Unmerced/mediumresidential/mediumresidential09.tif  \n",
            "  inflating: Unmerced/mediumresidential/mediumresidential10.tif  \n",
            "  inflating: Unmerced/mediumresidential/mediumresidential11.tif  \n",
            "  inflating: Unmerced/mediumresidential/mediumresidential12.tif  \n",
            "  inflating: Unmerced/mediumresidential/mediumresidential13.tif  \n",
            "  inflating: Unmerced/mediumresidential/mediumresidential14.tif  \n",
            "  inflating: Unmerced/mediumresidential/mediumresidential15.tif  \n",
            "  inflating: Unmerced/mediumresidential/mediumresidential16.tif  \n",
            "  inflating: Unmerced/mediumresidential/mediumresidential17.tif  \n",
            "  inflating: Unmerced/mediumresidential/mediumresidential18.tif  \n",
            "  inflating: Unmerced/mediumresidential/mediumresidential19.tif  \n",
            "  inflating: Unmerced/mediumresidential/mediumresidential20.tif  \n",
            "  inflating: Unmerced/mediumresidential/mediumresidential21.tif  \n",
            "  inflating: Unmerced/mediumresidential/mediumresidential22.tif  \n",
            "  inflating: Unmerced/mediumresidential/mediumresidential23.tif  \n",
            "  inflating: Unmerced/mediumresidential/mediumresidential24.tif  \n",
            "  inflating: Unmerced/mediumresidential/mediumresidential25.tif  \n",
            "  inflating: Unmerced/mediumresidential/mediumresidential26.tif  \n",
            "  inflating: Unmerced/mediumresidential/mediumresidential27.tif  \n",
            "  inflating: Unmerced/mediumresidential/mediumresidential28.tif  \n",
            "  inflating: Unmerced/mediumresidential/mediumresidential29.tif  \n",
            "  inflating: Unmerced/mediumresidential/mediumresidential30.tif  \n",
            "  inflating: Unmerced/mediumresidential/mediumresidential31.tif  \n",
            "  inflating: Unmerced/mediumresidential/mediumresidential32.tif  \n",
            "  inflating: Unmerced/mediumresidential/mediumresidential33.tif  \n",
            "  inflating: Unmerced/mediumresidential/mediumresidential34.tif  \n",
            "  inflating: Unmerced/mediumresidential/mediumresidential35.tif  \n",
            "  inflating: Unmerced/mediumresidential/mediumresidential36.tif  \n",
            "  inflating: Unmerced/mediumresidential/mediumresidential37.tif  \n",
            "  inflating: Unmerced/mediumresidential/mediumresidential38.tif  \n",
            "  inflating: Unmerced/mediumresidential/mediumresidential39.tif  \n",
            "  inflating: Unmerced/mediumresidential/mediumresidential40.tif  \n",
            "  inflating: Unmerced/mediumresidential/mediumresidential41.tif  \n",
            "  inflating: Unmerced/mediumresidential/mediumresidential42.tif  \n",
            "  inflating: Unmerced/mediumresidential/mediumresidential43.tif  \n",
            "  inflating: Unmerced/mediumresidential/mediumresidential44.tif  \n",
            "  inflating: Unmerced/mediumresidential/mediumresidential45.tif  \n",
            "  inflating: Unmerced/mediumresidential/mediumresidential46.tif  \n",
            "  inflating: Unmerced/mediumresidential/mediumresidential47.tif  \n",
            "  inflating: Unmerced/mediumresidential/mediumresidential48.tif  \n",
            "  inflating: Unmerced/mediumresidential/mediumresidential49.tif  \n",
            "  inflating: Unmerced/mediumresidential/mediumresidential50.tif  \n",
            "  inflating: Unmerced/mediumresidential/mediumresidential51.tif  \n",
            "  inflating: Unmerced/mediumresidential/mediumresidential52.tif  \n",
            "  inflating: Unmerced/mediumresidential/mediumresidential53.tif  \n",
            "  inflating: Unmerced/mediumresidential/mediumresidential54.tif  \n",
            "  inflating: Unmerced/mediumresidential/mediumresidential55.tif  \n",
            "  inflating: Unmerced/mediumresidential/mediumresidential56.tif  \n",
            "  inflating: Unmerced/mediumresidential/mediumresidential57.tif  \n",
            "  inflating: Unmerced/mediumresidential/mediumresidential58.tif  \n",
            "  inflating: Unmerced/mediumresidential/mediumresidential59.tif  \n",
            "  inflating: Unmerced/mediumresidential/mediumresidential60.tif  \n",
            "  inflating: Unmerced/mediumresidential/mediumresidential61.tif  \n",
            "  inflating: Unmerced/mediumresidential/mediumresidential62.tif  \n",
            "  inflating: Unmerced/mediumresidential/mediumresidential63.tif  \n",
            "  inflating: Unmerced/mediumresidential/mediumresidential64.tif  \n",
            "  inflating: Unmerced/mediumresidential/mediumresidential65.tif  \n",
            "  inflating: Unmerced/mediumresidential/mediumresidential66.tif  \n",
            "  inflating: Unmerced/mediumresidential/mediumresidential67.tif  \n",
            "  inflating: Unmerced/mediumresidential/mediumresidential68.tif  \n",
            "  inflating: Unmerced/mediumresidential/mediumresidential69.tif  \n",
            "  inflating: Unmerced/mediumresidential/mediumresidential70.tif  \n",
            "  inflating: Unmerced/mediumresidential/mediumresidential71.tif  \n",
            "  inflating: Unmerced/mediumresidential/mediumresidential72.tif  \n",
            "  inflating: Unmerced/mediumresidential/mediumresidential73.tif  \n",
            "  inflating: Unmerced/mediumresidential/mediumresidential74.tif  \n",
            "  inflating: Unmerced/mediumresidential/mediumresidential75.tif  \n",
            "  inflating: Unmerced/mediumresidential/mediumresidential76.tif  \n",
            "  inflating: Unmerced/mediumresidential/mediumresidential77.tif  \n",
            "  inflating: Unmerced/mediumresidential/mediumresidential78.tif  \n",
            "  inflating: Unmerced/mediumresidential/mediumresidential79.tif  \n",
            "  inflating: Unmerced/mediumresidential/mediumresidential80.tif  \n",
            "  inflating: Unmerced/mediumresidential/mediumresidential81.tif  \n",
            "  inflating: Unmerced/mediumresidential/mediumresidential82.tif  \n",
            "  inflating: Unmerced/mediumresidential/mediumresidential83.tif  \n",
            "  inflating: Unmerced/mediumresidential/mediumresidential84.tif  \n",
            "  inflating: Unmerced/mediumresidential/mediumresidential85.tif  \n",
            "  inflating: Unmerced/mediumresidential/mediumresidential86.tif  \n",
            "  inflating: Unmerced/mediumresidential/mediumresidential87.tif  \n",
            "  inflating: Unmerced/mediumresidential/mediumresidential88.tif  \n",
            "  inflating: Unmerced/mediumresidential/mediumresidential89.tif  \n",
            "  inflating: Unmerced/mediumresidential/mediumresidential90.tif  \n",
            "  inflating: Unmerced/mediumresidential/mediumresidential91.tif  \n",
            "  inflating: Unmerced/mediumresidential/mediumresidential92.tif  \n",
            "  inflating: Unmerced/mediumresidential/mediumresidential93.tif  \n",
            "  inflating: Unmerced/mediumresidential/mediumresidential94.tif  \n",
            "  inflating: Unmerced/mediumresidential/mediumresidential95.tif  \n",
            "  inflating: Unmerced/mediumresidential/mediumresidential96.tif  \n",
            "  inflating: Unmerced/mediumresidential/mediumresidential97.tif  \n",
            "  inflating: Unmerced/mediumresidential/mediumresidential98.tif  \n",
            "  inflating: Unmerced/mediumresidential/mediumresidential99.tif  \n",
            "   creating: Unmerced/mobilehomepark/\n",
            "  inflating: Unmerced/mobilehomepark/mobilehomepark00.tif  \n",
            "  inflating: Unmerced/mobilehomepark/mobilehomepark01.tif  \n",
            "  inflating: Unmerced/mobilehomepark/mobilehomepark02.tif  \n",
            "  inflating: Unmerced/mobilehomepark/mobilehomepark03.tif  \n",
            "  inflating: Unmerced/mobilehomepark/mobilehomepark04.tif  \n",
            "  inflating: Unmerced/mobilehomepark/mobilehomepark05.tif  \n",
            "  inflating: Unmerced/mobilehomepark/mobilehomepark06.tif  \n",
            "  inflating: Unmerced/mobilehomepark/mobilehomepark07.tif  \n",
            "  inflating: Unmerced/mobilehomepark/mobilehomepark08.tif  \n",
            "  inflating: Unmerced/mobilehomepark/mobilehomepark09.tif  \n",
            "  inflating: Unmerced/mobilehomepark/mobilehomepark10.tif  \n",
            "  inflating: Unmerced/mobilehomepark/mobilehomepark11.tif  \n",
            "  inflating: Unmerced/mobilehomepark/mobilehomepark12.tif  \n",
            "  inflating: Unmerced/mobilehomepark/mobilehomepark13.tif  \n",
            "  inflating: Unmerced/mobilehomepark/mobilehomepark14.tif  \n",
            "  inflating: Unmerced/mobilehomepark/mobilehomepark15.tif  \n",
            "  inflating: Unmerced/mobilehomepark/mobilehomepark16.tif  \n",
            "  inflating: Unmerced/mobilehomepark/mobilehomepark17.tif  \n",
            "  inflating: Unmerced/mobilehomepark/mobilehomepark18.tif  \n",
            "  inflating: Unmerced/mobilehomepark/mobilehomepark19.tif  \n",
            "  inflating: Unmerced/mobilehomepark/mobilehomepark20.tif  \n",
            "  inflating: Unmerced/mobilehomepark/mobilehomepark21.tif  \n",
            "  inflating: Unmerced/mobilehomepark/mobilehomepark22.tif  \n",
            "  inflating: Unmerced/mobilehomepark/mobilehomepark23.tif  \n",
            "  inflating: Unmerced/mobilehomepark/mobilehomepark24.tif  \n",
            "  inflating: Unmerced/mobilehomepark/mobilehomepark25.tif  \n",
            "  inflating: Unmerced/mobilehomepark/mobilehomepark26.tif  \n",
            "  inflating: Unmerced/mobilehomepark/mobilehomepark27.tif  \n",
            "  inflating: Unmerced/mobilehomepark/mobilehomepark28.tif  \n",
            "  inflating: Unmerced/mobilehomepark/mobilehomepark29.tif  \n",
            "  inflating: Unmerced/mobilehomepark/mobilehomepark30.tif  \n",
            "  inflating: Unmerced/mobilehomepark/mobilehomepark31.tif  \n",
            "  inflating: Unmerced/mobilehomepark/mobilehomepark32.tif  \n",
            "  inflating: Unmerced/mobilehomepark/mobilehomepark33.tif  \n",
            "  inflating: Unmerced/mobilehomepark/mobilehomepark34.tif  \n",
            "  inflating: Unmerced/mobilehomepark/mobilehomepark35.tif  \n",
            "  inflating: Unmerced/mobilehomepark/mobilehomepark36.tif  \n",
            "  inflating: Unmerced/mobilehomepark/mobilehomepark37.tif  \n",
            "  inflating: Unmerced/mobilehomepark/mobilehomepark38.tif  \n",
            "  inflating: Unmerced/mobilehomepark/mobilehomepark39.tif  \n",
            "  inflating: Unmerced/mobilehomepark/mobilehomepark40.tif  \n",
            "  inflating: Unmerced/mobilehomepark/mobilehomepark41.tif  \n",
            "  inflating: Unmerced/mobilehomepark/mobilehomepark42.tif  \n",
            "  inflating: Unmerced/mobilehomepark/mobilehomepark43.tif  \n",
            "  inflating: Unmerced/mobilehomepark/mobilehomepark44.tif  \n",
            "  inflating: Unmerced/mobilehomepark/mobilehomepark45.tif  \n",
            "  inflating: Unmerced/mobilehomepark/mobilehomepark46.tif  \n",
            "  inflating: Unmerced/mobilehomepark/mobilehomepark47.tif  \n",
            "  inflating: Unmerced/mobilehomepark/mobilehomepark48.tif  \n",
            "  inflating: Unmerced/mobilehomepark/mobilehomepark49.tif  \n",
            "  inflating: Unmerced/mobilehomepark/mobilehomepark50.tif  \n",
            "  inflating: Unmerced/mobilehomepark/mobilehomepark51.tif  \n",
            "  inflating: Unmerced/mobilehomepark/mobilehomepark52.tif  \n",
            "  inflating: Unmerced/mobilehomepark/mobilehomepark53.tif  \n",
            "  inflating: Unmerced/mobilehomepark/mobilehomepark54.tif  \n",
            "  inflating: Unmerced/mobilehomepark/mobilehomepark55.tif  \n",
            "  inflating: Unmerced/mobilehomepark/mobilehomepark56.tif  \n",
            "  inflating: Unmerced/mobilehomepark/mobilehomepark57.tif  \n",
            "  inflating: Unmerced/mobilehomepark/mobilehomepark58.tif  \n",
            "  inflating: Unmerced/mobilehomepark/mobilehomepark59.tif  \n",
            "  inflating: Unmerced/mobilehomepark/mobilehomepark60.tif  \n",
            "  inflating: Unmerced/mobilehomepark/mobilehomepark61.tif  \n",
            "  inflating: Unmerced/mobilehomepark/mobilehomepark62.tif  \n",
            "  inflating: Unmerced/mobilehomepark/mobilehomepark63.tif  \n",
            "  inflating: Unmerced/mobilehomepark/mobilehomepark64.tif  \n",
            "  inflating: Unmerced/mobilehomepark/mobilehomepark65.tif  \n",
            "  inflating: Unmerced/mobilehomepark/mobilehomepark66.tif  \n",
            "  inflating: Unmerced/mobilehomepark/mobilehomepark67.tif  \n",
            "  inflating: Unmerced/mobilehomepark/mobilehomepark68.tif  \n",
            "  inflating: Unmerced/mobilehomepark/mobilehomepark69.tif  \n",
            "  inflating: Unmerced/mobilehomepark/mobilehomepark70.tif  \n",
            "  inflating: Unmerced/mobilehomepark/mobilehomepark71.tif  \n",
            "  inflating: Unmerced/mobilehomepark/mobilehomepark72.tif  \n",
            "  inflating: Unmerced/mobilehomepark/mobilehomepark73.tif  \n",
            "  inflating: Unmerced/mobilehomepark/mobilehomepark74.tif  \n",
            "  inflating: Unmerced/mobilehomepark/mobilehomepark75.tif  \n",
            "  inflating: Unmerced/mobilehomepark/mobilehomepark76.tif  \n",
            "  inflating: Unmerced/mobilehomepark/mobilehomepark77.tif  \n",
            "  inflating: Unmerced/mobilehomepark/mobilehomepark78.tif  \n",
            "  inflating: Unmerced/mobilehomepark/mobilehomepark79.tif  \n",
            "  inflating: Unmerced/mobilehomepark/mobilehomepark80.tif  \n",
            "  inflating: Unmerced/mobilehomepark/mobilehomepark81.tif  \n",
            "  inflating: Unmerced/mobilehomepark/mobilehomepark82.tif  \n",
            "  inflating: Unmerced/mobilehomepark/mobilehomepark83.tif  \n",
            "  inflating: Unmerced/mobilehomepark/mobilehomepark84.tif  \n",
            "  inflating: Unmerced/mobilehomepark/mobilehomepark85.tif  \n",
            "  inflating: Unmerced/mobilehomepark/mobilehomepark86.tif  \n",
            "  inflating: Unmerced/mobilehomepark/mobilehomepark87.tif  \n",
            "  inflating: Unmerced/mobilehomepark/mobilehomepark88.tif  \n",
            "  inflating: Unmerced/mobilehomepark/mobilehomepark89.tif  \n",
            "  inflating: Unmerced/mobilehomepark/mobilehomepark90.tif  \n",
            "  inflating: Unmerced/mobilehomepark/mobilehomepark91.tif  \n",
            "  inflating: Unmerced/mobilehomepark/mobilehomepark92.tif  \n",
            "  inflating: Unmerced/mobilehomepark/mobilehomepark93.tif  \n",
            "  inflating: Unmerced/mobilehomepark/mobilehomepark94.tif  \n",
            "  inflating: Unmerced/mobilehomepark/mobilehomepark95.tif  \n",
            "  inflating: Unmerced/mobilehomepark/mobilehomepark96.tif  \n",
            "  inflating: Unmerced/mobilehomepark/mobilehomepark97.tif  \n",
            "  inflating: Unmerced/mobilehomepark/mobilehomepark98.tif  \n",
            "  inflating: Unmerced/mobilehomepark/mobilehomepark99.tif  \n",
            "   creating: Unmerced/overpass/\n",
            "  inflating: Unmerced/overpass/overpass00.tif  \n",
            "  inflating: Unmerced/overpass/overpass01.tif  \n",
            "  inflating: Unmerced/overpass/overpass02.tif  \n",
            "  inflating: Unmerced/overpass/overpass03.tif  \n",
            "  inflating: Unmerced/overpass/overpass04.tif  \n",
            "  inflating: Unmerced/overpass/overpass05.tif  \n",
            "  inflating: Unmerced/overpass/overpass06.tif  \n",
            "  inflating: Unmerced/overpass/overpass07.tif  \n",
            "  inflating: Unmerced/overpass/overpass08.tif  \n",
            "  inflating: Unmerced/overpass/overpass09.tif  \n",
            "  inflating: Unmerced/overpass/overpass10.tif  \n",
            "  inflating: Unmerced/overpass/overpass11.tif  \n",
            "  inflating: Unmerced/overpass/overpass12.tif  \n",
            "  inflating: Unmerced/overpass/overpass13.tif  \n",
            "  inflating: Unmerced/overpass/overpass14.tif  \n",
            "  inflating: Unmerced/overpass/overpass15.tif  \n",
            "  inflating: Unmerced/overpass/overpass16.tif  \n",
            "  inflating: Unmerced/overpass/overpass17.tif  \n",
            "  inflating: Unmerced/overpass/overpass18.tif  \n",
            "  inflating: Unmerced/overpass/overpass19.tif  \n",
            "  inflating: Unmerced/overpass/overpass20.tif  \n",
            "  inflating: Unmerced/overpass/overpass21.tif  \n",
            "  inflating: Unmerced/overpass/overpass22.tif  \n",
            "  inflating: Unmerced/overpass/overpass23.tif  \n",
            "  inflating: Unmerced/overpass/overpass24.tif  \n",
            "  inflating: Unmerced/overpass/overpass25.tif  \n",
            "  inflating: Unmerced/overpass/overpass26.tif  \n",
            "  inflating: Unmerced/overpass/overpass27.tif  \n",
            "  inflating: Unmerced/overpass/overpass28.tif  \n",
            "  inflating: Unmerced/overpass/overpass29.tif  \n",
            "  inflating: Unmerced/overpass/overpass30.tif  \n",
            "  inflating: Unmerced/overpass/overpass31.tif  \n",
            "  inflating: Unmerced/overpass/overpass32.tif  \n",
            "  inflating: Unmerced/overpass/overpass33.tif  \n",
            "  inflating: Unmerced/overpass/overpass34.tif  \n",
            "  inflating: Unmerced/overpass/overpass35.tif  \n",
            "  inflating: Unmerced/overpass/overpass36.tif  \n",
            "  inflating: Unmerced/overpass/overpass37.tif  \n",
            "  inflating: Unmerced/overpass/overpass38.tif  \n",
            "  inflating: Unmerced/overpass/overpass39.tif  \n",
            "  inflating: Unmerced/overpass/overpass40.tif  \n",
            "  inflating: Unmerced/overpass/overpass41.tif  \n",
            "  inflating: Unmerced/overpass/overpass42.tif  \n",
            "  inflating: Unmerced/overpass/overpass43.tif  \n",
            "  inflating: Unmerced/overpass/overpass44.tif  \n",
            "  inflating: Unmerced/overpass/overpass45.tif  \n",
            "  inflating: Unmerced/overpass/overpass46.tif  \n",
            "  inflating: Unmerced/overpass/overpass47.tif  \n",
            "  inflating: Unmerced/overpass/overpass48.tif  \n",
            "  inflating: Unmerced/overpass/overpass49.tif  \n",
            "  inflating: Unmerced/overpass/overpass50.tif  \n",
            "  inflating: Unmerced/overpass/overpass51.tif  \n",
            "  inflating: Unmerced/overpass/overpass52.tif  \n",
            "  inflating: Unmerced/overpass/overpass53.tif  \n",
            "  inflating: Unmerced/overpass/overpass54.tif  \n",
            "  inflating: Unmerced/overpass/overpass55.tif  \n",
            "  inflating: Unmerced/overpass/overpass56.tif  \n",
            "  inflating: Unmerced/overpass/overpass57.tif  \n",
            "  inflating: Unmerced/overpass/overpass58.tif  \n",
            "  inflating: Unmerced/overpass/overpass59.tif  \n",
            "  inflating: Unmerced/overpass/overpass60.tif  \n",
            "  inflating: Unmerced/overpass/overpass61.tif  \n",
            "  inflating: Unmerced/overpass/overpass62.tif  \n",
            "  inflating: Unmerced/overpass/overpass63.tif  \n",
            "  inflating: Unmerced/overpass/overpass64.tif  \n",
            "  inflating: Unmerced/overpass/overpass65.tif  \n",
            "  inflating: Unmerced/overpass/overpass66.tif  \n",
            "  inflating: Unmerced/overpass/overpass67.tif  \n",
            "  inflating: Unmerced/overpass/overpass68.tif  \n",
            "  inflating: Unmerced/overpass/overpass69.tif  \n",
            "  inflating: Unmerced/overpass/overpass70.tif  \n",
            "  inflating: Unmerced/overpass/overpass71.tif  \n",
            "  inflating: Unmerced/overpass/overpass72.tif  \n",
            "  inflating: Unmerced/overpass/overpass73.tif  \n",
            "  inflating: Unmerced/overpass/overpass74.tif  \n",
            "  inflating: Unmerced/overpass/overpass75.tif  \n",
            "  inflating: Unmerced/overpass/overpass76.tif  \n",
            "  inflating: Unmerced/overpass/overpass77.tif  \n",
            "  inflating: Unmerced/overpass/overpass78.tif  \n",
            "  inflating: Unmerced/overpass/overpass79.tif  \n",
            "  inflating: Unmerced/overpass/overpass80.tif  \n",
            "  inflating: Unmerced/overpass/overpass81.tif  \n",
            "  inflating: Unmerced/overpass/overpass82.tif  \n",
            "  inflating: Unmerced/overpass/overpass83.tif  \n",
            "  inflating: Unmerced/overpass/overpass84.tif  \n",
            "  inflating: Unmerced/overpass/overpass85.tif  \n",
            "  inflating: Unmerced/overpass/overpass86.tif  \n",
            "  inflating: Unmerced/overpass/overpass87.tif  \n",
            "  inflating: Unmerced/overpass/overpass88.tif  \n",
            "  inflating: Unmerced/overpass/overpass89.tif  \n",
            "  inflating: Unmerced/overpass/overpass90.tif  \n",
            "  inflating: Unmerced/overpass/overpass91.tif  \n",
            "  inflating: Unmerced/overpass/overpass92.tif  \n",
            "  inflating: Unmerced/overpass/overpass93.tif  \n",
            "  inflating: Unmerced/overpass/overpass94.tif  \n",
            "  inflating: Unmerced/overpass/overpass95.tif  \n",
            "  inflating: Unmerced/overpass/overpass96.tif  \n",
            "  inflating: Unmerced/overpass/overpass97.tif  \n",
            "  inflating: Unmerced/overpass/overpass98.tif  \n",
            "  inflating: Unmerced/overpass/overpass99.tif  \n",
            "   creating: Unmerced/parkinglot/\n",
            "  inflating: Unmerced/parkinglot/parkinglot00.tif  \n",
            "  inflating: Unmerced/parkinglot/parkinglot01.tif  \n",
            "  inflating: Unmerced/parkinglot/parkinglot02.tif  \n",
            "  inflating: Unmerced/parkinglot/parkinglot03.tif  \n",
            "  inflating: Unmerced/parkinglot/parkinglot04.tif  \n",
            "  inflating: Unmerced/parkinglot/parkinglot05.tif  \n",
            "  inflating: Unmerced/parkinglot/parkinglot06.tif  \n",
            "  inflating: Unmerced/parkinglot/parkinglot07.tif  \n",
            "  inflating: Unmerced/parkinglot/parkinglot08.tif  \n",
            "  inflating: Unmerced/parkinglot/parkinglot09.tif  \n",
            "  inflating: Unmerced/parkinglot/parkinglot10.tif  \n",
            "  inflating: Unmerced/parkinglot/parkinglot11.tif  \n",
            "  inflating: Unmerced/parkinglot/parkinglot12.tif  \n",
            "  inflating: Unmerced/parkinglot/parkinglot13.tif  \n",
            "  inflating: Unmerced/parkinglot/parkinglot14.tif  \n",
            "  inflating: Unmerced/parkinglot/parkinglot15.tif  \n",
            "  inflating: Unmerced/parkinglot/parkinglot16.tif  \n",
            "  inflating: Unmerced/parkinglot/parkinglot17.tif  \n",
            "  inflating: Unmerced/parkinglot/parkinglot18.tif  \n",
            "  inflating: Unmerced/parkinglot/parkinglot19.tif  \n",
            "  inflating: Unmerced/parkinglot/parkinglot20.tif  \n",
            "  inflating: Unmerced/parkinglot/parkinglot21.tif  \n",
            "  inflating: Unmerced/parkinglot/parkinglot22.tif  \n",
            "  inflating: Unmerced/parkinglot/parkinglot23.tif  \n",
            "  inflating: Unmerced/parkinglot/parkinglot24.tif  \n",
            "  inflating: Unmerced/parkinglot/parkinglot25.tif  \n",
            "  inflating: Unmerced/parkinglot/parkinglot26.tif  \n",
            "  inflating: Unmerced/parkinglot/parkinglot27.tif  \n",
            "  inflating: Unmerced/parkinglot/parkinglot28.tif  \n",
            "  inflating: Unmerced/parkinglot/parkinglot29.tif  \n",
            "  inflating: Unmerced/parkinglot/parkinglot30.tif  \n",
            "  inflating: Unmerced/parkinglot/parkinglot31.tif  \n",
            "  inflating: Unmerced/parkinglot/parkinglot32.tif  \n",
            "  inflating: Unmerced/parkinglot/parkinglot33.tif  \n",
            "  inflating: Unmerced/parkinglot/parkinglot34.tif  \n",
            "  inflating: Unmerced/parkinglot/parkinglot35.tif  \n",
            "  inflating: Unmerced/parkinglot/parkinglot36.tif  \n",
            "  inflating: Unmerced/parkinglot/parkinglot37.tif  \n",
            "  inflating: Unmerced/parkinglot/parkinglot38.tif  \n",
            "  inflating: Unmerced/parkinglot/parkinglot39.tif  \n",
            "  inflating: Unmerced/parkinglot/parkinglot40.tif  \n",
            "  inflating: Unmerced/parkinglot/parkinglot41.tif  \n",
            "  inflating: Unmerced/parkinglot/parkinglot42.tif  \n",
            "  inflating: Unmerced/parkinglot/parkinglot43.tif  \n",
            "  inflating: Unmerced/parkinglot/parkinglot44.tif  \n",
            "  inflating: Unmerced/parkinglot/parkinglot45.tif  \n",
            "  inflating: Unmerced/parkinglot/parkinglot46.tif  \n",
            "  inflating: Unmerced/parkinglot/parkinglot47.tif  \n",
            "  inflating: Unmerced/parkinglot/parkinglot48.tif  \n",
            "  inflating: Unmerced/parkinglot/parkinglot49.tif  \n",
            "  inflating: Unmerced/parkinglot/parkinglot50.tif  \n",
            "  inflating: Unmerced/parkinglot/parkinglot51.tif  \n",
            "  inflating: Unmerced/parkinglot/parkinglot52.tif  \n",
            "  inflating: Unmerced/parkinglot/parkinglot53.tif  \n",
            "  inflating: Unmerced/parkinglot/parkinglot54.tif  \n",
            "  inflating: Unmerced/parkinglot/parkinglot55.tif  \n",
            "  inflating: Unmerced/parkinglot/parkinglot56.tif  \n",
            "  inflating: Unmerced/parkinglot/parkinglot57.tif  \n",
            "  inflating: Unmerced/parkinglot/parkinglot58.tif  \n",
            "  inflating: Unmerced/parkinglot/parkinglot59.tif  \n",
            "  inflating: Unmerced/parkinglot/parkinglot60.tif  \n",
            "  inflating: Unmerced/parkinglot/parkinglot61.tif  \n",
            "  inflating: Unmerced/parkinglot/parkinglot62.tif  \n",
            "  inflating: Unmerced/parkinglot/parkinglot63.tif  \n",
            "  inflating: Unmerced/parkinglot/parkinglot64.tif  \n",
            "  inflating: Unmerced/parkinglot/parkinglot65.tif  \n",
            "  inflating: Unmerced/parkinglot/parkinglot66.tif  \n",
            "  inflating: Unmerced/parkinglot/parkinglot67.tif  \n",
            "  inflating: Unmerced/parkinglot/parkinglot68.tif  \n",
            "  inflating: Unmerced/parkinglot/parkinglot69.tif  \n",
            "  inflating: Unmerced/parkinglot/parkinglot70.tif  \n",
            "  inflating: Unmerced/parkinglot/parkinglot71.tif  \n",
            "  inflating: Unmerced/parkinglot/parkinglot72.tif  \n",
            "  inflating: Unmerced/parkinglot/parkinglot73.tif  \n",
            "  inflating: Unmerced/parkinglot/parkinglot74.tif  \n",
            "  inflating: Unmerced/parkinglot/parkinglot75.tif  \n",
            "  inflating: Unmerced/parkinglot/parkinglot76.tif  \n",
            "  inflating: Unmerced/parkinglot/parkinglot77.tif  \n",
            "  inflating: Unmerced/parkinglot/parkinglot78.tif  \n",
            "  inflating: Unmerced/parkinglot/parkinglot79.tif  \n",
            "  inflating: Unmerced/parkinglot/parkinglot80.tif  \n",
            "  inflating: Unmerced/parkinglot/parkinglot81.tif  \n",
            "  inflating: Unmerced/parkinglot/parkinglot82.tif  \n",
            "  inflating: Unmerced/parkinglot/parkinglot83.tif  \n",
            "  inflating: Unmerced/parkinglot/parkinglot84.tif  \n",
            "  inflating: Unmerced/parkinglot/parkinglot85.tif  \n",
            "  inflating: Unmerced/parkinglot/parkinglot86.tif  \n",
            "  inflating: Unmerced/parkinglot/parkinglot87.tif  \n",
            "  inflating: Unmerced/parkinglot/parkinglot88.tif  \n",
            "  inflating: Unmerced/parkinglot/parkinglot89.tif  \n",
            "  inflating: Unmerced/parkinglot/parkinglot90.tif  \n",
            "  inflating: Unmerced/parkinglot/parkinglot91.tif  \n",
            "  inflating: Unmerced/parkinglot/parkinglot92.tif  \n",
            "  inflating: Unmerced/parkinglot/parkinglot93.tif  \n",
            "  inflating: Unmerced/parkinglot/parkinglot94.tif  \n",
            "  inflating: Unmerced/parkinglot/parkinglot95.tif  \n",
            "  inflating: Unmerced/parkinglot/parkinglot96.tif  \n",
            "  inflating: Unmerced/parkinglot/parkinglot97.tif  \n",
            "  inflating: Unmerced/parkinglot/parkinglot98.tif  \n",
            "  inflating: Unmerced/parkinglot/parkinglot99.tif  \n",
            "   creating: Unmerced/river/\n",
            "  inflating: Unmerced/river/river00.tif  \n",
            "  inflating: Unmerced/river/river01.tif  \n",
            "  inflating: Unmerced/river/river02.tif  \n",
            "  inflating: Unmerced/river/river03.tif  \n",
            "  inflating: Unmerced/river/river04.tif  \n",
            "  inflating: Unmerced/river/river05.tif  \n",
            "  inflating: Unmerced/river/river06.tif  \n",
            "  inflating: Unmerced/river/river07.tif  \n",
            "  inflating: Unmerced/river/river08.tif  \n",
            "  inflating: Unmerced/river/river09.tif  \n",
            "  inflating: Unmerced/river/river10.tif  \n",
            "  inflating: Unmerced/river/river11.tif  \n",
            "  inflating: Unmerced/river/river12.tif  \n",
            "  inflating: Unmerced/river/river13.tif  \n",
            "  inflating: Unmerced/river/river14.tif  \n",
            "  inflating: Unmerced/river/river15.tif  \n",
            "  inflating: Unmerced/river/river16.tif  \n",
            "  inflating: Unmerced/river/river17.tif  \n",
            "  inflating: Unmerced/river/river18.tif  \n",
            "  inflating: Unmerced/river/river19.tif  \n",
            "  inflating: Unmerced/river/river20.tif  \n",
            "  inflating: Unmerced/river/river21.tif  \n",
            "  inflating: Unmerced/river/river22.tif  \n",
            "  inflating: Unmerced/river/river23.tif  \n",
            "  inflating: Unmerced/river/river24.tif  \n",
            "  inflating: Unmerced/river/river25.tif  \n",
            "  inflating: Unmerced/river/river26.tif  \n",
            "  inflating: Unmerced/river/river27.tif  \n",
            "  inflating: Unmerced/river/river28.tif  \n",
            "  inflating: Unmerced/river/river29.tif  \n",
            "  inflating: Unmerced/river/river30.tif  \n",
            "  inflating: Unmerced/river/river31.tif  \n",
            "  inflating: Unmerced/river/river32.tif  \n",
            "  inflating: Unmerced/river/river33.tif  \n",
            "  inflating: Unmerced/river/river34.tif  \n",
            "  inflating: Unmerced/river/river35.tif  \n",
            "  inflating: Unmerced/river/river36.tif  \n",
            "  inflating: Unmerced/river/river37.tif  \n",
            "  inflating: Unmerced/river/river38.tif  \n",
            "  inflating: Unmerced/river/river39.tif  \n",
            "  inflating: Unmerced/river/river40.tif  \n",
            "  inflating: Unmerced/river/river41.tif  \n",
            "  inflating: Unmerced/river/river42.tif  \n",
            "  inflating: Unmerced/river/river43.tif  \n",
            "  inflating: Unmerced/river/river44.tif  \n",
            "  inflating: Unmerced/river/river45.tif  \n",
            "  inflating: Unmerced/river/river46.tif  \n",
            "  inflating: Unmerced/river/river47.tif  \n",
            "  inflating: Unmerced/river/river48.tif  \n",
            "  inflating: Unmerced/river/river49.tif  \n",
            "  inflating: Unmerced/river/river50.tif  \n",
            "  inflating: Unmerced/river/river51.tif  \n",
            "  inflating: Unmerced/river/river52.tif  \n",
            "  inflating: Unmerced/river/river53.tif  \n",
            "  inflating: Unmerced/river/river54.tif  \n",
            "  inflating: Unmerced/river/river55.tif  \n",
            "  inflating: Unmerced/river/river56.tif  \n",
            "  inflating: Unmerced/river/river57.tif  \n",
            "  inflating: Unmerced/river/river58.tif  \n",
            "  inflating: Unmerced/river/river59.tif  \n",
            "  inflating: Unmerced/river/river60.tif  \n",
            "  inflating: Unmerced/river/river61.tif  \n",
            "  inflating: Unmerced/river/river62.tif  \n",
            "  inflating: Unmerced/river/river63.tif  \n",
            "  inflating: Unmerced/river/river64.tif  \n",
            "  inflating: Unmerced/river/river65.tif  \n",
            "  inflating: Unmerced/river/river66.tif  \n",
            "  inflating: Unmerced/river/river67.tif  \n",
            "  inflating: Unmerced/river/river68.tif  \n",
            "  inflating: Unmerced/river/river69.tif  \n",
            "  inflating: Unmerced/river/river70.tif  \n",
            "  inflating: Unmerced/river/river71.tif  \n",
            "  inflating: Unmerced/river/river72.tif  \n",
            "  inflating: Unmerced/river/river73.tif  \n",
            "  inflating: Unmerced/river/river74.tif  \n",
            "  inflating: Unmerced/river/river75.tif  \n",
            "  inflating: Unmerced/river/river76.tif  \n",
            "  inflating: Unmerced/river/river77.tif  \n",
            "  inflating: Unmerced/river/river78.tif  \n",
            "  inflating: Unmerced/river/river79.tif  \n",
            "  inflating: Unmerced/river/river80.tif  \n",
            "  inflating: Unmerced/river/river81.tif  \n",
            "  inflating: Unmerced/river/river82.tif  \n",
            "  inflating: Unmerced/river/river83.tif  \n",
            "  inflating: Unmerced/river/river84.tif  \n",
            "  inflating: Unmerced/river/river85.tif  \n",
            "  inflating: Unmerced/river/river86.tif  \n",
            "  inflating: Unmerced/river/river87.tif  \n",
            "  inflating: Unmerced/river/river88.tif  \n",
            "  inflating: Unmerced/river/river89.tif  \n",
            "  inflating: Unmerced/river/river90.tif  \n",
            "  inflating: Unmerced/river/river91.tif  \n",
            "  inflating: Unmerced/river/river92.tif  \n",
            "  inflating: Unmerced/river/river93.tif  \n",
            "  inflating: Unmerced/river/river94.tif  \n",
            "  inflating: Unmerced/river/river95.tif  \n",
            "  inflating: Unmerced/river/river96.tif  \n",
            "  inflating: Unmerced/river/river97.tif  \n",
            "  inflating: Unmerced/river/river98.tif  \n",
            "  inflating: Unmerced/river/river99.tif  \n",
            "   creating: Unmerced/runway/\n",
            "  inflating: Unmerced/runway/runway00.tif  \n",
            "  inflating: Unmerced/runway/runway01.tif  \n",
            "  inflating: Unmerced/runway/runway02.tif  \n",
            "  inflating: Unmerced/runway/runway03.tif  \n",
            "  inflating: Unmerced/runway/runway04.tif  \n",
            "  inflating: Unmerced/runway/runway05.tif  \n",
            "  inflating: Unmerced/runway/runway06.tif  \n",
            "  inflating: Unmerced/runway/runway07.tif  \n",
            "  inflating: Unmerced/runway/runway08.tif  \n",
            "  inflating: Unmerced/runway/runway09.tif  \n",
            "  inflating: Unmerced/runway/runway10.tif  \n",
            "  inflating: Unmerced/runway/runway11.tif  \n",
            "  inflating: Unmerced/runway/runway12.tif  \n",
            "  inflating: Unmerced/runway/runway13.tif  \n",
            "  inflating: Unmerced/runway/runway14.tif  \n",
            "  inflating: Unmerced/runway/runway15.tif  \n",
            "  inflating: Unmerced/runway/runway16.tif  \n",
            "  inflating: Unmerced/runway/runway17.tif  \n",
            "  inflating: Unmerced/runway/runway18.tif  \n",
            "  inflating: Unmerced/runway/runway19.tif  \n",
            "  inflating: Unmerced/runway/runway20.tif  \n",
            "  inflating: Unmerced/runway/runway21.tif  \n",
            "  inflating: Unmerced/runway/runway22.tif  \n",
            "  inflating: Unmerced/runway/runway23.tif  \n",
            "  inflating: Unmerced/runway/runway24.tif  \n",
            "  inflating: Unmerced/runway/runway25.tif  \n",
            "  inflating: Unmerced/runway/runway26.tif  \n",
            "  inflating: Unmerced/runway/runway27.tif  \n",
            "  inflating: Unmerced/runway/runway28.tif  \n",
            "  inflating: Unmerced/runway/runway29.tif  \n",
            "  inflating: Unmerced/runway/runway30.tif  \n",
            "  inflating: Unmerced/runway/runway31.tif  \n",
            "  inflating: Unmerced/runway/runway32.tif  \n",
            "  inflating: Unmerced/runway/runway33.tif  \n",
            "  inflating: Unmerced/runway/runway34.tif  \n",
            "  inflating: Unmerced/runway/runway35.tif  \n",
            "  inflating: Unmerced/runway/runway36.tif  \n",
            "  inflating: Unmerced/runway/runway37.tif  \n",
            "  inflating: Unmerced/runway/runway38.tif  \n",
            "  inflating: Unmerced/runway/runway39.tif  \n",
            "  inflating: Unmerced/runway/runway40.tif  \n",
            "  inflating: Unmerced/runway/runway41.tif  \n",
            "  inflating: Unmerced/runway/runway42.tif  \n",
            "  inflating: Unmerced/runway/runway43.tif  \n",
            "  inflating: Unmerced/runway/runway44.tif  \n",
            "  inflating: Unmerced/runway/runway45.tif  \n",
            "  inflating: Unmerced/runway/runway46.tif  \n",
            "  inflating: Unmerced/runway/runway47.tif  \n",
            "  inflating: Unmerced/runway/runway48.tif  \n",
            "  inflating: Unmerced/runway/runway49.tif  \n",
            "  inflating: Unmerced/runway/runway50.tif  \n",
            "  inflating: Unmerced/runway/runway51.tif  \n",
            "  inflating: Unmerced/runway/runway52.tif  \n",
            "  inflating: Unmerced/runway/runway53.tif  \n",
            "  inflating: Unmerced/runway/runway54.tif  \n",
            "  inflating: Unmerced/runway/runway55.tif  \n",
            "  inflating: Unmerced/runway/runway56.tif  \n",
            "  inflating: Unmerced/runway/runway57.tif  \n",
            "  inflating: Unmerced/runway/runway58.tif  \n",
            "  inflating: Unmerced/runway/runway59.tif  \n",
            "  inflating: Unmerced/runway/runway60.tif  \n",
            "  inflating: Unmerced/runway/runway61.tif  \n",
            "  inflating: Unmerced/runway/runway62.tif  \n",
            "  inflating: Unmerced/runway/runway63.tif  \n",
            "  inflating: Unmerced/runway/runway64.tif  \n",
            "  inflating: Unmerced/runway/runway65.tif  \n",
            "  inflating: Unmerced/runway/runway66.tif  \n",
            "  inflating: Unmerced/runway/runway67.tif  \n",
            "  inflating: Unmerced/runway/runway68.tif  \n",
            "  inflating: Unmerced/runway/runway69.tif  \n",
            "  inflating: Unmerced/runway/runway70.tif  \n",
            "  inflating: Unmerced/runway/runway71.tif  \n",
            "  inflating: Unmerced/runway/runway72.tif  \n",
            "  inflating: Unmerced/runway/runway73.tif  \n",
            "  inflating: Unmerced/runway/runway74.tif  \n",
            "  inflating: Unmerced/runway/runway75.tif  \n",
            "  inflating: Unmerced/runway/runway76.tif  \n",
            "  inflating: Unmerced/runway/runway77.tif  \n",
            "  inflating: Unmerced/runway/runway78.tif  \n",
            "  inflating: Unmerced/runway/runway79.tif  \n",
            "  inflating: Unmerced/runway/runway80.tif  \n",
            "  inflating: Unmerced/runway/runway81.tif  \n",
            "  inflating: Unmerced/runway/runway82.tif  \n",
            "  inflating: Unmerced/runway/runway83.tif  \n",
            "  inflating: Unmerced/runway/runway84.tif  \n",
            "  inflating: Unmerced/runway/runway85.tif  \n",
            "  inflating: Unmerced/runway/runway86.tif  \n",
            "  inflating: Unmerced/runway/runway87.tif  \n",
            "  inflating: Unmerced/runway/runway88.tif  \n",
            "  inflating: Unmerced/runway/runway89.tif  \n",
            "  inflating: Unmerced/runway/runway90.tif  \n",
            "  inflating: Unmerced/runway/runway91.tif  \n",
            "  inflating: Unmerced/runway/runway92.tif  \n",
            "  inflating: Unmerced/runway/runway93.tif  \n",
            "  inflating: Unmerced/runway/runway94.tif  \n",
            "  inflating: Unmerced/runway/runway95.tif  \n",
            "  inflating: Unmerced/runway/runway96.tif  \n",
            "  inflating: Unmerced/runway/runway97.tif  \n",
            "  inflating: Unmerced/runway/runway98.tif  \n",
            "  inflating: Unmerced/runway/runway99.tif  \n",
            "   creating: Unmerced/sparseresidential/\n",
            "  inflating: Unmerced/sparseresidential/sparseresidential00.tif  \n",
            "  inflating: Unmerced/sparseresidential/sparseresidential01.tif  \n",
            "  inflating: Unmerced/sparseresidential/sparseresidential02.tif  \n",
            "  inflating: Unmerced/sparseresidential/sparseresidential03.tif  \n",
            "  inflating: Unmerced/sparseresidential/sparseresidential04.tif  \n",
            "  inflating: Unmerced/sparseresidential/sparseresidential05.tif  \n",
            "  inflating: Unmerced/sparseresidential/sparseresidential06.tif  \n",
            "  inflating: Unmerced/sparseresidential/sparseresidential07.tif  \n",
            "  inflating: Unmerced/sparseresidential/sparseresidential08.tif  \n",
            "  inflating: Unmerced/sparseresidential/sparseresidential09.tif  \n",
            "  inflating: Unmerced/sparseresidential/sparseresidential10.tif  \n",
            "  inflating: Unmerced/sparseresidential/sparseresidential11.tif  \n",
            "  inflating: Unmerced/sparseresidential/sparseresidential12.tif  \n",
            "  inflating: Unmerced/sparseresidential/sparseresidential13.tif  \n",
            "  inflating: Unmerced/sparseresidential/sparseresidential14.tif  \n",
            "  inflating: Unmerced/sparseresidential/sparseresidential15.tif  \n",
            "  inflating: Unmerced/sparseresidential/sparseresidential16.tif  \n",
            "  inflating: Unmerced/sparseresidential/sparseresidential17.tif  \n",
            "  inflating: Unmerced/sparseresidential/sparseresidential18.tif  \n",
            "  inflating: Unmerced/sparseresidential/sparseresidential19.tif  \n",
            "  inflating: Unmerced/sparseresidential/sparseresidential20.tif  \n",
            "  inflating: Unmerced/sparseresidential/sparseresidential21.tif  \n",
            "  inflating: Unmerced/sparseresidential/sparseresidential22.tif  \n",
            "  inflating: Unmerced/sparseresidential/sparseresidential23.tif  \n",
            "  inflating: Unmerced/sparseresidential/sparseresidential24.tif  \n",
            "  inflating: Unmerced/sparseresidential/sparseresidential25.tif  \n",
            "  inflating: Unmerced/sparseresidential/sparseresidential26.tif  \n",
            "  inflating: Unmerced/sparseresidential/sparseresidential27.tif  \n",
            "  inflating: Unmerced/sparseresidential/sparseresidential28.tif  \n",
            "  inflating: Unmerced/sparseresidential/sparseresidential29.tif  \n",
            "  inflating: Unmerced/sparseresidential/sparseresidential30.tif  \n",
            "  inflating: Unmerced/sparseresidential/sparseresidential31.tif  \n",
            "  inflating: Unmerced/sparseresidential/sparseresidential32.tif  \n",
            "  inflating: Unmerced/sparseresidential/sparseresidential33.tif  \n",
            "  inflating: Unmerced/sparseresidential/sparseresidential34.tif  \n",
            "  inflating: Unmerced/sparseresidential/sparseresidential35.tif  \n",
            "  inflating: Unmerced/sparseresidential/sparseresidential36.tif  \n",
            "  inflating: Unmerced/sparseresidential/sparseresidential37.tif  \n",
            "  inflating: Unmerced/sparseresidential/sparseresidential38.tif  \n",
            "  inflating: Unmerced/sparseresidential/sparseresidential39.tif  \n",
            "  inflating: Unmerced/sparseresidential/sparseresidential40.tif  \n",
            "  inflating: Unmerced/sparseresidential/sparseresidential41.tif  \n",
            "  inflating: Unmerced/sparseresidential/sparseresidential42.tif  \n",
            "  inflating: Unmerced/sparseresidential/sparseresidential43.tif  \n",
            "  inflating: Unmerced/sparseresidential/sparseresidential44.tif  \n",
            "  inflating: Unmerced/sparseresidential/sparseresidential45.tif  \n",
            "  inflating: Unmerced/sparseresidential/sparseresidential46.tif  \n",
            "  inflating: Unmerced/sparseresidential/sparseresidential47.tif  \n",
            "  inflating: Unmerced/sparseresidential/sparseresidential48.tif  \n",
            "  inflating: Unmerced/sparseresidential/sparseresidential49.tif  \n",
            "  inflating: Unmerced/sparseresidential/sparseresidential50.tif  \n",
            "  inflating: Unmerced/sparseresidential/sparseresidential51.tif  \n",
            "  inflating: Unmerced/sparseresidential/sparseresidential52.tif  \n",
            "  inflating: Unmerced/sparseresidential/sparseresidential53.tif  \n",
            "  inflating: Unmerced/sparseresidential/sparseresidential54.tif  \n",
            "  inflating: Unmerced/sparseresidential/sparseresidential55.tif  \n",
            "  inflating: Unmerced/sparseresidential/sparseresidential56.tif  \n",
            "  inflating: Unmerced/sparseresidential/sparseresidential57.tif  \n",
            "  inflating: Unmerced/sparseresidential/sparseresidential58.tif  \n",
            "  inflating: Unmerced/sparseresidential/sparseresidential59.tif  \n",
            "  inflating: Unmerced/sparseresidential/sparseresidential60.tif  \n",
            "  inflating: Unmerced/sparseresidential/sparseresidential61.tif  \n",
            "  inflating: Unmerced/sparseresidential/sparseresidential62.tif  \n",
            "  inflating: Unmerced/sparseresidential/sparseresidential63.tif  \n",
            "  inflating: Unmerced/sparseresidential/sparseresidential64.tif  \n",
            "  inflating: Unmerced/sparseresidential/sparseresidential65.tif  \n",
            "  inflating: Unmerced/sparseresidential/sparseresidential66.tif  \n",
            "  inflating: Unmerced/sparseresidential/sparseresidential67.tif  \n",
            "  inflating: Unmerced/sparseresidential/sparseresidential68.tif  \n",
            "  inflating: Unmerced/sparseresidential/sparseresidential69.tif  \n",
            "  inflating: Unmerced/sparseresidential/sparseresidential70.tif  \n",
            "  inflating: Unmerced/sparseresidential/sparseresidential71.tif  \n",
            "  inflating: Unmerced/sparseresidential/sparseresidential72.tif  \n",
            "  inflating: Unmerced/sparseresidential/sparseresidential73.tif  \n",
            "  inflating: Unmerced/sparseresidential/sparseresidential74.tif  \n",
            "  inflating: Unmerced/sparseresidential/sparseresidential75.tif  \n",
            "  inflating: Unmerced/sparseresidential/sparseresidential76.tif  \n",
            "  inflating: Unmerced/sparseresidential/sparseresidential77.tif  \n",
            "  inflating: Unmerced/sparseresidential/sparseresidential78.tif  \n",
            "  inflating: Unmerced/sparseresidential/sparseresidential79.tif  \n",
            "  inflating: Unmerced/sparseresidential/sparseresidential80.tif  \n",
            "  inflating: Unmerced/sparseresidential/sparseresidential81.tif  \n",
            "  inflating: Unmerced/sparseresidential/sparseresidential82.tif  \n",
            "  inflating: Unmerced/sparseresidential/sparseresidential83.tif  \n",
            "  inflating: Unmerced/sparseresidential/sparseresidential84.tif  \n",
            "  inflating: Unmerced/sparseresidential/sparseresidential85.tif  \n",
            "  inflating: Unmerced/sparseresidential/sparseresidential86.tif  \n",
            "  inflating: Unmerced/sparseresidential/sparseresidential87.tif  \n",
            "  inflating: Unmerced/sparseresidential/sparseresidential88.tif  \n",
            "  inflating: Unmerced/sparseresidential/sparseresidential89.tif  \n",
            "  inflating: Unmerced/sparseresidential/sparseresidential90.tif  \n",
            "  inflating: Unmerced/sparseresidential/sparseresidential91.tif  \n",
            "  inflating: Unmerced/sparseresidential/sparseresidential92.tif  \n",
            "  inflating: Unmerced/sparseresidential/sparseresidential93.tif  \n",
            "  inflating: Unmerced/sparseresidential/sparseresidential94.tif  \n",
            "  inflating: Unmerced/sparseresidential/sparseresidential95.tif  \n",
            "  inflating: Unmerced/sparseresidential/sparseresidential96.tif  \n",
            "  inflating: Unmerced/sparseresidential/sparseresidential97.tif  \n",
            "  inflating: Unmerced/sparseresidential/sparseresidential98.tif  \n",
            "  inflating: Unmerced/sparseresidential/sparseresidential99.tif  \n",
            "   creating: Unmerced/storagetanks/\n",
            "  inflating: Unmerced/storagetanks/storagetanks00.tif  \n",
            "  inflating: Unmerced/storagetanks/storagetanks01.tif  \n",
            "  inflating: Unmerced/storagetanks/storagetanks02.tif  \n",
            "  inflating: Unmerced/storagetanks/storagetanks03.tif  \n",
            "  inflating: Unmerced/storagetanks/storagetanks04.tif  \n",
            "  inflating: Unmerced/storagetanks/storagetanks05.tif  \n",
            "  inflating: Unmerced/storagetanks/storagetanks06.tif  \n",
            "  inflating: Unmerced/storagetanks/storagetanks07.tif  \n",
            "  inflating: Unmerced/storagetanks/storagetanks08.tif  \n",
            "  inflating: Unmerced/storagetanks/storagetanks09.tif  \n",
            "  inflating: Unmerced/storagetanks/storagetanks10.tif  \n",
            "  inflating: Unmerced/storagetanks/storagetanks11.tif  \n",
            "  inflating: Unmerced/storagetanks/storagetanks12.tif  \n",
            "  inflating: Unmerced/storagetanks/storagetanks13.tif  \n",
            "  inflating: Unmerced/storagetanks/storagetanks14.tif  \n",
            "  inflating: Unmerced/storagetanks/storagetanks15.tif  \n",
            "  inflating: Unmerced/storagetanks/storagetanks16.tif  \n",
            "  inflating: Unmerced/storagetanks/storagetanks17.tif  \n",
            "  inflating: Unmerced/storagetanks/storagetanks18.tif  \n",
            "  inflating: Unmerced/storagetanks/storagetanks19.tif  \n",
            "  inflating: Unmerced/storagetanks/storagetanks20.tif  \n",
            "  inflating: Unmerced/storagetanks/storagetanks21.tif  \n",
            "  inflating: Unmerced/storagetanks/storagetanks22.tif  \n",
            "  inflating: Unmerced/storagetanks/storagetanks23.tif  \n",
            "  inflating: Unmerced/storagetanks/storagetanks24.tif  \n",
            "  inflating: Unmerced/storagetanks/storagetanks25.tif  \n",
            "  inflating: Unmerced/storagetanks/storagetanks26.tif  \n",
            "  inflating: Unmerced/storagetanks/storagetanks27.tif  \n",
            "  inflating: Unmerced/storagetanks/storagetanks28.tif  \n",
            "  inflating: Unmerced/storagetanks/storagetanks29.tif  \n",
            "  inflating: Unmerced/storagetanks/storagetanks30.tif  \n",
            "  inflating: Unmerced/storagetanks/storagetanks31.tif  \n",
            "  inflating: Unmerced/storagetanks/storagetanks32.tif  \n",
            "  inflating: Unmerced/storagetanks/storagetanks33.tif  \n",
            "  inflating: Unmerced/storagetanks/storagetanks34.tif  \n",
            "  inflating: Unmerced/storagetanks/storagetanks35.tif  \n",
            "  inflating: Unmerced/storagetanks/storagetanks36.tif  \n",
            "  inflating: Unmerced/storagetanks/storagetanks37.tif  \n",
            "  inflating: Unmerced/storagetanks/storagetanks38.tif  \n",
            "  inflating: Unmerced/storagetanks/storagetanks39.tif  \n",
            "  inflating: Unmerced/storagetanks/storagetanks40.tif  \n",
            "  inflating: Unmerced/storagetanks/storagetanks41.tif  \n",
            "  inflating: Unmerced/storagetanks/storagetanks42.tif  \n",
            "  inflating: Unmerced/storagetanks/storagetanks43.tif  \n",
            "  inflating: Unmerced/storagetanks/storagetanks44.tif  \n",
            "  inflating: Unmerced/storagetanks/storagetanks45.tif  \n",
            "  inflating: Unmerced/storagetanks/storagetanks46.tif  \n",
            "  inflating: Unmerced/storagetanks/storagetanks47.tif  \n",
            "  inflating: Unmerced/storagetanks/storagetanks48.tif  \n",
            "  inflating: Unmerced/storagetanks/storagetanks49.tif  \n",
            "  inflating: Unmerced/storagetanks/storagetanks50.tif  \n",
            "  inflating: Unmerced/storagetanks/storagetanks51.tif  \n",
            "  inflating: Unmerced/storagetanks/storagetanks52.tif  \n",
            "  inflating: Unmerced/storagetanks/storagetanks53.tif  \n",
            "  inflating: Unmerced/storagetanks/storagetanks54.tif  \n",
            "  inflating: Unmerced/storagetanks/storagetanks55.tif  \n",
            "  inflating: Unmerced/storagetanks/storagetanks56.tif  \n",
            "  inflating: Unmerced/storagetanks/storagetanks57.tif  \n",
            "  inflating: Unmerced/storagetanks/storagetanks58.tif  \n",
            "  inflating: Unmerced/storagetanks/storagetanks59.tif  \n",
            "  inflating: Unmerced/storagetanks/storagetanks60.tif  \n",
            "  inflating: Unmerced/storagetanks/storagetanks61.tif  \n",
            "  inflating: Unmerced/storagetanks/storagetanks62.tif  \n",
            "  inflating: Unmerced/storagetanks/storagetanks63.tif  \n",
            "  inflating: Unmerced/storagetanks/storagetanks64.tif  \n",
            "  inflating: Unmerced/storagetanks/storagetanks65.tif  \n",
            "  inflating: Unmerced/storagetanks/storagetanks66.tif  \n",
            "  inflating: Unmerced/storagetanks/storagetanks67.tif  \n",
            "  inflating: Unmerced/storagetanks/storagetanks68.tif  \n",
            "  inflating: Unmerced/storagetanks/storagetanks69.tif  \n",
            "  inflating: Unmerced/storagetanks/storagetanks70.tif  \n",
            "  inflating: Unmerced/storagetanks/storagetanks71.tif  \n",
            "  inflating: Unmerced/storagetanks/storagetanks72.tif  \n",
            "  inflating: Unmerced/storagetanks/storagetanks73.tif  \n",
            "  inflating: Unmerced/storagetanks/storagetanks74.tif  \n",
            "  inflating: Unmerced/storagetanks/storagetanks75.tif  \n",
            "  inflating: Unmerced/storagetanks/storagetanks76.tif  \n",
            "  inflating: Unmerced/storagetanks/storagetanks77.tif  \n",
            "  inflating: Unmerced/storagetanks/storagetanks78.tif  \n",
            "  inflating: Unmerced/storagetanks/storagetanks79.tif  \n",
            "  inflating: Unmerced/storagetanks/storagetanks80.tif  \n",
            "  inflating: Unmerced/storagetanks/storagetanks81.tif  \n",
            "  inflating: Unmerced/storagetanks/storagetanks82.tif  \n",
            "  inflating: Unmerced/storagetanks/storagetanks83.tif  \n",
            "  inflating: Unmerced/storagetanks/storagetanks84.tif  \n",
            "  inflating: Unmerced/storagetanks/storagetanks85.tif  \n",
            "  inflating: Unmerced/storagetanks/storagetanks86.tif  \n",
            "  inflating: Unmerced/storagetanks/storagetanks87.tif  \n",
            "  inflating: Unmerced/storagetanks/storagetanks88.tif  \n",
            "  inflating: Unmerced/storagetanks/storagetanks89.tif  \n",
            "  inflating: Unmerced/storagetanks/storagetanks90.tif  \n",
            "  inflating: Unmerced/storagetanks/storagetanks91.tif  \n",
            "  inflating: Unmerced/storagetanks/storagetanks92.tif  \n",
            "  inflating: Unmerced/storagetanks/storagetanks93.tif  \n",
            "  inflating: Unmerced/storagetanks/storagetanks94.tif  \n",
            "  inflating: Unmerced/storagetanks/storagetanks95.tif  \n",
            "  inflating: Unmerced/storagetanks/storagetanks96.tif  \n",
            "  inflating: Unmerced/storagetanks/storagetanks97.tif  \n",
            "  inflating: Unmerced/storagetanks/storagetanks98.tif  \n",
            "  inflating: Unmerced/storagetanks/storagetanks99.tif  \n",
            "   creating: Unmerced/tenniscourt/\n",
            "  inflating: Unmerced/tenniscourt/tenniscourt00.tif  \n",
            "  inflating: Unmerced/tenniscourt/tenniscourt01.tif  \n",
            "  inflating: Unmerced/tenniscourt/tenniscourt02.tif  \n",
            "  inflating: Unmerced/tenniscourt/tenniscourt03.tif  \n",
            "  inflating: Unmerced/tenniscourt/tenniscourt04.tif  \n",
            "  inflating: Unmerced/tenniscourt/tenniscourt05.tif  \n",
            "  inflating: Unmerced/tenniscourt/tenniscourt06.tif  \n",
            "  inflating: Unmerced/tenniscourt/tenniscourt07.tif  \n",
            "  inflating: Unmerced/tenniscourt/tenniscourt08.tif  \n",
            "  inflating: Unmerced/tenniscourt/tenniscourt09.tif  \n",
            "  inflating: Unmerced/tenniscourt/tenniscourt10.tif  \n",
            "  inflating: Unmerced/tenniscourt/tenniscourt11.tif  \n",
            "  inflating: Unmerced/tenniscourt/tenniscourt12.tif  \n",
            "  inflating: Unmerced/tenniscourt/tenniscourt13.tif  \n",
            "  inflating: Unmerced/tenniscourt/tenniscourt14.tif  \n",
            "  inflating: Unmerced/tenniscourt/tenniscourt15.tif  \n",
            "  inflating: Unmerced/tenniscourt/tenniscourt16.tif  \n",
            "  inflating: Unmerced/tenniscourt/tenniscourt17.tif  \n",
            "  inflating: Unmerced/tenniscourt/tenniscourt18.tif  \n",
            "  inflating: Unmerced/tenniscourt/tenniscourt19.tif  \n",
            "  inflating: Unmerced/tenniscourt/tenniscourt20.tif  \n",
            "  inflating: Unmerced/tenniscourt/tenniscourt21.tif  \n",
            "  inflating: Unmerced/tenniscourt/tenniscourt22.tif  \n",
            "  inflating: Unmerced/tenniscourt/tenniscourt23.tif  \n",
            "  inflating: Unmerced/tenniscourt/tenniscourt24.tif  \n",
            "  inflating: Unmerced/tenniscourt/tenniscourt25.tif  \n",
            "  inflating: Unmerced/tenniscourt/tenniscourt26.tif  \n",
            "  inflating: Unmerced/tenniscourt/tenniscourt27.tif  \n",
            "  inflating: Unmerced/tenniscourt/tenniscourt28.tif  \n",
            "  inflating: Unmerced/tenniscourt/tenniscourt29.tif  \n",
            "  inflating: Unmerced/tenniscourt/tenniscourt30.tif  \n",
            "  inflating: Unmerced/tenniscourt/tenniscourt31.tif  \n",
            "  inflating: Unmerced/tenniscourt/tenniscourt32.tif  \n",
            "  inflating: Unmerced/tenniscourt/tenniscourt33.tif  \n",
            "  inflating: Unmerced/tenniscourt/tenniscourt34.tif  \n",
            "  inflating: Unmerced/tenniscourt/tenniscourt35.tif  \n",
            "  inflating: Unmerced/tenniscourt/tenniscourt36.tif  \n",
            "  inflating: Unmerced/tenniscourt/tenniscourt37.tif  \n",
            "  inflating: Unmerced/tenniscourt/tenniscourt38.tif  \n",
            "  inflating: Unmerced/tenniscourt/tenniscourt39.tif  \n",
            "  inflating: Unmerced/tenniscourt/tenniscourt40.tif  \n",
            "  inflating: Unmerced/tenniscourt/tenniscourt41.tif  \n",
            "  inflating: Unmerced/tenniscourt/tenniscourt42.tif  \n",
            "  inflating: Unmerced/tenniscourt/tenniscourt43.tif  \n",
            "  inflating: Unmerced/tenniscourt/tenniscourt44.tif  \n",
            "  inflating: Unmerced/tenniscourt/tenniscourt45.tif  \n",
            "  inflating: Unmerced/tenniscourt/tenniscourt46.tif  \n",
            "  inflating: Unmerced/tenniscourt/tenniscourt47.tif  \n",
            "  inflating: Unmerced/tenniscourt/tenniscourt48.tif  \n",
            "  inflating: Unmerced/tenniscourt/tenniscourt49.tif  \n",
            "  inflating: Unmerced/tenniscourt/tenniscourt50.tif  \n",
            "  inflating: Unmerced/tenniscourt/tenniscourt51.tif  \n",
            "  inflating: Unmerced/tenniscourt/tenniscourt52.tif  \n",
            "  inflating: Unmerced/tenniscourt/tenniscourt53.tif  \n",
            "  inflating: Unmerced/tenniscourt/tenniscourt54.tif  \n",
            "  inflating: Unmerced/tenniscourt/tenniscourt55.tif  \n",
            "  inflating: Unmerced/tenniscourt/tenniscourt56.tif  \n",
            "  inflating: Unmerced/tenniscourt/tenniscourt57.tif  \n",
            "  inflating: Unmerced/tenniscourt/tenniscourt58.tif  \n",
            "  inflating: Unmerced/tenniscourt/tenniscourt59.tif  \n",
            "  inflating: Unmerced/tenniscourt/tenniscourt60.tif  \n",
            "  inflating: Unmerced/tenniscourt/tenniscourt61.tif  \n",
            "  inflating: Unmerced/tenniscourt/tenniscourt62.tif  \n",
            "  inflating: Unmerced/tenniscourt/tenniscourt63.tif  \n",
            "  inflating: Unmerced/tenniscourt/tenniscourt64.tif  \n",
            "  inflating: Unmerced/tenniscourt/tenniscourt65.tif  \n",
            "  inflating: Unmerced/tenniscourt/tenniscourt66.tif  \n",
            "  inflating: Unmerced/tenniscourt/tenniscourt67.tif  \n",
            "  inflating: Unmerced/tenniscourt/tenniscourt68.tif  \n",
            "  inflating: Unmerced/tenniscourt/tenniscourt69.tif  \n",
            "  inflating: Unmerced/tenniscourt/tenniscourt70.tif  \n",
            "  inflating: Unmerced/tenniscourt/tenniscourt71.tif  \n",
            "  inflating: Unmerced/tenniscourt/tenniscourt72.tif  \n",
            "  inflating: Unmerced/tenniscourt/tenniscourt73.tif  \n",
            "  inflating: Unmerced/tenniscourt/tenniscourt74.tif  \n",
            "  inflating: Unmerced/tenniscourt/tenniscourt75.tif  \n",
            "  inflating: Unmerced/tenniscourt/tenniscourt76.tif  \n",
            "  inflating: Unmerced/tenniscourt/tenniscourt77.tif  \n",
            "  inflating: Unmerced/tenniscourt/tenniscourt78.tif  \n",
            "  inflating: Unmerced/tenniscourt/tenniscourt79.tif  \n",
            "  inflating: Unmerced/tenniscourt/tenniscourt80.tif  \n",
            "  inflating: Unmerced/tenniscourt/tenniscourt81.tif  \n",
            "  inflating: Unmerced/tenniscourt/tenniscourt82.tif  \n",
            "  inflating: Unmerced/tenniscourt/tenniscourt83.tif  \n",
            "  inflating: Unmerced/tenniscourt/tenniscourt84.tif  \n",
            "  inflating: Unmerced/tenniscourt/tenniscourt85.tif  \n",
            "  inflating: Unmerced/tenniscourt/tenniscourt86.tif  \n",
            "  inflating: Unmerced/tenniscourt/tenniscourt87.tif  \n",
            "  inflating: Unmerced/tenniscourt/tenniscourt88.tif  \n",
            "  inflating: Unmerced/tenniscourt/tenniscourt89.tif  \n",
            "  inflating: Unmerced/tenniscourt/tenniscourt90.tif  \n",
            "  inflating: Unmerced/tenniscourt/tenniscourt91.tif  \n",
            "  inflating: Unmerced/tenniscourt/tenniscourt92.tif  \n",
            "  inflating: Unmerced/tenniscourt/tenniscourt93.tif  \n",
            "  inflating: Unmerced/tenniscourt/tenniscourt94.tif  \n",
            "  inflating: Unmerced/tenniscourt/tenniscourt95.tif  \n",
            "  inflating: Unmerced/tenniscourt/tenniscourt96.tif  \n",
            "  inflating: Unmerced/tenniscourt/tenniscourt97.tif  \n",
            "  inflating: Unmerced/tenniscourt/tenniscourt98.tif  \n",
            "  inflating: Unmerced/tenniscourt/tenniscourt99.tif  \n"
          ],
          "name": "stdout"
        }
      ]
    },
    {
      "cell_type": "markdown",
      "metadata": {
        "id": "t49iLxvo-7vQ",
        "colab_type": "text"
      },
      "source": [
        "# **Preparing the data**"
      ]
    },
    {
      "cell_type": "markdown",
      "metadata": {
        "id": "lsu3P-nC_Ip4",
        "colab_type": "text"
      },
      "source": [
        "# 2.1) Making the functions to get the training and validation set from the Images"
      ]
    },
    {
      "cell_type": "code",
      "metadata": {
        "id": "Bj1LWocIxkRu",
        "colab_type": "code",
        "colab": {}
      },
      "source": [
        "X=[]\n",
        "Z=[]\n",
        "IMG_SIZE=150\n",
        "AGRICULTURAL_DIR='/content/Unmerced/agricultural' \n",
        "AIRPLANE_DIR='/content/Unmerced/airplane'\n",
        "BASEBALLDIAMOND_DIR='/content/Unmerced/baseballdiamond'\n",
        "BEACH_DIR='/content/Unmerced/beach'\n",
        "BUILDINGS_DIR='/content/Unmerced/buildings'\n",
        "CHAPARRAL_DIR='/content/Unmerced/chaparral'\n",
        "DENSERESIDENTIAL_DIR='/content/Unmerced/denseresidential'\n",
        "FOREST_DIR='/content/Unmerced/forest'\n",
        "FREEWAY_DIR='/content/Unmerced/freeway'\n",
        "GOLFCOURSE_DIR='/content/Unmerced/golfcourse'\n",
        "HARBOR_DIR='/content/Unmerced/harbor'\n",
        "INTERSECTION_DIR='/content/Unmerced/intersection'\n",
        "MEDIUMRESIDENTIAL_DIR='/content/Unmerced/mediumresidential'\n",
        "MOBILEHOMEPARK_DIR='/content/Unmerced/mobilehomepark'\n",
        "OVERPASS_DIR='/content/Unmerced/overpass'\n",
        "PARKINGLOT_DIR='/content/Unmerced/parkinglot'\n",
        "RIVER_DIR='/content/Unmerced/river'\n",
        "RUNWAY_DIR='/content/Unmerced/runway'\n",
        "SPARSERESIDENTIAL_DIR='/content/Unmerced/sparseresidential'\n",
        "STORAGETANKS_DIR='/content/Unmerced/storagetanks'\n",
        "TENNISCOURT_DIR='/content/Unmerced/tenniscourt'"
      ],
      "execution_count": 0,
      "outputs": []
    },
    {
      "cell_type": "code",
      "metadata": {
        "id": "D8wCcPnR4pQh",
        "colab_type": "code",
        "colab": {}
      },
      "source": [
        "def assign_label(img,image_type):\n",
        "    return image_type"
      ],
      "execution_count": 0,
      "outputs": []
    },
    {
      "cell_type": "code",
      "metadata": {
        "id": "FQZNJsn84tas",
        "colab_type": "code",
        "colab": {}
      },
      "source": [
        "def make_train_data(image_type,DIR):\n",
        "    for img in tqdm(os.listdir(DIR)):\n",
        "        label=assign_label(img,image_type)\n",
        "        path = os.path.join(DIR,img)\n",
        "        img = cv2.imread(path,cv2.IMREAD_COLOR)\n",
        "        img = cv2.resize(img, (IMG_SIZE,IMG_SIZE))\n",
        "        \n",
        "        X.append(np.array(img))\n",
        "        Z.append(str(label))"
      ],
      "execution_count": 0,
      "outputs": []
    },
    {
      "cell_type": "code",
      "metadata": {
        "id": "0EvBxW6_4vsl",
        "colab_type": "code",
        "colab": {}
      },
      "source": [
        "from tqdm import tqdm"
      ],
      "execution_count": 0,
      "outputs": []
    },
    {
      "cell_type": "code",
      "metadata": {
        "id": "Z8oZCt2h4xr2",
        "colab_type": "code",
        "outputId": "b0dad67b-20e9-47a5-d3f1-3448f26ccce5",
        "colab": {
          "base_uri": "https://localhost:8080/",
          "height": 52
        }
      },
      "source": [
        "make_train_data('Agricultural',AGRICULTURAL_DIR)\n",
        "print(len(X))"
      ],
      "execution_count": 0,
      "outputs": [
        {
          "output_type": "stream",
          "text": [
            "100%|██████████| 100/100 [00:00<00:00, 1052.13it/s]"
          ],
          "name": "stderr"
        },
        {
          "output_type": "stream",
          "text": [
            "100\n"
          ],
          "name": "stdout"
        },
        {
          "output_type": "stream",
          "text": [
            "\n"
          ],
          "name": "stderr"
        }
      ]
    },
    {
      "cell_type": "code",
      "metadata": {
        "id": "PGlimA1g43hE",
        "colab_type": "code",
        "outputId": "fecedbb7-55c9-4fba-8a70-fe990c4e292c",
        "colab": {
          "base_uri": "https://localhost:8080/",
          "height": 52
        }
      },
      "source": [
        "make_train_data('Airplane',AIRPLANE_DIR)\n",
        "print(len(X))"
      ],
      "execution_count": 0,
      "outputs": [
        {
          "output_type": "stream",
          "text": [
            "100%|██████████| 100/100 [00:00<00:00, 1638.12it/s]"
          ],
          "name": "stderr"
        },
        {
          "output_type": "stream",
          "text": [
            "200\n"
          ],
          "name": "stdout"
        },
        {
          "output_type": "stream",
          "text": [
            "\n"
          ],
          "name": "stderr"
        }
      ]
    },
    {
      "cell_type": "code",
      "metadata": {
        "id": "3q0K3Cph489i",
        "colab_type": "code",
        "outputId": "d1018a08-37e9-47b5-c410-6bb48997c4c2",
        "colab": {
          "base_uri": "https://localhost:8080/",
          "height": 52
        }
      },
      "source": [
        "make_train_data('Baseball Diamond',BASEBALLDIAMOND_DIR)\n",
        "print(len(X))"
      ],
      "execution_count": 0,
      "outputs": [
        {
          "output_type": "stream",
          "text": [
            "100%|██████████| 100/100 [00:00<00:00, 1784.42it/s]"
          ],
          "name": "stderr"
        },
        {
          "output_type": "stream",
          "text": [
            "300\n"
          ],
          "name": "stdout"
        },
        {
          "output_type": "stream",
          "text": [
            "\n"
          ],
          "name": "stderr"
        }
      ]
    },
    {
      "cell_type": "code",
      "metadata": {
        "id": "xwlVeNjV4_Do",
        "colab_type": "code",
        "outputId": "17b9f3c7-c0e3-4385-f3bb-ab45880d86e0",
        "colab": {
          "base_uri": "https://localhost:8080/",
          "height": 52
        }
      },
      "source": [
        "make_train_data('Beach',BEACH_DIR)\n",
        "print(len(X))"
      ],
      "execution_count": 0,
      "outputs": [
        {
          "output_type": "stream",
          "text": [
            "100%|██████████| 100/100 [00:00<00:00, 1596.56it/s]"
          ],
          "name": "stderr"
        },
        {
          "output_type": "stream",
          "text": [
            "400\n"
          ],
          "name": "stdout"
        },
        {
          "output_type": "stream",
          "text": [
            "\n"
          ],
          "name": "stderr"
        }
      ]
    },
    {
      "cell_type": "code",
      "metadata": {
        "id": "Jbk2034Q5Lq8",
        "colab_type": "code",
        "outputId": "2af522cb-2475-4350-8bf1-202250dc21f2",
        "colab": {
          "base_uri": "https://localhost:8080/",
          "height": 52
        }
      },
      "source": [
        "make_train_data('Buildings',BUILDINGS_DIR)\n",
        "print(len(X))"
      ],
      "execution_count": 0,
      "outputs": [
        {
          "output_type": "stream",
          "text": [
            "100%|██████████| 100/100 [00:00<00:00, 1521.91it/s]"
          ],
          "name": "stderr"
        },
        {
          "output_type": "stream",
          "text": [
            "500\n"
          ],
          "name": "stdout"
        },
        {
          "output_type": "stream",
          "text": [
            "\n"
          ],
          "name": "stderr"
        }
      ]
    },
    {
      "cell_type": "code",
      "metadata": {
        "id": "HtoA_9w95OC7",
        "colab_type": "code",
        "outputId": "02785c8c-f204-41a5-cbe6-a0a815e68783",
        "colab": {
          "base_uri": "https://localhost:8080/",
          "height": 52
        }
      },
      "source": [
        "make_train_data('Chaparral',CHAPARRAL_DIR)\n",
        "print(len(X))"
      ],
      "execution_count": 0,
      "outputs": [
        {
          "output_type": "stream",
          "text": [
            "100%|██████████| 100/100 [00:00<00:00, 1739.35it/s]"
          ],
          "name": "stderr"
        },
        {
          "output_type": "stream",
          "text": [
            "600\n"
          ],
          "name": "stdout"
        },
        {
          "output_type": "stream",
          "text": [
            "\n"
          ],
          "name": "stderr"
        }
      ]
    },
    {
      "cell_type": "code",
      "metadata": {
        "id": "K7UEuFPV5PLF",
        "colab_type": "code",
        "outputId": "c62b05df-3c2e-4e61-b7cc-d9f9c67ac497",
        "colab": {
          "base_uri": "https://localhost:8080/",
          "height": 52
        }
      },
      "source": [
        "make_train_data('Dense Residential',DENSERESIDENTIAL_DIR)\n",
        "print(len(X))"
      ],
      "execution_count": 0,
      "outputs": [
        {
          "output_type": "stream",
          "text": [
            "100%|██████████| 100/100 [00:00<00:00, 1507.51it/s]"
          ],
          "name": "stderr"
        },
        {
          "output_type": "stream",
          "text": [
            "700\n"
          ],
          "name": "stdout"
        },
        {
          "output_type": "stream",
          "text": [
            "\n"
          ],
          "name": "stderr"
        }
      ]
    },
    {
      "cell_type": "code",
      "metadata": {
        "id": "p0QSbXFH5hTS",
        "colab_type": "code",
        "outputId": "e6df82c2-adaa-43f5-b071-a3c922d1d67a",
        "colab": {
          "base_uri": "https://localhost:8080/",
          "height": 52
        }
      },
      "source": [
        "make_train_data('Forest',FOREST_DIR)\n",
        "print(len(X))"
      ],
      "execution_count": 0,
      "outputs": [
        {
          "output_type": "stream",
          "text": [
            "100%|██████████| 100/100 [00:00<00:00, 1781.90it/s]"
          ],
          "name": "stderr"
        },
        {
          "output_type": "stream",
          "text": [
            "800\n"
          ],
          "name": "stdout"
        },
        {
          "output_type": "stream",
          "text": [
            "\n"
          ],
          "name": "stderr"
        }
      ]
    },
    {
      "cell_type": "code",
      "metadata": {
        "id": "wNyeJpBe5hwo",
        "colab_type": "code",
        "outputId": "1e41f5c6-89f5-4f2f-e10a-cdd47b021d7d",
        "colab": {
          "base_uri": "https://localhost:8080/",
          "height": 52
        }
      },
      "source": [
        "make_train_data('Freeway',FREEWAY_DIR)\n",
        "print(len(X))"
      ],
      "execution_count": 0,
      "outputs": [
        {
          "output_type": "stream",
          "text": [
            "100%|██████████| 100/100 [00:00<00:00, 1821.95it/s]"
          ],
          "name": "stderr"
        },
        {
          "output_type": "stream",
          "text": [
            "900\n"
          ],
          "name": "stdout"
        },
        {
          "output_type": "stream",
          "text": [
            "\n"
          ],
          "name": "stderr"
        }
      ]
    },
    {
      "cell_type": "code",
      "metadata": {
        "id": "nGnzUx5K53-2",
        "colab_type": "code",
        "outputId": "e8236969-2099-413a-d29e-e3fcc8f8aaa1",
        "colab": {
          "base_uri": "https://localhost:8080/",
          "height": 52
        }
      },
      "source": [
        "make_train_data('Golfcourse',GOLFCOURSE_DIR)\n",
        "print(len(X))"
      ],
      "execution_count": 0,
      "outputs": [
        {
          "output_type": "stream",
          "text": [
            "100%|██████████| 100/100 [00:00<00:00, 1416.02it/s]"
          ],
          "name": "stderr"
        },
        {
          "output_type": "stream",
          "text": [
            "1000\n"
          ],
          "name": "stdout"
        },
        {
          "output_type": "stream",
          "text": [
            "\n"
          ],
          "name": "stderr"
        }
      ]
    },
    {
      "cell_type": "code",
      "metadata": {
        "id": "iNgjHnuZ6LCa",
        "colab_type": "code",
        "outputId": "d35d3972-db25-47e5-ede3-d59a6c711247",
        "colab": {
          "base_uri": "https://localhost:8080/",
          "height": 52
        }
      },
      "source": [
        "make_train_data('Harbor',HARBOR_DIR)\n",
        "print(len(X))"
      ],
      "execution_count": 0,
      "outputs": [
        {
          "output_type": "stream",
          "text": [
            "100%|██████████| 100/100 [00:00<00:00, 1741.20it/s]"
          ],
          "name": "stderr"
        },
        {
          "output_type": "stream",
          "text": [
            "1100\n"
          ],
          "name": "stdout"
        },
        {
          "output_type": "stream",
          "text": [
            "\n"
          ],
          "name": "stderr"
        }
      ]
    },
    {
      "cell_type": "code",
      "metadata": {
        "id": "oul7FHPp6PlR",
        "colab_type": "code",
        "outputId": "11accff8-6e68-4090-adb2-5f14133ec006",
        "colab": {
          "base_uri": "https://localhost:8080/",
          "height": 52
        }
      },
      "source": [
        "make_train_data('Intersection',INTERSECTION_DIR)\n",
        "print(len(X))"
      ],
      "execution_count": 0,
      "outputs": [
        {
          "output_type": "stream",
          "text": [
            "100%|██████████| 100/100 [00:00<00:00, 1388.02it/s]"
          ],
          "name": "stderr"
        },
        {
          "output_type": "stream",
          "text": [
            "1200\n"
          ],
          "name": "stdout"
        },
        {
          "output_type": "stream",
          "text": [
            "\n"
          ],
          "name": "stderr"
        }
      ]
    },
    {
      "cell_type": "code",
      "metadata": {
        "id": "cTCOjxmD6UYW",
        "colab_type": "code",
        "outputId": "6b1529ab-eb52-4757-8cda-c727c73d6786",
        "colab": {
          "base_uri": "https://localhost:8080/",
          "height": 52
        }
      },
      "source": [
        "make_train_data('Medium Residential',MEDIUMRESIDENTIAL_DIR)\n",
        "print(len(X))"
      ],
      "execution_count": 0,
      "outputs": [
        {
          "output_type": "stream",
          "text": [
            "100%|██████████| 100/100 [00:00<00:00, 1764.93it/s]"
          ],
          "name": "stderr"
        },
        {
          "output_type": "stream",
          "text": [
            "1300\n"
          ],
          "name": "stdout"
        },
        {
          "output_type": "stream",
          "text": [
            "\n"
          ],
          "name": "stderr"
        }
      ]
    },
    {
      "cell_type": "code",
      "metadata": {
        "id": "P1KwWifp6Z4G",
        "colab_type": "code",
        "outputId": "bf6c07f2-7311-4b51-8eb3-0fc1dd468b6c",
        "colab": {
          "base_uri": "https://localhost:8080/",
          "height": 52
        }
      },
      "source": [
        "make_train_data('Mobile Home Park',MOBILEHOMEPARK_DIR)\n",
        "print(len(X))"
      ],
      "execution_count": 0,
      "outputs": [
        {
          "output_type": "stream",
          "text": [
            "100%|██████████| 100/100 [00:00<00:00, 1644.90it/s]"
          ],
          "name": "stderr"
        },
        {
          "output_type": "stream",
          "text": [
            "1400\n"
          ],
          "name": "stdout"
        },
        {
          "output_type": "stream",
          "text": [
            "\n"
          ],
          "name": "stderr"
        }
      ]
    },
    {
      "cell_type": "code",
      "metadata": {
        "id": "oYQwhtWu6hYe",
        "colab_type": "code",
        "outputId": "9ebb7669-e8f6-4a27-e928-b70d2b6c180d",
        "colab": {
          "base_uri": "https://localhost:8080/",
          "height": 52
        }
      },
      "source": [
        "make_train_data('Overpass',OVERPASS_DIR)\n",
        "print(len(X))"
      ],
      "execution_count": 0,
      "outputs": [
        {
          "output_type": "stream",
          "text": [
            "100%|██████████| 100/100 [00:00<00:00, 1686.38it/s]"
          ],
          "name": "stderr"
        },
        {
          "output_type": "stream",
          "text": [
            "1500\n"
          ],
          "name": "stdout"
        },
        {
          "output_type": "stream",
          "text": [
            "\n"
          ],
          "name": "stderr"
        }
      ]
    },
    {
      "cell_type": "code",
      "metadata": {
        "id": "_n-9yGXy6raE",
        "colab_type": "code",
        "outputId": "c7b63513-936f-44db-c3a8-b4b8b2b46189",
        "colab": {
          "base_uri": "https://localhost:8080/",
          "height": 52
        }
      },
      "source": [
        "make_train_data('Parking Lot',PARKINGLOT_DIR)\n",
        "print(len(X))"
      ],
      "execution_count": 0,
      "outputs": [
        {
          "output_type": "stream",
          "text": [
            "100%|██████████| 100/100 [00:00<00:00, 1699.96it/s]"
          ],
          "name": "stderr"
        },
        {
          "output_type": "stream",
          "text": [
            "1600\n"
          ],
          "name": "stdout"
        },
        {
          "output_type": "stream",
          "text": [
            "\n"
          ],
          "name": "stderr"
        }
      ]
    },
    {
      "cell_type": "code",
      "metadata": {
        "id": "W7gazX6u6v1V",
        "colab_type": "code",
        "outputId": "49e966d0-5a41-46c3-c0c8-7c00599c760f",
        "colab": {
          "base_uri": "https://localhost:8080/",
          "height": 52
        }
      },
      "source": [
        "make_train_data('River',RIVER_DIR)\n",
        "print(len(X))"
      ],
      "execution_count": 0,
      "outputs": [
        {
          "output_type": "stream",
          "text": [
            "100%|██████████| 100/100 [00:00<00:00, 1559.19it/s]"
          ],
          "name": "stderr"
        },
        {
          "output_type": "stream",
          "text": [
            "1700\n"
          ],
          "name": "stdout"
        },
        {
          "output_type": "stream",
          "text": [
            "\n"
          ],
          "name": "stderr"
        }
      ]
    },
    {
      "cell_type": "code",
      "metadata": {
        "id": "W5WXOGbk6zKM",
        "colab_type": "code",
        "outputId": "9b80876a-27e9-4035-ee74-9e98aaf68f8e",
        "colab": {
          "base_uri": "https://localhost:8080/",
          "height": 52
        }
      },
      "source": [
        "make_train_data('Runway',RUNWAY_DIR)\n",
        "print(len(X))"
      ],
      "execution_count": 0,
      "outputs": [
        {
          "output_type": "stream",
          "text": [
            "100%|██████████| 100/100 [00:00<00:00, 1682.40it/s]"
          ],
          "name": "stderr"
        },
        {
          "output_type": "stream",
          "text": [
            "1800\n"
          ],
          "name": "stdout"
        },
        {
          "output_type": "stream",
          "text": [
            "\n"
          ],
          "name": "stderr"
        }
      ]
    },
    {
      "cell_type": "code",
      "metadata": {
        "id": "Xqv7nBV362tC",
        "colab_type": "code",
        "outputId": "f586ca0e-dc5e-4afb-d0f2-fe5a3e062666",
        "colab": {
          "base_uri": "https://localhost:8080/",
          "height": 52
        }
      },
      "source": [
        "make_train_data('Sparse Residential',SPARSERESIDENTIAL_DIR)\n",
        "print(len(X))"
      ],
      "execution_count": 0,
      "outputs": [
        {
          "output_type": "stream",
          "text": [
            "100%|██████████| 100/100 [00:00<00:00, 1679.21it/s]"
          ],
          "name": "stderr"
        },
        {
          "output_type": "stream",
          "text": [
            "1900\n"
          ],
          "name": "stdout"
        },
        {
          "output_type": "stream",
          "text": [
            "\n"
          ],
          "name": "stderr"
        }
      ]
    },
    {
      "cell_type": "code",
      "metadata": {
        "id": "19In7umf68g7",
        "colab_type": "code",
        "outputId": "e41b9f06-7001-4ea0-9245-4a80a4631c65",
        "colab": {
          "base_uri": "https://localhost:8080/",
          "height": 52
        }
      },
      "source": [
        "make_train_data('Storage Tanks',STORAGETANKS_DIR)\n",
        "print(len(X))"
      ],
      "execution_count": 0,
      "outputs": [
        {
          "output_type": "stream",
          "text": [
            "100%|██████████| 100/100 [00:00<00:00, 1803.89it/s]"
          ],
          "name": "stderr"
        },
        {
          "output_type": "stream",
          "text": [
            "2000\n"
          ],
          "name": "stdout"
        },
        {
          "output_type": "stream",
          "text": [
            "\n"
          ],
          "name": "stderr"
        }
      ]
    },
    {
      "cell_type": "code",
      "metadata": {
        "id": "6kMMcCm07Hxl",
        "colab_type": "code",
        "outputId": "6031ccb0-6e51-4c66-cdf4-3048353f9e54",
        "colab": {
          "base_uri": "https://localhost:8080/",
          "height": 52
        }
      },
      "source": [
        "make_train_data('Tennis Court',TENNISCOURT_DIR)\n",
        "print(len(X))"
      ],
      "execution_count": 0,
      "outputs": [
        {
          "output_type": "stream",
          "text": [
            "100%|██████████| 100/100 [00:00<00:00, 1763.75it/s]"
          ],
          "name": "stderr"
        },
        {
          "output_type": "stream",
          "text": [
            "2100\n"
          ],
          "name": "stdout"
        },
        {
          "output_type": "stream",
          "text": [
            "\n"
          ],
          "name": "stderr"
        }
      ]
    },
    {
      "cell_type": "markdown",
      "metadata": {
        "id": "3JQP5XHH_OHw",
        "colab_type": "text"
      },
      "source": [
        "# **Importing various modules**"
      ]
    },
    {
      "cell_type": "code",
      "metadata": {
        "id": "8uUkE0Mu7MA9",
        "colab_type": "code",
        "outputId": "24f1b928-2192-4fca-9c2d-4735fdc90324",
        "colab": {
          "base_uri": "https://localhost:8080/",
          "height": 82
        }
      },
      "source": [
        "# Ignore  the warnings\n",
        "import warnings\n",
        "warnings.filterwarnings('always')\n",
        "warnings.filterwarnings('ignore')\n",
        "\n",
        "# data visualisation and manipulation\n",
        "import numpy as np\n",
        "import pandas as pd\n",
        "import matplotlib.pyplot as plt\n",
        "from matplotlib import style\n",
        "import seaborn as sns\n",
        " \n",
        "#configure\n",
        "# sets matplotlib to inline and displays graphs below the corressponding cell.\n",
        "%matplotlib inline  \n",
        "style.use('fivethirtyeight')\n",
        "sns.set(style='whitegrid',color_codes=True)\n",
        "\n",
        "#model selection\n",
        "from sklearn.model_selection import train_test_split\n",
        "from sklearn.model_selection import KFold\n",
        "from sklearn.metrics import accuracy_score,precision_score,recall_score,confusion_matrix,roc_curve,roc_auc_score\n",
        "from sklearn.model_selection import GridSearchCV\n",
        "from sklearn.preprocessing import LabelEncoder\n",
        "\n",
        "#preprocess.\n",
        "from keras.preprocessing.image import ImageDataGenerator\n",
        "\n",
        "#dl libraraies\n",
        "from keras import backend as K\n",
        "from keras.models import Sequential\n",
        "from keras.layers import Dense\n",
        "from keras.optimizers import Adam,SGD,Adagrad,Adadelta,RMSprop\n",
        "from keras.utils import to_categorical\n",
        "\n",
        "# specifically for cnn\n",
        "from keras.layers import Dropout, Flatten,Activation\n",
        "from keras.layers import Conv2D, MaxPooling2D, BatchNormalization\n",
        " \n",
        "import tensorflow as tf\n",
        "import random as rn\n",
        "\n",
        "# specifically for manipulating zipped images and getting numpy arrays of pixel values of images.\n",
        "import cv2                  \n",
        "import numpy as np  \n",
        "from tqdm import tqdm\n",
        "import os                   \n",
        "from random import shuffle  \n",
        "from zipfile import ZipFile\n",
        "from PIL import Image"
      ],
      "execution_count": 0,
      "outputs": [
        {
          "output_type": "stream",
          "text": [
            "Using TensorFlow backend.\n"
          ],
          "name": "stderr"
        },
        {
          "output_type": "display_data",
          "data": {
            "text/html": [
              "<p style=\"color: red;\">\n",
              "The default version of TensorFlow in Colab will soon switch to TensorFlow 2.x.<br>\n",
              "We recommend you <a href=\"https://www.tensorflow.org/guide/migrate\" target=\"_blank\">upgrade</a> now \n",
              "or ensure your notebook will continue to use TensorFlow 1.x via the <code>%tensorflow_version 1.x</code> magic:\n",
              "<a href=\"https://colab.research.google.com/notebooks/tensorflow_version.ipynb\" target=\"_blank\">more info</a>.</p>\n"
            ],
            "text/plain": [
              "<IPython.core.display.HTML object>"
            ]
          },
          "metadata": {
            "tags": []
          }
        }
      ]
    },
    {
      "cell_type": "markdown",
      "metadata": {
        "id": "Kj-SgXwq_Sfp",
        "colab_type": "text"
      },
      "source": [
        "# 2.2 ) Label Encoding the Y array (i.e. agricultural->0, airplane->1 etc...) & then One Hot Encoding"
      ]
    },
    {
      "cell_type": "code",
      "metadata": {
        "id": "qs7-XRaT7Qqt",
        "colab_type": "code",
        "colab": {}
      },
      "source": [
        "le=LabelEncoder()\n",
        "Y=le.fit_transform(Z)\n",
        "Y=to_categorical(Y,21)\n",
        "X=np.array(X)\n",
        "X=X/255"
      ],
      "execution_count": 0,
      "outputs": []
    },
    {
      "cell_type": "markdown",
      "metadata": {
        "id": "KIXJhD3r_gXo",
        "colab_type": "text"
      },
      "source": [
        "# 2.3) Splitting into Training and Validation Sets"
      ]
    },
    {
      "cell_type": "code",
      "metadata": {
        "id": "rG4oaC4C7V55",
        "colab_type": "code",
        "colab": {}
      },
      "source": [
        "x_train,x_test,y_train,y_test=train_test_split(X,Y,test_size=0.25,random_state=42)"
      ],
      "execution_count": 0,
      "outputs": []
    },
    {
      "cell_type": "markdown",
      "metadata": {
        "id": "T9uOEm_w_hy7",
        "colab_type": "text"
      },
      "source": [
        "# 2.4 ) Setting the Random Seeds"
      ]
    },
    {
      "cell_type": "code",
      "metadata": {
        "id": "C7ChBwcv7Zji",
        "colab_type": "code",
        "colab": {}
      },
      "source": [
        "np.random.seed(42)\n",
        "rn.seed(42)\n",
        "tf.set_random_seed(42)"
      ],
      "execution_count": 0,
      "outputs": []
    },
    {
      "cell_type": "markdown",
      "metadata": {
        "id": "lNmnxM9__lWU",
        "colab_type": "text"
      },
      "source": [
        "# **3 ) Modelling**"
      ]
    },
    {
      "cell_type": "markdown",
      "metadata": {
        "id": "Ac2TBejM_oqn",
        "colab_type": "text"
      },
      "source": [
        "# 3.1 ) Building the ConvNet Model"
      ]
    },
    {
      "cell_type": "code",
      "metadata": {
        "id": "KfDv23Yq7bZc",
        "colab_type": "code",
        "outputId": "a52f5e92-4768-49c6-ba6e-e62f803e64f2",
        "colab": {
          "base_uri": "https://localhost:8080/",
          "height": 179
        }
      },
      "source": [
        "# # modelling starts using a CNN.\n",
        "\n",
        "model = Sequential()\n",
        "model.add(Conv2D(filters = 32, kernel_size = (5,5),padding = 'Same',activation ='relu', input_shape = (150,150,3)))\n",
        "model.add(MaxPooling2D(pool_size=(2,2)))\n",
        "\n",
        "\n",
        "model.add(Conv2D(filters = 64, kernel_size = (3,3),padding = 'Same',activation ='relu'))\n",
        "model.add(MaxPooling2D(pool_size=(2,2), strides=(2,2)))\n",
        " \n",
        "\n",
        "model.add(Conv2D(filters =96, kernel_size = (3,3),padding = 'Same',activation ='relu'))\n",
        "model.add(MaxPooling2D(pool_size=(2,2), strides=(2,2)))\n",
        "\n",
        "model.add(Conv2D(filters = 96, kernel_size = (3,3),padding = 'Same',activation ='relu'))\n",
        "model.add(MaxPooling2D(pool_size=(2,2), strides=(2,2)))\n",
        "\n",
        "model.add(Flatten())\n",
        "model.add(Dense(512))\n",
        "model.add(Activation('relu'))\n",
        "model.add(Dense(21, activation = \"softmax\"))"
      ],
      "execution_count": 0,
      "outputs": [
        {
          "output_type": "stream",
          "text": [
            "WARNING:tensorflow:From /usr/local/lib/python3.6/dist-packages/keras/backend/tensorflow_backend.py:66: The name tf.get_default_graph is deprecated. Please use tf.compat.v1.get_default_graph instead.\n",
            "\n",
            "WARNING:tensorflow:From /usr/local/lib/python3.6/dist-packages/keras/backend/tensorflow_backend.py:541: The name tf.placeholder is deprecated. Please use tf.compat.v1.placeholder instead.\n",
            "\n",
            "WARNING:tensorflow:From /usr/local/lib/python3.6/dist-packages/keras/backend/tensorflow_backend.py:4432: The name tf.random_uniform is deprecated. Please use tf.random.uniform instead.\n",
            "\n",
            "WARNING:tensorflow:From /usr/local/lib/python3.6/dist-packages/keras/backend/tensorflow_backend.py:4267: The name tf.nn.max_pool is deprecated. Please use tf.nn.max_pool2d instead.\n",
            "\n"
          ],
          "name": "stdout"
        }
      ]
    },
    {
      "cell_type": "markdown",
      "metadata": {
        "id": "a--8PqlX_umH",
        "colab_type": "text"
      },
      "source": [
        "# 3.2 ) Using a LR Annealer"
      ]
    },
    {
      "cell_type": "code",
      "metadata": {
        "id": "yWB0P4F97lsQ",
        "colab_type": "code",
        "colab": {}
      },
      "source": [
        "batch_size=21\n",
        "epochs=50\n",
        "\n",
        "from keras.callbacks import ReduceLROnPlateau\n",
        "red_lr= ReduceLROnPlateau(monitor='val_acc',patience=3,verbose=1,factor=0.1)"
      ],
      "execution_count": 0,
      "outputs": []
    },
    {
      "cell_type": "markdown",
      "metadata": {
        "id": "ii7mBWmg_x8U",
        "colab_type": "text"
      },
      "source": [
        "# 3.3 ) Data Augmentation to prevent Overfitting\n"
      ]
    },
    {
      "cell_type": "code",
      "metadata": {
        "id": "wrVXoNxP7seJ",
        "colab_type": "code",
        "colab": {}
      },
      "source": [
        "datagen = ImageDataGenerator(\n",
        "        featurewise_center=False,  # set input mean to 0 over the dataset\n",
        "        samplewise_center=False,  # set each sample mean to 0\n",
        "        featurewise_std_normalization=False,  # divide inputs by std of the dataset\n",
        "        samplewise_std_normalization=False,  # divide each input by its std\n",
        "        zca_whitening=False,  # apply ZCA whitening\n",
        "        rotation_range=10,  # randomly rotate images in the range (degrees, 0 to 180)\n",
        "        zoom_range = 0.1, # Randomly zoom image \n",
        "        width_shift_range=0.2,  # randomly shift images horizontally (fraction of total width)\n",
        "        height_shift_range=0.2,  # randomly shift images vertically (fraction of total height)\n",
        "        horizontal_flip=True,  # randomly flip images\n",
        "        vertical_flip=False)  # randomly flip images\n",
        "\n",
        "\n",
        "datagen.fit(x_train)"
      ],
      "execution_count": 0,
      "outputs": []
    },
    {
      "cell_type": "markdown",
      "metadata": {
        "id": "7Fux6dRb_1G0",
        "colab_type": "text"
      },
      "source": [
        "# 3.4 ) Compiling the Keras Model & Summary"
      ]
    },
    {
      "cell_type": "code",
      "metadata": {
        "id": "WHVPZRd_7xP_",
        "colab_type": "code",
        "outputId": "73c64f40-51d7-4aba-985b-3440c5c01cb6",
        "colab": {
          "base_uri": "https://localhost:8080/",
          "height": 161
        }
      },
      "source": [
        "model.compile(optimizer=Adam(lr=0.001),loss='binary_crossentropy',metrics=['accuracy'])"
      ],
      "execution_count": 0,
      "outputs": [
        {
          "output_type": "stream",
          "text": [
            "WARNING:tensorflow:From /usr/local/lib/python3.6/dist-packages/keras/optimizers.py:793: The name tf.train.Optimizer is deprecated. Please use tf.compat.v1.train.Optimizer instead.\n",
            "\n",
            "WARNING:tensorflow:From /usr/local/lib/python3.6/dist-packages/keras/backend/tensorflow_backend.py:3657: The name tf.log is deprecated. Please use tf.math.log instead.\n",
            "\n",
            "WARNING:tensorflow:From /usr/local/lib/python3.6/dist-packages/tensorflow_core/python/ops/nn_impl.py:183: where (from tensorflow.python.ops.array_ops) is deprecated and will be removed in a future version.\n",
            "Instructions for updating:\n",
            "Use tf.where in 2.0, which has the same broadcast rule as np.where\n"
          ],
          "name": "stdout"
        }
      ]
    },
    {
      "cell_type": "code",
      "metadata": {
        "id": "BRjC5tVW7zDo",
        "colab_type": "code",
        "outputId": "e39aa5b1-f3c6-4492-969e-7d2af130a11c",
        "colab": {
          "base_uri": "https://localhost:8080/",
          "height": 586
        }
      },
      "source": [
        "model.summary()"
      ],
      "execution_count": 0,
      "outputs": [
        {
          "output_type": "stream",
          "text": [
            "Model: \"sequential_1\"\n",
            "_________________________________________________________________\n",
            "Layer (type)                 Output Shape              Param #   \n",
            "=================================================================\n",
            "conv2d_1 (Conv2D)            (None, 150, 150, 32)      2432      \n",
            "_________________________________________________________________\n",
            "max_pooling2d_1 (MaxPooling2 (None, 75, 75, 32)        0         \n",
            "_________________________________________________________________\n",
            "conv2d_2 (Conv2D)            (None, 75, 75, 64)        18496     \n",
            "_________________________________________________________________\n",
            "max_pooling2d_2 (MaxPooling2 (None, 37, 37, 64)        0         \n",
            "_________________________________________________________________\n",
            "conv2d_3 (Conv2D)            (None, 37, 37, 96)        55392     \n",
            "_________________________________________________________________\n",
            "max_pooling2d_3 (MaxPooling2 (None, 18, 18, 96)        0         \n",
            "_________________________________________________________________\n",
            "conv2d_4 (Conv2D)            (None, 18, 18, 96)        83040     \n",
            "_________________________________________________________________\n",
            "max_pooling2d_4 (MaxPooling2 (None, 9, 9, 96)          0         \n",
            "_________________________________________________________________\n",
            "flatten_1 (Flatten)          (None, 7776)              0         \n",
            "_________________________________________________________________\n",
            "dense_1 (Dense)              (None, 512)               3981824   \n",
            "_________________________________________________________________\n",
            "activation_1 (Activation)    (None, 512)               0         \n",
            "_________________________________________________________________\n",
            "dense_2 (Dense)              (None, 21)                10773     \n",
            "=================================================================\n",
            "Total params: 4,151,957\n",
            "Trainable params: 4,151,957\n",
            "Non-trainable params: 0\n",
            "_________________________________________________________________\n"
          ],
          "name": "stdout"
        }
      ]
    },
    {
      "cell_type": "markdown",
      "metadata": {
        "id": "4sXGvVh7_49c",
        "colab_type": "text"
      },
      "source": [
        "# 3.5 ) Fitting on the Training set and making predcitons on the Validation set"
      ]
    },
    {
      "cell_type": "code",
      "metadata": {
        "id": "rBzDssSu71S3",
        "colab_type": "code",
        "outputId": "15186aaf-7c1c-4f80-84b4-117b10071957",
        "colab": {
          "base_uri": "https://localhost:8080/",
          "height": 1000
        }
      },
      "source": [
        "History = model.fit_generator(datagen.flow(x_train,y_train, batch_size=batch_size),\n",
        "                              epochs = epochs, validation_data = (x_test,y_test), \n",
        "                              verbose = 1, steps_per_epoch=x_train.shape[0] // batch_size)\n",
        "# model.fit(x_train,y_train,epochs=epochs,batch_size=batch_size,validation_data = (x_test,y_test))"
      ],
      "execution_count": 0,
      "outputs": [
        {
          "output_type": "stream",
          "text": [
            "Epoch 1/50\n",
            "75/75 [==============================] - 8s 107ms/step - loss: 0.0185 - acc: 0.9926 - val_loss: 0.0438 - val_acc: 0.9871\n",
            "Epoch 2/50\n",
            "75/75 [==============================] - 8s 105ms/step - loss: 0.0210 - acc: 0.9923 - val_loss: 0.0386 - val_acc: 0.9868\n",
            "Epoch 3/50\n",
            "75/75 [==============================] - 8s 103ms/step - loss: 0.0185 - acc: 0.9932 - val_loss: 0.0632 - val_acc: 0.9820\n",
            "Epoch 4/50\n",
            "75/75 [==============================] - 8s 105ms/step - loss: 0.0204 - acc: 0.9924 - val_loss: 0.0475 - val_acc: 0.9841\n",
            "Epoch 5/50\n",
            "75/75 [==============================] - 8s 107ms/step - loss: 0.0198 - acc: 0.9929 - val_loss: 0.0526 - val_acc: 0.9848\n",
            "Epoch 6/50\n",
            "75/75 [==============================] - 8s 105ms/step - loss: 0.0207 - acc: 0.9927 - val_loss: 0.0452 - val_acc: 0.9861\n",
            "Epoch 7/50\n",
            "75/75 [==============================] - 8s 104ms/step - loss: 0.0194 - acc: 0.9930 - val_loss: 0.0388 - val_acc: 0.9865\n",
            "Epoch 8/50\n",
            "75/75 [==============================] - 8s 105ms/step - loss: 0.0184 - acc: 0.9930 - val_loss: 0.0384 - val_acc: 0.9875\n",
            "Epoch 9/50\n",
            "75/75 [==============================] - 8s 104ms/step - loss: 0.0142 - acc: 0.9946 - val_loss: 0.0538 - val_acc: 0.9854\n",
            "Epoch 10/50\n",
            "75/75 [==============================] - 8s 104ms/step - loss: 0.0174 - acc: 0.9938 - val_loss: 0.0380 - val_acc: 0.9889\n",
            "Epoch 11/50\n",
            "75/75 [==============================] - 8s 104ms/step - loss: 0.0172 - acc: 0.9938 - val_loss: 0.0571 - val_acc: 0.9839\n",
            "Epoch 12/50\n",
            "75/75 [==============================] - 8s 106ms/step - loss: 0.0151 - acc: 0.9949 - val_loss: 0.0414 - val_acc: 0.9884\n",
            "Epoch 13/50\n",
            "75/75 [==============================] - 8s 106ms/step - loss: 0.0168 - acc: 0.9939 - val_loss: 0.0390 - val_acc: 0.9878\n",
            "Epoch 14/50\n",
            "75/75 [==============================] - 8s 105ms/step - loss: 0.0174 - acc: 0.9937 - val_loss: 0.0482 - val_acc: 0.9874\n",
            "Epoch 15/50\n",
            "75/75 [==============================] - 8s 104ms/step - loss: 0.0163 - acc: 0.9935 - val_loss: 0.0468 - val_acc: 0.9865\n",
            "Epoch 16/50\n",
            "75/75 [==============================] - 8s 106ms/step - loss: 0.0188 - acc: 0.9936 - val_loss: 0.0399 - val_acc: 0.9884\n",
            "Epoch 17/50\n",
            "75/75 [==============================] - 8s 105ms/step - loss: 0.0173 - acc: 0.9939 - val_loss: 0.0558 - val_acc: 0.9849\n",
            "Epoch 18/50\n",
            "75/75 [==============================] - 8s 105ms/step - loss: 0.0198 - acc: 0.9926 - val_loss: 0.0439 - val_acc: 0.9861\n",
            "Epoch 19/50\n",
            "75/75 [==============================] - 8s 104ms/step - loss: 0.0182 - acc: 0.9930 - val_loss: 0.0482 - val_acc: 0.9859\n",
            "Epoch 20/50\n",
            "75/75 [==============================] - 8s 106ms/step - loss: 0.0166 - acc: 0.9941 - val_loss: 0.0406 - val_acc: 0.9890\n",
            "Epoch 21/50\n",
            "75/75 [==============================] - 8s 104ms/step - loss: 0.0142 - acc: 0.9947 - val_loss: 0.0395 - val_acc: 0.9886\n",
            "Epoch 22/50\n",
            "75/75 [==============================] - 8s 103ms/step - loss: 0.0131 - acc: 0.9956 - val_loss: 0.0450 - val_acc: 0.9860\n",
            "Epoch 23/50\n",
            "75/75 [==============================] - 8s 105ms/step - loss: 0.0137 - acc: 0.9945 - val_loss: 0.0438 - val_acc: 0.9871\n",
            "Epoch 24/50\n",
            "75/75 [==============================] - 8s 104ms/step - loss: 0.0162 - acc: 0.9942 - val_loss: 0.0502 - val_acc: 0.9883\n",
            "Epoch 25/50\n",
            "75/75 [==============================] - 8s 104ms/step - loss: 0.0175 - acc: 0.9933 - val_loss: 0.0523 - val_acc: 0.9846\n",
            "Epoch 26/50\n",
            "75/75 [==============================] - 8s 104ms/step - loss: 0.0130 - acc: 0.9956 - val_loss: 0.0424 - val_acc: 0.9882\n",
            "Epoch 27/50\n",
            "75/75 [==============================] - 8s 104ms/step - loss: 0.0111 - acc: 0.9961 - val_loss: 0.0408 - val_acc: 0.9898\n",
            "Epoch 28/50\n",
            "75/75 [==============================] - 8s 107ms/step - loss: 0.0092 - acc: 0.9967 - val_loss: 0.0556 - val_acc: 0.9849\n",
            "Epoch 29/50\n",
            "75/75 [==============================] - 8s 103ms/step - loss: 0.0107 - acc: 0.9963 - val_loss: 0.0497 - val_acc: 0.9862\n",
            "Epoch 30/50\n",
            "75/75 [==============================] - 8s 104ms/step - loss: 0.0200 - acc: 0.9926 - val_loss: 0.0464 - val_acc: 0.9884\n",
            "Epoch 31/50\n",
            "75/75 [==============================] - 8s 106ms/step - loss: 0.0156 - acc: 0.9941 - val_loss: 0.0457 - val_acc: 0.9884\n",
            "Epoch 32/50\n",
            "75/75 [==============================] - 8s 103ms/step - loss: 0.0125 - acc: 0.9953 - val_loss: 0.0405 - val_acc: 0.9884\n",
            "Epoch 33/50\n",
            "75/75 [==============================] - 8s 103ms/step - loss: 0.0143 - acc: 0.9943 - val_loss: 0.0437 - val_acc: 0.9885\n",
            "Epoch 34/50\n",
            "75/75 [==============================] - 8s 103ms/step - loss: 0.0106 - acc: 0.9961 - val_loss: 0.0434 - val_acc: 0.9890\n",
            "Epoch 35/50\n",
            "75/75 [==============================] - 8s 106ms/step - loss: 0.0125 - acc: 0.9953 - val_loss: 0.0468 - val_acc: 0.9874\n",
            "Epoch 36/50\n",
            "75/75 [==============================] - 8s 105ms/step - loss: 0.0119 - acc: 0.9954 - val_loss: 0.0385 - val_acc: 0.9891\n",
            "Epoch 37/50\n",
            "75/75 [==============================] - 8s 102ms/step - loss: 0.0131 - acc: 0.9946 - val_loss: 0.0481 - val_acc: 0.9859\n",
            "Epoch 38/50\n",
            "75/75 [==============================] - 8s 103ms/step - loss: 0.0100 - acc: 0.9964 - val_loss: 0.0414 - val_acc: 0.9888\n",
            "Epoch 39/50\n",
            "75/75 [==============================] - 8s 106ms/step - loss: 0.0166 - acc: 0.9940 - val_loss: 0.0406 - val_acc: 0.9887\n",
            "Epoch 40/50\n",
            "75/75 [==============================] - 8s 105ms/step - loss: 0.0083 - acc: 0.9972 - val_loss: 0.0474 - val_acc: 0.9874\n",
            "Epoch 41/50\n",
            "75/75 [==============================] - 8s 104ms/step - loss: 0.0129 - acc: 0.9959 - val_loss: 0.0458 - val_acc: 0.9869\n",
            "Epoch 42/50\n",
            "75/75 [==============================] - 8s 104ms/step - loss: 0.0128 - acc: 0.9951 - val_loss: 0.0480 - val_acc: 0.9874\n",
            "Epoch 43/50\n",
            "75/75 [==============================] - 8s 104ms/step - loss: 0.0099 - acc: 0.9966 - val_loss: 0.0389 - val_acc: 0.9903\n",
            "Epoch 44/50\n",
            "75/75 [==============================] - 8s 105ms/step - loss: 0.0070 - acc: 0.9974 - val_loss: 0.0441 - val_acc: 0.9885\n",
            "Epoch 45/50\n",
            "75/75 [==============================] - 8s 104ms/step - loss: 0.0107 - acc: 0.9963 - val_loss: 0.0464 - val_acc: 0.9877\n",
            "Epoch 46/50\n",
            "75/75 [==============================] - 8s 105ms/step - loss: 0.0123 - acc: 0.9953 - val_loss: 0.0415 - val_acc: 0.9884\n",
            "Epoch 47/50\n",
            "75/75 [==============================] - 8s 105ms/step - loss: 0.0112 - acc: 0.9963 - val_loss: 0.0474 - val_acc: 0.9871\n",
            "Epoch 48/50\n",
            "75/75 [==============================] - 8s 104ms/step - loss: 0.0098 - acc: 0.9966 - val_loss: 0.0495 - val_acc: 0.9866\n",
            "Epoch 49/50\n",
            "75/75 [==============================] - 8s 102ms/step - loss: 0.0133 - acc: 0.9952 - val_loss: 0.0421 - val_acc: 0.9883\n",
            "Epoch 50/50\n",
            "75/75 [==============================] - 8s 103ms/step - loss: 0.0126 - acc: 0.9953 - val_loss: 0.0482 - val_acc: 0.9874\n"
          ],
          "name": "stdout"
        }
      ]
    },
    {
      "cell_type": "markdown",
      "metadata": {
        "id": "_lmetVPa_-Sf",
        "colab_type": "text"
      },
      "source": [
        "# 4 ) Evaluating the Model Performance"
      ]
    },
    {
      "cell_type": "code",
      "metadata": {
        "id": "vf1aKD-y75Rp",
        "colab_type": "code",
        "outputId": "30e9eddf-7ab4-4156-88a3-386240dbcc86",
        "colab": {
          "base_uri": "https://localhost:8080/",
          "height": 317
        }
      },
      "source": [
        "plt.plot(History.history['loss'])\n",
        "plt.plot(History.history['val_loss'])\n",
        "plt.title('Model Loss')\n",
        "plt.ylabel('Loss')\n",
        "plt.xlabel('Epochs')\n",
        "plt.legend(['train', 'test'])\n",
        "plt.show()"
      ],
      "execution_count": 0,
      "outputs": [
        {
          "output_type": "display_data",
          "data": {
            "image/png": "[encoded data removed]",
            "text/plain": [
              "<Figure size 432x288 with 1 Axes>"
            ]
          },
          "metadata": {
            "tags": []
          }
        }
      ]
    },
    {
      "cell_type": "code",
      "metadata": {
        "id": "2rKOujgO7-Dg",
        "colab_type": "code",
        "outputId": "a92b35f0-e3e7-40ab-9ea6-2ebd5fba4940",
        "colab": {
          "base_uri": "https://localhost:8080/",
          "height": 317
        }
      },
      "source": [
        "plt.plot(History.history['acc'])\n",
        "plt.plot(History.history['val_acc'])\n",
        "plt.title('Model Accuracy')\n",
        "plt.ylabel('Accuracy')\n",
        "plt.xlabel('Epochs')\n",
        "plt.legend(['train', 'test'])\n",
        "plt.show()\n"
      ],
      "execution_count": 0,
      "outputs": [
        {
          "output_type": "display_data",
          "data": {
            "image/png": "[encoded data removed]",
            "text/plain": [
              "<Figure size 432x288 with 1 Axes>"
            ]
          },
          "metadata": {
            "tags": []
          }
        }
      ]
    },
    {
      "cell_type": "code",
      "metadata": {
        "id": "r1THS1Pq9lW-",
        "colab_type": "code",
        "outputId": "3e47cfba-ce45-457a-d586-44f9e802368e",
        "colab": {
          "base_uri": "https://localhost:8080/",
          "height": 550
        }
      },
      "source": [
        "# confusion matrix\n",
        "import seaborn as sns\n",
        "# Predict the values from the validation dataset\n",
        "Y_pred = model.predict(x_test)\n",
        "# Convert predictions classes to one hot vectors \n",
        "Y_pred_classes = np.argmax(Y_pred,axis = 1) \n",
        "# Convert validation observations to one hot vectors\n",
        "Y_true = np.argmax(y_test,axis = 1) \n",
        "# compute the confusion matrix\n",
        "confusion_mtx = confusion_matrix(Y_true, Y_pred_classes) \n",
        "# plot the confusion matrix\n",
        "f,ax = plt.subplots(figsize=(8, 8))\n",
        "sns.heatmap(confusion_mtx, annot=True, linewidths=0.01,cmap=\"Greens\",linecolor=\"gray\", fmt= '.1f',ax=ax)\n",
        "plt.xlabel(\"Predicted Label\")\n",
        "plt.ylabel(\"True Label\")\n",
        "plt.title(\"Confusion Matrix\")\n",
        "plt.show()"
      ],
      "execution_count": 0,
      "outputs": [
        {
          "output_type": "display_data",
          "data": {
            "image/png": "[encoded data removed]",
            "text/plain": [
              "<Figure size 576x576 with 2 Axes>"
            ]
          },
          "metadata": {
            "tags": []
          }
        }
      ]
    }
  ]
}